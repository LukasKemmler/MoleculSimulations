{
 "cells": [
  {
   "cell_type": "markdown",
   "metadata": {},
   "source": [
    "# First notebook. Learning about python, ipython notebooks"
   ]
  },
  {
   "cell_type": "markdown",
   "metadata": {},
   "source": [
    "## 1. Numpy Arrays"
   ]
  },
  {
   "cell_type": "code",
   "execution_count": 1,
   "metadata": {
    "collapsed": false
   },
   "outputs": [],
   "source": [
    "# importing some commonly used python libraries\n",
    "import numpy as np              # module for scientific computing\n",
    "import matplotlib.pyplot as plt # module for plotting \"a la\" matlab\n",
    "# this command conveniently allows you to show figures inline (i.e. within the notebook)\n",
    "%matplotlib inline"
   ]
  },
  {
   "cell_type": "code",
   "execution_count": 2,
   "metadata": {
    "collapsed": false
   },
   "outputs": [
    {
     "name": "stdout",
     "output_type": "stream",
     "text": [
      "[ 1.          1.17222222  1.34444444  1.51666667  1.68888889  1.86111111\n",
      "  2.03333333  2.20555556  2.37777778  2.55      ]\n",
      "Help on function linspace in module numpy.core.function_base:\n",
      "\n",
      "linspace(start, stop, num=50, endpoint=True, retstep=False, dtype=None)\n",
      "    Return evenly spaced numbers over a specified interval.\n",
      "    \n",
      "    Returns `num` evenly spaced samples, calculated over the\n",
      "    interval [`start`, `stop`].\n",
      "    \n",
      "    The endpoint of the interval can optionally be excluded.\n",
      "    \n",
      "    Parameters\n",
      "    ----------\n",
      "    start : scalar\n",
      "        The starting value of the sequence.\n",
      "    stop : scalar\n",
      "        The end value of the sequence, unless `endpoint` is set to False.\n",
      "        In that case, the sequence consists of all but the last of ``num + 1``\n",
      "        evenly spaced samples, so that `stop` is excluded.  Note that the step\n",
      "        size changes when `endpoint` is False.\n",
      "    num : int, optional\n",
      "        Number of samples to generate. Default is 50. Must be non-negative.\n",
      "    endpoint : bool, optional\n",
      "        If True, `stop` is the last sample. Otherwise, it is not included.\n",
      "        Default is True.\n",
      "    retstep : bool, optional\n",
      "        If True, return (`samples`, `step`), where `step` is the spacing\n",
      "        between samples.\n",
      "    dtype : dtype, optional\n",
      "        The type of the output array.  If `dtype` is not given, infer the data\n",
      "        type from the other input arguments.\n",
      "    \n",
      "        .. versionadded:: 1.9.0\n",
      "    \n",
      "    Returns\n",
      "    -------\n",
      "    samples : ndarray\n",
      "        There are `num` equally spaced samples in the closed interval\n",
      "        ``[start, stop]`` or the half-open interval ``[start, stop)``\n",
      "        (depending on whether `endpoint` is True or False).\n",
      "    step : float\n",
      "        Only returned if `retstep` is True\n",
      "    \n",
      "        Size of spacing between samples.\n",
      "    \n",
      "    \n",
      "    See Also\n",
      "    --------\n",
      "    arange : Similar to `linspace`, but uses a step size (instead of the\n",
      "             number of samples).\n",
      "    logspace : Samples uniformly distributed in log space.\n",
      "    \n",
      "    Examples\n",
      "    --------\n",
      "    >>> np.linspace(2.0, 3.0, num=5)\n",
      "        array([ 2.  ,  2.25,  2.5 ,  2.75,  3.  ])\n",
      "    >>> np.linspace(2.0, 3.0, num=5, endpoint=False)\n",
      "        array([ 2. ,  2.2,  2.4,  2.6,  2.8])\n",
      "    >>> np.linspace(2.0, 3.0, num=5, retstep=True)\n",
      "        (array([ 2.  ,  2.25,  2.5 ,  2.75,  3.  ]), 0.25)\n",
      "    \n",
      "    Graphical illustration:\n",
      "    \n",
      "    >>> import matplotlib.pyplot as plt\n",
      "    >>> N = 8\n",
      "    >>> y = np.zeros(N)\n",
      "    >>> x1 = np.linspace(0, 10, N, endpoint=True)\n",
      "    >>> x2 = np.linspace(0, 10, N, endpoint=False)\n",
      "    >>> plt.plot(x1, y, 'o')\n",
      "    [<matplotlib.lines.Line2D object at 0x...>]\n",
      "    >>> plt.plot(x2, y + 0.5, 'o')\n",
      "    [<matplotlib.lines.Line2D object at 0x...>]\n",
      "    >>> plt.ylim([-0.5, 1])\n",
      "    (-0.5, 1)\n",
      "    >>> plt.show()\n",
      "\n"
     ]
    }
   ],
   "source": [
    "# Create a one dimensional numpy array with 10 elements\n",
    "x = np.linspace(1, 2.55, 10)\n",
    "print(x)\n",
    "\n",
    "# what does np.linsapce exactly do?\n",
    "help(np.linspace)\n",
    "\n",
    "# once you are solid with the basics of a new programming language (e.g. ############################ webpage #):\n",
    "#   1.) use search engines to find solutions for your particular problem\n",
    "#       e.g.: search \"how print every odd element of array\" -> x[1::2]\n",
    "#   2.) once you find something cool, yet more involved (e.g., the \"pandas\" module in python),\n",
    "#       take time to learn about this by working through online tutorials\n",
    "#       - it's worth the effort, even if you won't remember everything right away\n",
    "#   3.) learn by examples: either from documentations or other people's code\n",
    "#   4.) learn by debugging: embrace to make, but even more to find mistakes in your code"
   ]
  },
  {
   "cell_type": "code",
   "execution_count": 3,
   "metadata": {
    "collapsed": false
   },
   "outputs": [
    {
     "name": "stdout",
     "output_type": "stream",
     "text": [
      "[ 1.          1.17222222  1.34444444  1.51666667  1.68888889  1.86111111\n",
      "  2.03333333  2.20555556  2.37777778  2.55      ]\n",
      "\n",
      "First and last element of array: 1.000000 2.5\n",
      "Second to 5th  element of array: [ 1.17222222  1.34444444  1.51666667  1.68888889]\n",
      "Reversed array: [ 2.55        2.37777778  2.20555556  2.03333333  1.86111111  1.68888889\n",
      "  1.51666667  1.34444444  1.17222222  1.        ]\n",
      "Reversed array with only odd elements until the 4th element:\n",
      " [ 2.55        2.20555556  1.86111111]\n"
     ]
    }
   ],
   "source": [
    "# learn about array slicing\n",
    "x = np.linspace(1, 2.55, 10)\n",
    "print(x)\n",
    "print()\n",
    "# numpy array indices are zero-based\n",
    "# note the formatted string used here with \"%f\" and \"%.1f\", which prints out a \"float\", i.e. an rational number,\n",
    "# e.g. \"%.1f\" prints out a float with one significant digit\n",
    "print(\"First and last element of array: %f %.1f\" % (x[0], x[-1]))\n",
    "# when slicing with \"i:j\", only elements until j-1 are included\n",
    "print(\"Second to 5th  element of array: %s\" % (x[1:5]))\n",
    "print(\"Reversed array: %s\" % x[::-1])\n",
    "print(\"Reversed array with only odd elements until the 4th element:\\n\", x[-1:4:-2])"
   ]
  },
  {
   "cell_type": "code",
   "execution_count": 4,
   "metadata": {
    "collapsed": false
   },
   "outputs": [
    {
     "name": "stdout",
     "output_type": "stream",
     "text": [
      "[ 1.          1.16666667  1.33333333  1.5         1.66666667  1.83333333\n",
      "  2.          2.16666667  2.33333333  2.5       ]\n",
      "Length of numpy array: 10\n",
      "Shape  of numpy array: (10,)\n",
      "\n",
      "[[1 2 3]\n",
      " [4 5 6]]\n",
      "Length of numpy array: 2\n",
      "Shape  of numpy array (rows, columns): (2, 3)\n",
      "Transpose of 2D-array:\n",
      " [[1 4]\n",
      " [2 5]\n",
      " [3 6]]\n"
     ]
    }
   ],
   "source": [
    "# one-dimensional array\n",
    "x = np.linspace(1, 2.5, 10)\n",
    "print(x)\n",
    "print(\"Length of numpy array:\", len(x))\n",
    "print(\"Shape  of numpy array:\", x.shape)\n",
    "\n",
    "print()\n",
    "# two-dimensional array, defined by a list of lists\n",
    "x = np.array([[1, 2, 3], [4, 5, 6]])\n",
    "print(x)\n",
    "print(\"Length of numpy array:\", len(x))\n",
    "print(\"Shape  of numpy array (rows, columns):\", x.shape)\n",
    "print(\"Transpose of 2D-array:\\n\", x.transpose() )"
   ]
  },
  {
   "cell_type": "markdown",
   "metadata": {},
   "source": [
    "## 2. Plotting"
   ]
  },
  {
   "cell_type": "code",
   "execution_count": 5,
   "metadata": {
    "collapsed": false
   },
   "outputs": [
    {
     "data": {
      "text/plain": [
       "<matplotlib.text.Text at 0x10e097390>"
      ]
     },
     "execution_count": 5,
     "metadata": {},
     "output_type": "execute_result"
    },
    {
     "data": {
      "image/png": "[encoded data removed]",
      "text/plain": [
       "<matplotlib.figure.Figure at 0x10ad437b8>"
      ]
     },
     "metadata": {},
     "output_type": "display_data"
    }
   ],
   "source": [
    "# learn a bit about plotting\n",
    "x = np.linspace(1,10, 100)\n",
    "plt.plot(x)\n",
    "plt.xlabel('index of array element')\n",
    "plt.ylabel('x')\n",
    "plt.title(\"Who let the dogs out?\")"
   ]
  },
  {
   "cell_type": "code",
   "execution_count": 6,
   "metadata": {
    "collapsed": false
   },
   "outputs": [],
   "source": [
    "# Now, let us create it so using variables that can be changed easily:\n",
    "xlow      = -2.0\n",
    "xhigh     = 2.\n",
    "ndiscrete = 2 * 120\n",
    "x = np.linspace(xlow, xhigh, ndiscrete)"
   ]
  },
  {
   "cell_type": "code",
   "execution_count": 7,
   "metadata": {
    "collapsed": false
   },
   "outputs": [
    {
     "data": {
      "text/plain": [
       "<matplotlib.legend.Legend at 0x10e2e7dd8>"
      ]
     },
     "execution_count": 7,
     "metadata": {},
     "output_type": "execute_result"
    },
    {
     "data": {
      "image/png": "[encoded data removed]",
      "text/plain": [
       "<matplotlib.figure.Figure at 0x10e0702b0>"
      ]
     },
     "metadata": {},
     "output_type": "display_data"
    }
   ],
   "source": [
    "plt.figure()\n",
    "plt.plot(range(len(x[120:])), 2.0 * x[120:], label = \"%s student learning curve\" % (\"motivated\"))\n",
    "plt.plot(range(len(x[120:])), 0.5 + 0.25 * x[120:], label = \"%12s student learning curve\" % (\"bored\"))\n",
    "plt.xlabel('class progression [min.]')\n",
    "plt.ylabel('Ultimate Wisdom [mana]')\n",
    "plt.title(\"Boredom kills Wisdom\")\n",
    "plt.legend()"
   ]
  },
  {
   "cell_type": "code",
   "execution_count": 8,
   "metadata": {
    "collapsed": false
   },
   "outputs": [],
   "source": [
    "# Next we learn how to write small, simple functions.\n",
    "# See how the mandatory arguments and the default values are defined\n",
    "def harm_pot(xinput, k=1, xo=0.0):\n",
    "    return k/2.*(xinput-xo)**2"
   ]
  },
  {
   "cell_type": "code",
   "execution_count": 9,
   "metadata": {
    "collapsed": false
   },
   "outputs": [
    {
     "data": {
      "text/plain": [
       "2.0"
      ]
     },
     "execution_count": 9,
     "metadata": {},
     "output_type": "execute_result"
    }
   ],
   "source": [
    "# Compute harmonic potential for the first element of x\n",
    "harm_pot(x[0])"
   ]
  },
  {
   "cell_type": "code",
   "execution_count": 10,
   "metadata": {
    "collapsed": false
   },
   "outputs": [
    {
     "data": {
      "text/plain": [
       "2.0"
      ]
     },
     "execution_count": 10,
     "metadata": {},
     "output_type": "execute_result"
    }
   ],
   "source": [
    "# Compute harmonic potential of the last element of x\n",
    "harm_pot(x[-1])"
   ]
  },
  {
   "cell_type": "code",
   "execution_count": 11,
   "metadata": {
    "collapsed": false
   },
   "outputs": [
    {
     "name": "stdout",
     "output_type": "stream",
     "text": [
      "0.5\n"
     ]
    }
   ],
   "source": [
    "# EXERCISE: look up the quick \"lambda\" way to define functions, call this function \"harm_pot_lambda\"\n",
    "harm_pot_lambda = lambda xinput, k, xo: k/2.*(xinput-xo)**2\n",
    "print(harm_pot_lambda(1,1,0.0))"
   ]
  },
  {
   "cell_type": "code",
   "execution_count": 12,
   "metadata": {
    "collapsed": false
   },
   "outputs": [
    {
     "data": {
      "text/plain": [
       "<matplotlib.text.Text at 0x10e2f9390>"
      ]
     },
     "execution_count": 12,
     "metadata": {},
     "output_type": "execute_result"
    },
    {
     "data": {
      "image/png": "[encoded data removed]",
      "text/plain": [
       "<matplotlib.figure.Figure at 0x10e30e7b8>"
      ]
     },
     "metadata": {},
     "output_type": "display_data"
    }
   ],
   "source": [
    "# Compute and plot harm_pot for the entire array x\n",
    "plt.plot(x, harm_pot(x, k=10))\n",
    "plt.xlabel('x')\n",
    "plt.ylabel('V(x)')"
   ]
  },
  {
   "cell_type": "code",
   "execution_count": 13,
   "metadata": {
    "collapsed": false
   },
   "outputs": [],
   "source": [
    "# Now, let us create an array with different force constants and see the effect \n",
    "# they have on the potential:\n",
    "k_vector=np.array([10, 25, 50, 100])"
   ]
  },
  {
   "cell_type": "code",
   "execution_count": 14,
   "metadata": {
    "collapsed": false
   },
   "outputs": [
    {
     "data": {
      "text/plain": [
       "<matplotlib.legend.Legend at 0x10e3f0e48>"
      ]
     },
     "execution_count": 14,
     "metadata": {},
     "output_type": "execute_result"
    },
    {
     "data": {
      "image/png": "[encoded data removed]",
      "text/plain": [
       "<matplotlib.figure.Figure at 0x10e4095f8>"
      ]
     },
     "metadata": {},
     "output_type": "display_data"
    }
   ],
   "source": [
    "plt.figure()\n",
    "# This way, we also learn how loops work and how the current plot axes work\n",
    "for myk in k_vector:\n",
    "    #### FIX ME, use the plotting function, the potential fucntion\n",
    "    #### (for pretty printing, use label='k = %u'%k at the end of the plotting function call\n",
    "    plt.plot(x, harm_pot(x, k = myk), label = myk)\n",
    "    \n",
    "plt.legend()"
   ]
  },
  {
   "cell_type": "code",
   "execution_count": 16,
   "metadata": {
    "collapsed": false
   },
   "outputs": [
    {
     "data": {
      "application/javascript": [
       "/* Put everything inside the global mpl namespace */\n",
       "window.mpl = {};\n",
       "\n",
       "\n",
       "mpl.get_websocket_type = function() {\n",
       "    if (typeof(WebSocket) !== 'undefined') {\n",
       "        return WebSocket;\n",
       "    } else if (typeof(MozWebSocket) !== 'undefined') {\n",
       "        return MozWebSocket;\n",
       "    } else {\n",
       "        alert('Your browser does not have WebSocket support.' +\n",
       "              'Please try Chrome, Safari or Firefox ≥ 6. ' +\n",
       "              'Firefox 4 and 5 are also supported but you ' +\n",
       "              'have to enable WebSockets in about:config.');\n",
       "    };\n",
       "}\n",
       "\n",
       "mpl.figure = function(figure_id, websocket, ondownload, parent_element) {\n",
       "    this.id = figure_id;\n",
       "\n",
       "    this.ws = websocket;\n",
       "\n",
       "    this.supports_binary = (this.ws.binaryType != undefined);\n",
       "\n",
       "    if (!this.supports_binary) {\n",
       "        var warnings = document.getElementById(\"mpl-warnings\");\n",
       "        if (warnings) {\n",
       "            warnings.style.display = 'block';\n",
       "            warnings.textContent = (\n",
       "                \"This browser does not support binary websocket messages. \" +\n",
       "                    \"Performance may be slow.\");\n",
       "        }\n",
       "    }\n",
       "\n",
       "    this.imageObj = new Image();\n",
       "\n",
       "    this.context = undefined;\n",
       "    this.message = undefined;\n",
       "    this.canvas = undefined;\n",
       "    this.rubberband_canvas = undefined;\n",
       "    this.rubberband_context = undefined;\n",
       "    this.format_dropdown = undefined;\n",
       "\n",
       "    this.image_mode = 'full';\n",
       "\n",
       "    this.root = $('<div/>');\n",
       "    this._root_extra_style(this.root)\n",
       "    this.root.attr('style', 'display: inline-block');\n",
       "\n",
       "    $(parent_element).append(this.root);\n",
       "\n",
       "    this._init_header(this);\n",
       "    this._init_canvas(this);\n",
       "    this._init_toolbar(this);\n",
       "\n",
       "    var fig = this;\n",
       "\n",
       "    this.waiting = false;\n",
       "\n",
       "    this.ws.onopen =  function () {\n",
       "            fig.send_message(\"supports_binary\", {value: fig.supports_binary});\n",
       "            fig.send_message(\"send_image_mode\", {});\n",
       "            if (mpl.ratio != 1) {\n",
       "                fig.send_message(\"set_dpi_ratio\", {'dpi_ratio': mpl.ratio});\n",
       "            }\n",
       "            fig.send_message(\"refresh\", {});\n",
       "        }\n",
       "\n",
       "    this.imageObj.onload = function() {\n",
       "            if (fig.image_mode == 'full') {\n",
       "                // Full images could contain transparency (where diff images\n",
       "                // almost always do), so we need to clear the canvas so that\n",
       "                // there is no ghosting.\n",
       "                fig.context.clearRect(0, 0, fig.canvas.width, fig.canvas.height);\n",
       "            }\n",
       "            fig.context.drawImage(fig.imageObj, 0, 0);\n",
       "        };\n",
       "\n",
       "    this.imageObj.onunload = function() {\n",
       "        this.ws.close();\n",
       "    }\n",
       "\n",
       "    this.ws.onmessage = this._make_on_message_function(this);\n",
       "\n",
       "    this.ondownload = ondownload;\n",
       "}\n",
       "\n",
       "mpl.figure.prototype._init_header = function() {\n",
       "    var titlebar = $(\n",
       "        '<div class=\"ui-dialog-titlebar ui-widget-header ui-corner-all ' +\n",
       "        'ui-helper-clearfix\"/>');\n",
       "    var titletext = $(\n",
       "        '<div class=\"ui-dialog-title\" style=\"width: 100%; ' +\n",
       "        'text-align: center; padding: 3px;\"/>');\n",
       "    titlebar.append(titletext)\n",
       "    this.root.append(titlebar);\n",
       "    this.header = titletext[0];\n",
       "}\n",
       "\n",
       "\n",
       "\n",
       "mpl.figure.prototype._canvas_extra_style = function(canvas_div) {\n",
       "\n",
       "}\n",
       "\n",
       "\n",
       "mpl.figure.prototype._root_extra_style = function(canvas_div) {\n",
       "\n",
       "}\n",
       "\n",
       "mpl.figure.prototype._init_canvas = function() {\n",
       "    var fig = this;\n",
       "\n",
       "    var canvas_div = $('<div/>');\n",
       "\n",
       "    canvas_div.attr('style', 'position: relative; clear: both; outline: 0');\n",
       "\n",
       "    function canvas_keyboard_event(event) {\n",
       "        return fig.key_event(event, event['data']);\n",
       "    }\n",
       "\n",
       "    canvas_div.keydown('key_press', canvas_keyboard_event);\n",
       "    canvas_div.keyup('key_release', canvas_keyboard_event);\n",
       "    this.canvas_div = canvas_div\n",
       "    this._canvas_extra_style(canvas_div)\n",
       "    this.root.append(canvas_div);\n",
       "\n",
       "    var canvas = $('<canvas/>');\n",
       "    canvas.addClass('mpl-canvas');\n",
       "    canvas.attr('style', \"left: 0; top: 0; z-index: 0; outline: 0\")\n",
       "\n",
       "    this.canvas = canvas[0];\n",
       "    this.context = canvas[0].getContext(\"2d\");\n",
       "\n",
       "    var backingStore = this.context.backingStorePixelRatio ||\n",
       "\tthis.context.webkitBackingStorePixelRatio ||\n",
       "\tthis.context.mozBackingStorePixelRatio ||\n",
       "\tthis.context.msBackingStorePixelRatio ||\n",
       "\tthis.context.oBackingStorePixelRatio ||\n",
       "\tthis.context.backingStorePixelRatio || 1;\n",
       "\n",
       "    mpl.ratio = (window.devicePixelRatio || 1) / backingStore;\n",
       "\n",
       "    var rubberband = $('<canvas/>');\n",
       "    rubberband.attr('style', \"position: absolute; left: 0; top: 0; z-index: 1;\")\n",
       "\n",
       "    var pass_mouse_events = true;\n",
       "\n",
       "    canvas_div.resizable({\n",
       "        start: function(event, ui) {\n",
       "            pass_mouse_events = false;\n",
       "        },\n",
       "        resize: function(event, ui) {\n",
       "            fig.request_resize(ui.size.width, ui.size.height);\n",
       "        },\n",
       "        stop: function(event, ui) {\n",
       "            pass_mouse_events = true;\n",
       "            fig.request_resize(ui.size.width, ui.size.height);\n",
       "        },\n",
       "    });\n",
       "\n",
       "    function mouse_event_fn(event) {\n",
       "        if (pass_mouse_events)\n",
       "            return fig.mouse_event(event, event['data']);\n",
       "    }\n",
       "\n",
       "    rubberband.mousedown('button_press', mouse_event_fn);\n",
       "    rubberband.mouseup('button_release', mouse_event_fn);\n",
       "    // Throttle sequential mouse events to 1 every 20ms.\n",
       "    rubberband.mousemove('motion_notify', mouse_event_fn);\n",
       "\n",
       "    rubberband.mouseenter('figure_enter', mouse_event_fn);\n",
       "    rubberband.mouseleave('figure_leave', mouse_event_fn);\n",
       "\n",
       "    canvas_div.on(\"wheel\", function (event) {\n",
       "        event = event.originalEvent;\n",
       "        event['data'] = 'scroll'\n",
       "        if (event.deltaY < 0) {\n",
       "            event.step = 1;\n",
       "        } else {\n",
       "            event.step = -1;\n",
       "        }\n",
       "        mouse_event_fn(event);\n",
       "    });\n",
       "\n",
       "    canvas_div.append(canvas);\n",
       "    canvas_div.append(rubberband);\n",
       "\n",
       "    this.rubberband = rubberband;\n",
       "    this.rubberband_canvas = rubberband[0];\n",
       "    this.rubberband_context = rubberband[0].getContext(\"2d\");\n",
       "    this.rubberband_context.strokeStyle = \"#000000\";\n",
       "\n",
       "    this._resize_canvas = function(width, height) {\n",
       "        // Keep the size of the canvas, canvas container, and rubber band\n",
       "        // canvas in synch.\n",
       "        canvas_div.css('width', width)\n",
       "        canvas_div.css('height', height)\n",
       "\n",
       "        canvas.attr('width', width * mpl.ratio);\n",
       "        canvas.attr('height', height * mpl.ratio);\n",
       "        canvas.attr('style', 'width: ' + width + 'px; height: ' + height + 'px;');\n",
       "\n",
       "        rubberband.attr('width', width);\n",
       "        rubberband.attr('height', height);\n",
       "    }\n",
       "\n",
       "    // Set the figure to an initial 600x600px, this will subsequently be updated\n",
       "    // upon first draw.\n",
       "    this._resize_canvas(600, 600);\n",
       "\n",
       "    // Disable right mouse context menu.\n",
       "    $(this.rubberband_canvas).bind(\"contextmenu\",function(e){\n",
       "        return false;\n",
       "    });\n",
       "\n",
       "    function set_focus () {\n",
       "        canvas.focus();\n",
       "        canvas_div.focus();\n",
       "    }\n",
       "\n",
       "    window.setTimeout(set_focus, 100);\n",
       "}\n",
       "\n",
       "mpl.figure.prototype._init_toolbar = function() {\n",
       "    var fig = this;\n",
       "\n",
       "    var nav_element = $('<div/>')\n",
       "    nav_element.attr('style', 'width: 100%');\n",
       "    this.root.append(nav_element);\n",
       "\n",
       "    // Define a callback function for later on.\n",
       "    function toolbar_event(event) {\n",
       "        return fig.toolbar_button_onclick(event['data']);\n",
       "    }\n",
       "    function toolbar_mouse_event(event) {\n",
       "        return fig.toolbar_button_onmouseover(event['data']);\n",
       "    }\n",
       "\n",
       "    for(var toolbar_ind in mpl.toolbar_items) {\n",
       "        var name = mpl.toolbar_items[toolbar_ind][0];\n",
       "        var tooltip = mpl.toolbar_items[toolbar_ind][1];\n",
       "        var image = mpl.toolbar_items[toolbar_ind][2];\n",
       "        var method_name = mpl.toolbar_items[toolbar_ind][3];\n",
       "\n",
       "        if (!name) {\n",
       "            // put a spacer in here.\n",
       "            continue;\n",
       "        }\n",
       "        var button = $('<button/>');\n",
       "        button.addClass('ui-button ui-widget ui-state-default ui-corner-all ' +\n",
       "                        'ui-button-icon-only');\n",
       "        button.attr('role', 'button');\n",
       "        button.attr('aria-disabled', 'false');\n",
       "        button.click(method_name, toolbar_event);\n",
       "        button.mouseover(tooltip, toolbar_mouse_event);\n",
       "\n",
       "        var icon_img = $('<span/>');\n",
       "        icon_img.addClass('ui-button-icon-primary ui-icon');\n",
       "        icon_img.addClass(image);\n",
       "        icon_img.addClass('ui-corner-all');\n",
       "\n",
       "        var tooltip_span = $('<span/>');\n",
       "        tooltip_span.addClass('ui-button-text');\n",
       "        tooltip_span.html(tooltip);\n",
       "\n",
       "        button.append(icon_img);\n",
       "        button.append(tooltip_span);\n",
       "\n",
       "        nav_element.append(button);\n",
       "    }\n",
       "\n",
       "    var fmt_picker_span = $('<span/>');\n",
       "\n",
       "    var fmt_picker = $('<select/>');\n",
       "    fmt_picker.addClass('mpl-toolbar-option ui-widget ui-widget-content');\n",
       "    fmt_picker_span.append(fmt_picker);\n",
       "    nav_element.append(fmt_picker_span);\n",
       "    this.format_dropdown = fmt_picker[0];\n",
       "\n",
       "    for (var ind in mpl.extensions) {\n",
       "        var fmt = mpl.extensions[ind];\n",
       "        var option = $(\n",
       "            '<option/>', {selected: fmt === mpl.default_extension}).html(fmt);\n",
       "        fmt_picker.append(option)\n",
       "    }\n",
       "\n",
       "    // Add hover states to the ui-buttons\n",
       "    $( \".ui-button\" ).hover(\n",
       "        function() { $(this).addClass(\"ui-state-hover\");},\n",
       "        function() { $(this).removeClass(\"ui-state-hover\");}\n",
       "    );\n",
       "\n",
       "    var status_bar = $('<span class=\"mpl-message\"/>');\n",
       "    nav_element.append(status_bar);\n",
       "    this.message = status_bar[0];\n",
       "}\n",
       "\n",
       "mpl.figure.prototype.request_resize = function(x_pixels, y_pixels) {\n",
       "    // Request matplotlib to resize the figure. Matplotlib will then trigger a resize in the client,\n",
       "    // which will in turn request a refresh of the image.\n",
       "    this.send_message('resize', {'width': x_pixels, 'height': y_pixels});\n",
       "}\n",
       "\n",
       "mpl.figure.prototype.send_message = function(type, properties) {\n",
       "    properties['type'] = type;\n",
       "    properties['figure_id'] = this.id;\n",
       "    this.ws.send(JSON.stringify(properties));\n",
       "}\n",
       "\n",
       "mpl.figure.prototype.send_draw_message = function() {\n",
       "    if (!this.waiting) {\n",
       "        this.waiting = true;\n",
       "        this.ws.send(JSON.stringify({type: \"draw\", figure_id: this.id}));\n",
       "    }\n",
       "}\n",
       "\n",
       "\n",
       "mpl.figure.prototype.handle_save = function(fig, msg) {\n",
       "    var format_dropdown = fig.format_dropdown;\n",
       "    var format = format_dropdown.options[format_dropdown.selectedIndex].value;\n",
       "    fig.ondownload(fig, format);\n",
       "}\n",
       "\n",
       "\n",
       "mpl.figure.prototype.handle_resize = function(fig, msg) {\n",
       "    var size = msg['size'];\n",
       "    if (size[0] != fig.canvas.width || size[1] != fig.canvas.height) {\n",
       "        fig._resize_canvas(size[0], size[1]);\n",
       "        fig.send_message(\"refresh\", {});\n",
       "    };\n",
       "}\n",
       "\n",
       "mpl.figure.prototype.handle_rubberband = function(fig, msg) {\n",
       "    var x0 = msg['x0'] / mpl.ratio;\n",
       "    var y0 = (fig.canvas.height - msg['y0']) / mpl.ratio;\n",
       "    var x1 = msg['x1'] / mpl.ratio;\n",
       "    var y1 = (fig.canvas.height - msg['y1']) / mpl.ratio;\n",
       "    x0 = Math.floor(x0) + 0.5;\n",
       "    y0 = Math.floor(y0) + 0.5;\n",
       "    x1 = Math.floor(x1) + 0.5;\n",
       "    y1 = Math.floor(y1) + 0.5;\n",
       "    var min_x = Math.min(x0, x1);\n",
       "    var min_y = Math.min(y0, y1);\n",
       "    var width = Math.abs(x1 - x0);\n",
       "    var height = Math.abs(y1 - y0);\n",
       "\n",
       "    fig.rubberband_context.clearRect(\n",
       "        0, 0, fig.canvas.width, fig.canvas.height);\n",
       "\n",
       "    fig.rubberband_context.strokeRect(min_x, min_y, width, height);\n",
       "}\n",
       "\n",
       "mpl.figure.prototype.handle_figure_label = function(fig, msg) {\n",
       "    // Updates the figure title.\n",
       "    fig.header.textContent = msg['label'];\n",
       "}\n",
       "\n",
       "mpl.figure.prototype.handle_cursor = function(fig, msg) {\n",
       "    var cursor = msg['cursor'];\n",
       "    switch(cursor)\n",
       "    {\n",
       "    case 0:\n",
       "        cursor = 'pointer';\n",
       "        break;\n",
       "    case 1:\n",
       "        cursor = 'default';\n",
       "        break;\n",
       "    case 2:\n",
       "        cursor = 'crosshair';\n",
       "        break;\n",
       "    case 3:\n",
       "        cursor = 'move';\n",
       "        break;\n",
       "    }\n",
       "    fig.rubberband_canvas.style.cursor = cursor;\n",
       "}\n",
       "\n",
       "mpl.figure.prototype.handle_message = function(fig, msg) {\n",
       "    fig.message.textContent = msg['message'];\n",
       "}\n",
       "\n",
       "mpl.figure.prototype.handle_draw = function(fig, msg) {\n",
       "    // Request the server to send over a new figure.\n",
       "    fig.send_draw_message();\n",
       "}\n",
       "\n",
       "mpl.figure.prototype.handle_image_mode = function(fig, msg) {\n",
       "    fig.image_mode = msg['mode'];\n",
       "}\n",
       "\n",
       "mpl.figure.prototype.updated_canvas_event = function() {\n",
       "    // Called whenever the canvas gets updated.\n",
       "    this.send_message(\"ack\", {});\n",
       "}\n",
       "\n",
       "// A function to construct a web socket function for onmessage handling.\n",
       "// Called in the figure constructor.\n",
       "mpl.figure.prototype._make_on_message_function = function(fig) {\n",
       "    return function socket_on_message(evt) {\n",
       "        if (evt.data instanceof Blob) {\n",
       "            /* FIXME: We get \"Resource interpreted as Image but\n",
       "             * transferred with MIME type text/plain:\" errors on\n",
       "             * Chrome.  But how to set the MIME type?  It doesn't seem\n",
       "             * to be part of the websocket stream */\n",
       "            evt.data.type = \"image/png\";\n",
       "\n",
       "            /* Free the memory for the previous frames */\n",
       "            if (fig.imageObj.src) {\n",
       "                (window.URL || window.webkitURL).revokeObjectURL(\n",
       "                    fig.imageObj.src);\n",
       "            }\n",
       "\n",
       "            fig.imageObj.src = (window.URL || window.webkitURL).createObjectURL(\n",
       "                evt.data);\n",
       "            fig.updated_canvas_event();\n",
       "            fig.waiting = false;\n",
       "            return;\n",
       "        }\n",
       "        else if (typeof evt.data === 'string' && evt.data.slice(0, 21) == \"data:image/png;base64\") {\n",
       "            fig.imageObj.src = evt.data;\n",
       "            fig.updated_canvas_event();\n",
       "            fig.waiting = false;\n",
       "            return;\n",
       "        }\n",
       "\n",
       "        var msg = JSON.parse(evt.data);\n",
       "        var msg_type = msg['type'];\n",
       "\n",
       "        // Call the  \"handle_{type}\" callback, which takes\n",
       "        // the figure and JSON message as its only arguments.\n",
       "        try {\n",
       "            var callback = fig[\"handle_\" + msg_type];\n",
       "        } catch (e) {\n",
       "            console.log(\"No handler for the '\" + msg_type + \"' message type: \", msg);\n",
       "            return;\n",
       "        }\n",
       "\n",
       "        if (callback) {\n",
       "            try {\n",
       "                // console.log(\"Handling '\" + msg_type + \"' message: \", msg);\n",
       "                callback(fig, msg);\n",
       "            } catch (e) {\n",
       "                console.log(\"Exception inside the 'handler_\" + msg_type + \"' callback:\", e, e.stack, msg);\n",
       "            }\n",
       "        }\n",
       "    };\n",
       "}\n",
       "\n",
       "// from http://stackoverflow.com/questions/1114465/getting-mouse-location-in-canvas\n",
       "mpl.findpos = function(e) {\n",
       "    //this section is from http://www.quirksmode.org/js/events_properties.html\n",
       "    var targ;\n",
       "    if (!e)\n",
       "        e = window.event;\n",
       "    if (e.target)\n",
       "        targ = e.target;\n",
       "    else if (e.srcElement)\n",
       "        targ = e.srcElement;\n",
       "    if (targ.nodeType == 3) // defeat Safari bug\n",
       "        targ = targ.parentNode;\n",
       "\n",
       "    // jQuery normalizes the pageX and pageY\n",
       "    // pageX,Y are the mouse positions relative to the document\n",
       "    // offset() returns the position of the element relative to the document\n",
       "    var x = e.pageX - $(targ).offset().left;\n",
       "    var y = e.pageY - $(targ).offset().top;\n",
       "\n",
       "    return {\"x\": x, \"y\": y};\n",
       "};\n",
       "\n",
       "/*\n",
       " * return a copy of an object with only non-object keys\n",
       " * we need this to avoid circular references\n",
       " * http://stackoverflow.com/a/24161582/3208463\n",
       " */\n",
       "function simpleKeys (original) {\n",
       "  return Object.keys(original).reduce(function (obj, key) {\n",
       "    if (typeof original[key] !== 'object')\n",
       "        obj[key] = original[key]\n",
       "    return obj;\n",
       "  }, {});\n",
       "}\n",
       "\n",
       "mpl.figure.prototype.mouse_event = function(event, name) {\n",
       "    var canvas_pos = mpl.findpos(event)\n",
       "\n",
       "    if (name === 'button_press')\n",
       "    {\n",
       "        this.canvas.focus();\n",
       "        this.canvas_div.focus();\n",
       "    }\n",
       "\n",
       "    var x = canvas_pos.x * mpl.ratio;\n",
       "    var y = canvas_pos.y * mpl.ratio;\n",
       "\n",
       "    this.send_message(name, {x: x, y: y, button: event.button,\n",
       "                             step: event.step,\n",
       "                             guiEvent: simpleKeys(event)});\n",
       "\n",
       "    /* This prevents the web browser from automatically changing to\n",
       "     * the text insertion cursor when the button is pressed.  We want\n",
       "     * to control all of the cursor setting manually through the\n",
       "     * 'cursor' event from matplotlib */\n",
       "    event.preventDefault();\n",
       "    return false;\n",
       "}\n",
       "\n",
       "mpl.figure.prototype._key_event_extra = function(event, name) {\n",
       "    // Handle any extra behaviour associated with a key event\n",
       "}\n",
       "\n",
       "mpl.figure.prototype.key_event = function(event, name) {\n",
       "\n",
       "    // Prevent repeat events\n",
       "    if (name == 'key_press')\n",
       "    {\n",
       "        if (event.which === this._key)\n",
       "            return;\n",
       "        else\n",
       "            this._key = event.which;\n",
       "    }\n",
       "    if (name == 'key_release')\n",
       "        this._key = null;\n",
       "\n",
       "    var value = '';\n",
       "    if (event.ctrlKey && event.which != 17)\n",
       "        value += \"ctrl+\";\n",
       "    if (event.altKey && event.which != 18)\n",
       "        value += \"alt+\";\n",
       "    if (event.shiftKey && event.which != 16)\n",
       "        value += \"shift+\";\n",
       "\n",
       "    value += 'k';\n",
       "    value += event.which.toString();\n",
       "\n",
       "    this._key_event_extra(event, name);\n",
       "\n",
       "    this.send_message(name, {key: value,\n",
       "                             guiEvent: simpleKeys(event)});\n",
       "    return false;\n",
       "}\n",
       "\n",
       "mpl.figure.prototype.toolbar_button_onclick = function(name) {\n",
       "    if (name == 'download') {\n",
       "        this.handle_save(this, null);\n",
       "    } else {\n",
       "        this.send_message(\"toolbar_button\", {name: name});\n",
       "    }\n",
       "};\n",
       "\n",
       "mpl.figure.prototype.toolbar_button_onmouseover = function(tooltip) {\n",
       "    this.message.textContent = tooltip;\n",
       "};\n",
       "mpl.toolbar_items = [[\"Home\", \"Reset original view\", \"fa fa-home icon-home\", \"home\"], [\"Back\", \"Back to  previous view\", \"fa fa-arrow-left icon-arrow-left\", \"back\"], [\"Forward\", \"Forward to next view\", \"fa fa-arrow-right icon-arrow-right\", \"forward\"], [\"\", \"\", \"\", \"\"], [\"Pan\", \"Pan axes with left mouse, zoom with right\", \"fa fa-arrows icon-move\", \"pan\"], [\"Zoom\", \"Zoom to rectangle\", \"fa fa-square-o icon-check-empty\", \"zoom\"], [\"\", \"\", \"\", \"\"], [\"Download\", \"Download plot\", \"fa fa-floppy-o icon-save\", \"download\"]];\n",
       "\n",
       "mpl.extensions = [\"eps\", \"pdf\", \"png\", \"ps\", \"raw\", \"svg\"];\n",
       "\n",
       "mpl.default_extension = \"png\";var comm_websocket_adapter = function(comm) {\n",
       "    // Create a \"websocket\"-like object which calls the given IPython comm\n",
       "    // object with the appropriate methods. Currently this is a non binary\n",
       "    // socket, so there is still some room for performance tuning.\n",
       "    var ws = {};\n",
       "\n",
       "    ws.close = function() {\n",
       "        comm.close()\n",
       "    };\n",
       "    ws.send = function(m) {\n",
       "        //console.log('sending', m);\n",
       "        comm.send(m);\n",
       "    };\n",
       "    // Register the callback with on_msg.\n",
       "    comm.on_msg(function(msg) {\n",
       "        //console.log('receiving', msg['content']['data'], msg);\n",
       "        // Pass the mpl event to the overriden (by mpl) onmessage function.\n",
       "        ws.onmessage(msg['content']['data'])\n",
       "    });\n",
       "    return ws;\n",
       "}\n",
       "\n",
       "mpl.mpl_figure_comm = function(comm, msg) {\n",
       "    // This is the function which gets called when the mpl process\n",
       "    // starts-up an IPython Comm through the \"matplotlib\" channel.\n",
       "\n",
       "    var id = msg.content.data.id;\n",
       "    // Get hold of the div created by the display call when the Comm\n",
       "    // socket was opened in Python.\n",
       "    var element = $(\"#\" + id);\n",
       "    var ws_proxy = comm_websocket_adapter(comm)\n",
       "\n",
       "    function ondownload(figure, format) {\n",
       "        window.open(figure.imageObj.src);\n",
       "    }\n",
       "\n",
       "    var fig = new mpl.figure(id, ws_proxy,\n",
       "                           ondownload,\n",
       "                           element.get(0));\n",
       "\n",
       "    // Call onopen now - mpl needs it, as it is assuming we've passed it a real\n",
       "    // web socket which is closed, not our websocket->open comm proxy.\n",
       "    ws_proxy.onopen();\n",
       "\n",
       "    fig.parent_element = element.get(0);\n",
       "    fig.cell_info = mpl.find_output_cell(\"<div id='\" + id + \"'></div>\");\n",
       "    if (!fig.cell_info) {\n",
       "        console.error(\"Failed to find cell for figure\", id, fig);\n",
       "        return;\n",
       "    }\n",
       "\n",
       "    var output_index = fig.cell_info[2]\n",
       "    var cell = fig.cell_info[0];\n",
       "\n",
       "};\n",
       "\n",
       "mpl.figure.prototype.handle_close = function(fig, msg) {\n",
       "    var width = fig.canvas.width/mpl.ratio\n",
       "    fig.root.unbind('remove')\n",
       "\n",
       "    // Update the output cell to use the data from the current canvas.\n",
       "    fig.push_to_output();\n",
       "    var dataURL = fig.canvas.toDataURL();\n",
       "    // Re-enable the keyboard manager in IPython - without this line, in FF,\n",
       "    // the notebook keyboard shortcuts fail.\n",
       "    IPython.keyboard_manager.enable()\n",
       "    $(fig.parent_element).html('<img src=\"' + dataURL + '\" width=\"' + width + '\">');\n",
       "    fig.close_ws(fig, msg);\n",
       "}\n",
       "\n",
       "mpl.figure.prototype.close_ws = function(fig, msg){\n",
       "    fig.send_message('closing', msg);\n",
       "    // fig.ws.close()\n",
       "}\n",
       "\n",
       "mpl.figure.prototype.push_to_output = function(remove_interactive) {\n",
       "    // Turn the data on the canvas into data in the output cell.\n",
       "    var width = this.canvas.width/mpl.ratio\n",
       "    var dataURL = this.canvas.toDataURL();\n",
       "    this.cell_info[1]['text/html'] = '<img src=\"' + dataURL + '\" width=\"' + width + '\">';\n",
       "}\n",
       "\n",
       "mpl.figure.prototype.updated_canvas_event = function() {\n",
       "    // Tell IPython that the notebook contents must change.\n",
       "    IPython.notebook.set_dirty(true);\n",
       "    this.send_message(\"ack\", {});\n",
       "    var fig = this;\n",
       "    // Wait a second, then push the new image to the DOM so\n",
       "    // that it is saved nicely (might be nice to debounce this).\n",
       "    setTimeout(function () { fig.push_to_output() }, 1000);\n",
       "}\n",
       "\n",
       "mpl.figure.prototype._init_toolbar = function() {\n",
       "    var fig = this;\n",
       "\n",
       "    var nav_element = $('<div/>')\n",
       "    nav_element.attr('style', 'width: 100%');\n",
       "    this.root.append(nav_element);\n",
       "\n",
       "    // Define a callback function for later on.\n",
       "    function toolbar_event(event) {\n",
       "        return fig.toolbar_button_onclick(event['data']);\n",
       "    }\n",
       "    function toolbar_mouse_event(event) {\n",
       "        return fig.toolbar_button_onmouseover(event['data']);\n",
       "    }\n",
       "\n",
       "    for(var toolbar_ind in mpl.toolbar_items){\n",
       "        var name = mpl.toolbar_items[toolbar_ind][0];\n",
       "        var tooltip = mpl.toolbar_items[toolbar_ind][1];\n",
       "        var image = mpl.toolbar_items[toolbar_ind][2];\n",
       "        var method_name = mpl.toolbar_items[toolbar_ind][3];\n",
       "\n",
       "        if (!name) { continue; };\n",
       "\n",
       "        var button = $('<button class=\"btn btn-default\" href=\"#\" title=\"' + name + '\"><i class=\"fa ' + image + ' fa-lg\"></i></button>');\n",
       "        button.click(method_name, toolbar_event);\n",
       "        button.mouseover(tooltip, toolbar_mouse_event);\n",
       "        nav_element.append(button);\n",
       "    }\n",
       "\n",
       "    // Add the status bar.\n",
       "    var status_bar = $('<span class=\"mpl-message\" style=\"text-align:right; float: right;\"/>');\n",
       "    nav_element.append(status_bar);\n",
       "    this.message = status_bar[0];\n",
       "\n",
       "    // Add the close button to the window.\n",
       "    var buttongrp = $('<div class=\"btn-group inline pull-right\"></div>');\n",
       "    var button = $('<button class=\"btn btn-mini btn-primary\" href=\"#\" title=\"Stop Interaction\"><i class=\"fa fa-power-off icon-remove icon-large\"></i></button>');\n",
       "    button.click(function (evt) { fig.handle_close(fig, {}); } );\n",
       "    button.mouseover('Stop Interaction', toolbar_mouse_event);\n",
       "    buttongrp.append(button);\n",
       "    var titlebar = this.root.find($('.ui-dialog-titlebar'));\n",
       "    titlebar.prepend(buttongrp);\n",
       "}\n",
       "\n",
       "mpl.figure.prototype._root_extra_style = function(el){\n",
       "    var fig = this\n",
       "    el.on(\"remove\", function(){\n",
       "\tfig.close_ws(fig, {});\n",
       "    });\n",
       "}\n",
       "\n",
       "mpl.figure.prototype._canvas_extra_style = function(el){\n",
       "    // this is important to make the div 'focusable\n",
       "    el.attr('tabindex', 0)\n",
       "    // reach out to IPython and tell the keyboard manager to turn it's self\n",
       "    // off when our div gets focus\n",
       "\n",
       "    // location in version 3\n",
       "    if (IPython.notebook.keyboard_manager) {\n",
       "        IPython.notebook.keyboard_manager.register_events(el);\n",
       "    }\n",
       "    else {\n",
       "        // location in version 2\n",
       "        IPython.keyboard_manager.register_events(el);\n",
       "    }\n",
       "\n",
       "}\n",
       "\n",
       "mpl.figure.prototype._key_event_extra = function(event, name) {\n",
       "    var manager = IPython.notebook.keyboard_manager;\n",
       "    if (!manager)\n",
       "        manager = IPython.keyboard_manager;\n",
       "\n",
       "    // Check for shift+enter\n",
       "    if (event.shiftKey && event.which == 13) {\n",
       "        this.canvas_div.blur();\n",
       "        // select the cell after this one\n",
       "        var index = IPython.notebook.find_cell_index(this.cell_info[0]);\n",
       "        IPython.notebook.select(index + 1);\n",
       "    }\n",
       "}\n",
       "\n",
       "mpl.figure.prototype.handle_save = function(fig, msg) {\n",
       "    fig.ondownload(fig, null);\n",
       "}\n",
       "\n",
       "\n",
       "mpl.find_output_cell = function(html_output) {\n",
       "    // Return the cell and output element which can be found *uniquely* in the notebook.\n",
       "    // Note - this is a bit hacky, but it is done because the \"notebook_saving.Notebook\"\n",
       "    // IPython event is triggered only after the cells have been serialised, which for\n",
       "    // our purposes (turning an active figure into a static one), is too late.\n",
       "    var cells = IPython.notebook.get_cells();\n",
       "    var ncells = cells.length;\n",
       "    for (var i=0; i<ncells; i++) {\n",
       "        var cell = cells[i];\n",
       "        if (cell.cell_type === 'code'){\n",
       "            for (var j=0; j<cell.output_area.outputs.length; j++) {\n",
       "                var data = cell.output_area.outputs[j];\n",
       "                if (data.data) {\n",
       "                    // IPython >= 3 moved mimebundle to data attribute of output\n",
       "                    data = data.data;\n",
       "                }\n",
       "                if (data['text/html'] == html_output) {\n",
       "                    return [cell, data, j];\n",
       "                }\n",
       "            }\n",
       "        }\n",
       "    }\n",
       "}\n",
       "\n",
       "// Register the function which deals with the matplotlib target/channel.\n",
       "// The kernel may be null if the page has been refreshed.\n",
       "if (IPython.notebook.kernel != null) {\n",
       "    IPython.notebook.kernel.comm_manager.register_target('matplotlib', mpl.mpl_figure_comm);\n",
       "}\n"
      ],
      "text/plain": [
       "<IPython.core.display.Javascript object>"
      ]
     },
     "metadata": {},
     "output_type": "display_data"
    },
    {
     "data": {
      "text/html": [
       "<img src=\"data:image/png;base64,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\" width=\"432\">"
      ],
      "text/plain": [
       "<IPython.core.display.HTML object>"
      ]
     },
     "metadata": {},
     "output_type": "display_data"
    },
    {
     "data": {
      "text/plain": [
       "<matplotlib.legend.Legend at 0x10e6c1b70>"
      ]
     },
     "execution_count": 16,
     "metadata": {},
     "output_type": "execute_result"
    }
   ],
   "source": [
    "import matplotlib as mpl\n",
    "from mpl_toolkits.mplot3d import Axes3D\n",
    "%matplotlib notebook\n",
    "\n",
    "mpl.rcParams['legend.fontsize'] = 10\n",
    "fig = plt.figure()\n",
    "ax = fig.gca(projection='3d')\n",
    "theta = np.linspace(-4 * np.pi, 4 * np.pi, 100)\n",
    "z = np.linspace(-2, 2, 100)\n",
    "r = z**2 + 1\n",
    "x = r * np.sin(theta)\n",
    "y = r * np.cos(theta)\n",
    "ax.plot(x, y, z, label='parametric curve')\n",
    "ax.legend()"
   ]
  },
  {
   "cell_type": "code",
   "execution_count": 17,
   "metadata": {
    "collapsed": true
   },
   "outputs": [],
   "source": [
    "%matplotlib inline"
   ]
  },
  {
   "cell_type": "markdown",
   "metadata": {},
   "source": [
    "## 3. Random Numbers"
   ]
  },
  {
   "cell_type": "code",
   "execution_count": 18,
   "metadata": {
    "collapsed": false
   },
   "outputs": [
    {
     "name": "stdout",
     "output_type": "stream",
     "text": [
      "[ 0.49221958  0.18994698  0.87040487  0.91889422  0.95279613  0.89803587\n",
      "  0.59959526  0.19897316  0.78804524  0.02828284  0.81923394  0.26764882\n",
      "  0.30745941  0.87947017  0.97037788  0.36323568  0.65615324  0.17967786\n",
      "  0.11476099  0.98780353  0.83219733  0.91065348  0.06911579  0.91595767\n",
      "  0.74407483  0.94172237  0.57382793  0.0666107   0.03072129  0.87068432\n",
      "  0.56667454  0.15390202  0.35055606  0.23956725  0.51017271  0.39934043\n",
      "  0.83433961  0.55011729  0.78776538  0.17500197  0.61703649  0.0846876\n",
      "  0.16984563  0.4122442   0.64433559  0.58958118  0.25630051  0.47255024\n",
      "  0.48851043  0.07548629]\n"
     ]
    }
   ],
   "source": [
    "# Learn how to draw uniformly random numbers in python\n",
    "r = np.random.rand(100000)\n",
    "# Print the first 100 entries\n",
    "print(r[:50])"
   ]
  },
  {
   "cell_type": "code",
   "execution_count": 20,
   "metadata": {
    "collapsed": false
   },
   "outputs": [
    {
     "data": {
      "text/plain": [
       "<matplotlib.legend.Legend at 0x10e99bba8>"
      ]
     },
     "execution_count": 20,
     "metadata": {},
     "output_type": "execute_result"
    },
    {
     "data": {
      "image/png": "[encoded data removed]",
      "text/plain": [
       "<matplotlib.figure.Figure at 0x10e752518>"
      ]
     },
     "metadata": {},
     "output_type": "display_data"
    }
   ],
   "source": [
    "%matplotlib inline\n",
    "#\n",
    "# Learn how to histogram an array\n",
    "h, x_edges = np.histogram(r, bins = 50)\n",
    "\n",
    "# EXERCISE: Plot the histogram frequencies together with the mean of these frequencies\n",
    "#           hint: to plot the mean for each data point of the histogram frequencies,\n",
    "#                 use np.mean(h) *  np.ones(len(h))\n",
    "\n",
    "# Plot the histogram, it should be close to a uniform distribution\n",
    "plt.plot(x_edges[:-1], h, label = \"histogram frequency\")\n",
    "plt.plot(x_edges[:-1], np.mean(h) *  np.ones(len(h)), label = \"mean frequency\")\n",
    "#plt.errorbar(x_edges[:-1:2], mymean, yerr = mysd, label = \"mean frequency\")\n",
    "plt.legend()"
   ]
  },
  {
   "cell_type": "code",
   "execution_count": 22,
   "metadata": {
    "collapsed": false
   },
   "outputs": [
    {
     "data": {
      "text/plain": [
       "<matplotlib.legend.Legend at 0x10f021e80>"
      ]
     },
     "execution_count": 22,
     "metadata": {},
     "output_type": "execute_result"
    },
    {
     "data": {
      "image/png": "[encoded data removed]",
      "text/plain": [
       "<matplotlib.figure.Figure at 0x10ea10080>"
      ]
     },
     "metadata": {},
     "output_type": "display_data"
    }
   ],
   "source": [
    "%matplotlib inline\n",
    "\n",
    "# probability density of the normal distribution \n",
    "def prob_dens_normal(x, mu, sigma):\n",
    "        return 1/(sigma * np.sqrt(2 * np.pi)) * np.exp( - (x - mu)**2 / (2 * sigma**2))\n",
    "\n",
    "# sample from a normal distribution\n",
    "numsamples = 10000\n",
    "mymu       = 0\n",
    "mysigma    = 1\n",
    "r = np.random.normal(loc = mymu, scale = mysigma, size = numsamples)\n",
    "\n",
    "# EXERCISE: \n",
    "# Plot the histogram *density* frequencies together with the corresponding probability density\n",
    "# Bonus exercise: plot the frequencies to together with error bars, using plt.errorbar\n",
    "#                 (come up with a resaonable uncertainty measure for the error bars given \"yerr\")\n",
    "h, x_edges = np.histogram(r, bins = 50, density = True)\n",
    "\n",
    "x = np.linspace(-4, 4, 50)\n",
    "plt.title(\"Normal Distribution\")\n",
    "plt.plot(x, prob_dens_normal(x, mymu, mysigma), label = \"prob. density\")\n",
    "plt.errorbar(x_edges[:-1], h, yerr = np.abs(h - prob_dens_normal(x_edges[:-1], mymu, mysigma)), label = \"histogram frequency\")\n",
    "plt.legend()"
   ]
  },
  {
   "cell_type": "code",
   "execution_count": null,
   "metadata": {
    "collapsed": false
   },
   "outputs": [],
   "source": []
  }
 ],
 "metadata": {
  "kernelspec": {
   "display_name": "Python 3",
   "language": "python",
   "name": "python3"
  },
  "language_info": {
   "codemirror_mode": {
    "name": "ipython",
    "version": 3
   },
   "file_extension": ".py",
   "mimetype": "text/x-python",
   "name": "python",
   "nbconvert_exporter": "python",
   "pygments_lexer": "ipython3",
   "version": "3.5.2"
  }
 },
 "nbformat": 4,
 "nbformat_minor": 0
}
