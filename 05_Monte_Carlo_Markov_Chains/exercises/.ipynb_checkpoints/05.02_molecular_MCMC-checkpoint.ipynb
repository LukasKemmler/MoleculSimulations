{
 "cells": [
  {
   "cell_type": "code",
   "execution_count": null,
   "metadata": {
    "collapsed": true
   },
   "outputs": [],
   "source": [
    "#\n",
    "# In this tutorial notebook, you will help me \n",
    "# writing your own Metropolis-Hasting Monte Carlo Simulation!\n",
    "#\n",
    "# Handed out: Th, 6/8/17\n",
    "# Due:        Th, 6/22/17\n",
    "# When you submit your answers, please also generate a pdf file of your ipynb session with results\n",
    "# via \"File\"->\"Download As\"->\"PDF via LaTex (.pdf)\"\n",
    "#\n",
    "# Please complete all \"TASK\"s and \"FIX ME\"s\n",
    "#"
   ]
  },
  {
   "cell_type": "code",
   "execution_count": 1,
   "metadata": {
    "collapsed": true
   },
   "outputs": [],
   "source": [
    "from ase.io import read\n",
    "from ase import Atoms\n",
    "from ase.optimize import *\n",
    "from ase.visualize import view\n",
    "from ase.md import *\n",
    "from ase.calculators.mopac import *\n",
    "from ase.constraints import *\n",
    "\n",
    "import nglview\n",
    "import numpy as np\n",
    "import matplotlib.pyplot as plt\n",
    "%matplotlib inline\n",
    "\n",
    "import time\n",
    "\n",
    "# install via \"conda install seaborn libgfortran\"\n",
    "# used to plot distribution with histograms and kernel density estimates in a fancy way\n",
    "import seaborn as sns"
   ]
  },
  {
   "cell_type": "code",
   "execution_count": 2,
   "metadata": {},
   "outputs": [
    {
     "data": {
      "application/vnd.jupyter.widget-view+json": {
       "model_id": "220a68691fd8419a810ccf9662f6e8ae"
      }
     },
     "metadata": {},
     "output_type": "display_data"
    },
    {
     "data": {
      "application/vnd.jupyter.widget-view+json": {
       "model_id": "feb5bf3c0ea14a308b3fe83972c9a9ab"
      }
     },
     "metadata": {},
     "output_type": "display_data"
    }
   ],
   "source": [
    "#\n",
    "# In this tutorial notebook, you will explore Monte Carlo simulations\n",
    "#\n",
    "# Let's start with a system of one Cl and two Na ions in vacuum ...\n",
    "#\n",
    "instem = \"Cl_2Na\"\n",
    "\n",
    "wdg_init = nglview.show_structure_file(\"input/%s.pdb\" % (instem), format = \"pdb\")\n",
    "wdg_init.add_representation('ball+stick')\n",
    "wdg_init.center_view()\n",
    "wdg_init.display(gui=True)"
   ]
  },
  {
   "cell_type": "code",
   "execution_count": 6,
   "metadata": {
    "scrolled": true
   },
   "outputs": [
    {
     "name": "stdout",
     "output_type": "stream",
     "text": [
      "(30, 30)\n",
      "0\n",
      "1\n",
      "2\n",
      "3\n",
      "4\n",
      "5\n",
      "6\n",
      "7\n",
      "8\n",
      "9\n",
      "10\n",
      "11\n",
      "12\n",
      "13\n",
      "14\n",
      "15\n",
      "16\n",
      "17\n",
      "18\n",
      "19\n",
      "20\n",
      "21\n",
      "22\n",
      "23\n",
      "24\n",
      "25\n",
      "26\n",
      "27\n",
      "28\n",
      "29\n",
      "compututation took: 222.1 secs.\n"
     ]
    }
   ],
   "source": [
    "#\n",
    "# ... and first perform a potential energy surface (PES) scan along the \n",
    "#     z-coordinates of the two Na ions (z1, z2)\n",
    "#\n",
    "calc = Mopac(restart=0, spin=0, OPT=False, functional='PM6', job_type='NOANCI 1SCF GRADIENTS AUX(0,PRECISION=9)', RELSCF=0.0001)\n",
    "#calc = Mopac(restart=0, spin=0, OPT=False, functional='PM6', job_type='NOANCI CHARGE=-1 NOSYM 1SCF GRADIENTS AUX(0,PRECISION=9)', RELSCF=0.0001 )\n",
    "#calc=Mopac(restart=0, spin=0, OPT=False, functional='PM6', job_type='NOANCI CHARGE=2 NOSYM 1SCF GRADIENTS AUX(0,PRECISION=9)', RELSCF=0.01 )\n",
    "\n",
    "# load in the system in \"xyz\" format to speeden up computations\n",
    "model = \"%s\" % (instem)\n",
    "water   = read(\"input/%s.xyz\" % (model), format=\"xyz\")\n",
    "molecule = Atoms(water)\n",
    "mycharges = molecule.get_initial_charges()\n",
    "molecule.set_calculator(calc)\n",
    "\n",
    "# here, we use an index array to set ion z-coordinate(s) (see below)\n",
    "# try to understand what I am doing here with this mask:\n",
    "posinds = np.zeros(np.shape(molecule.positions), dtype = \"bool\")\n",
    "# set index array for atom 1 and 2 (the two NAs) to \"True\"\n",
    "posinds[1:3,2] = True\n",
    "\n",
    "# distance between two atoms (here the two Na ions)\n",
    "def get_dist(mol):\n",
    "    a = 1\n",
    "    b = 2\n",
    "    return np.sqrt(np.sum((mol.positions[a] - mol.positions[b])**2))\n",
    "\n",
    "starttime = time.time()\n",
    "# two-dimensional potential energy scan:\n",
    "a_pos  = np.linspace(-4, 4, 30)\n",
    "a_pot  = np.ones(shape = np.shape(a_pos) + np.shape(a_pos), dtype = np.float64)\n",
    "a_dist = np.ones(shape = np.shape(a_pos) + np.shape(a_pos), dtype = np.float64)\n",
    "print np.shape(a_pot)\n",
    "for i in range(len(a_pos)):\n",
    "    print(i)\n",
    "    for j in range(len(a_pos)):\n",
    "        # here we use the index array\n",
    "        molecule.positions[posinds] = [a_pos[i], a_pos[j]]\n",
    "        a_dist[i,j] = get_dist(molecule)\n",
    "        a_pot[i,j] = molecule.get_potential_energy()\n",
    "\n",
    "endtime = time.time()\n",
    "print \"compututation took: %.1f secs.\" % (endtime - starttime)"
   ]
  },
  {
   "cell_type": "code",
   "execution_count": 4,
   "metadata": {},
   "outputs": [
    {
     "data": {
      "image/png": "[encoded data removed]",
      "text/plain": [
       "<matplotlib.figure.Figure at 0x7f757e6daf10>"
      ]
     },
     "metadata": {},
     "output_type": "display_data"
    }
   ],
   "source": [
    "#\n",
    "# Potential Energy Surface (PES)\n",
    "#\n",
    "# TASK:\n",
    "# Make a 2D plot of the PES along (z1, z2)\n",
    "# \n",
    "plt.ylabel('z1/Angstrom',fontsize=18)                \n",
    "plt.xlabel('z2/Angstrom',fontsize=18) \n",
    "plt.contourf(a_pos,a_pos,a_pot)\n",
    "plt.colorbar()\n",
    "plt.show()"
   ]
  },
  {
   "cell_type": "code",
   "execution_count": 5,
   "metadata": {},
   "outputs": [
    {
     "data": {
      "image/png": "[encoded data removed]",
      "text/plain": [
       "<matplotlib.figure.Figure at 0x7f757c57ea10>"
      ]
     },
     "metadata": {},
     "output_type": "display_data"
    }
   ],
   "source": [
    "#\n",
    "# Distance between the two Na atoms\n",
    "# \n",
    "# TASK:\n",
    "# Make a 2D plot of the distance between the two NA ions\n",
    "#\n",
    "# (Below, we are going to generate Boltzmann distributions of the distances)\n",
    "#\n",
    "plt.ylabel('z1/Angstrom',fontsize=18)                \n",
    "plt.xlabel('z2/Angstrom',fontsize=18) \n",
    "plt.contourf(a_pos,a_pos,a_dist)\n",
    "plt.colorbar()\n",
    "plt.show()"
   ]
  },
  {
   "cell_type": "code",
   "execution_count": 7,
   "metadata": {
    "collapsed": true
   },
   "outputs": [],
   "source": [
    "#\n",
    "# Below is a code skeleton to perform MCMC in multiple dimensions\n",
    "# We use this code to sample distances between the two Na ions\n",
    "#\n",
    "def mcmc(mol, posinds, q, pbc, RT, step, n, skip):\n",
    "    ''' multi-dimensional, molecular Markov Chain Monte Carlo (MCMC):\n",
    "    mol     : ASE molecule object\n",
    "    posinds : array mask used flexibly access the coordinates of interest\n",
    "    q       : starting value of z-coordinate [nm]\n",
    "    pbc     : for each coordinate, use periodic boundary conditions within the interval [-pbc,+pbc]\n",
    "    RT      : scaling factor for the MCMC acceptance criterion, \n",
    "              i.e. product of gas constant R (or Boltzmann constant in molar units) and temperature\n",
    "              a.k.a: inverse temperature beta = 1/RT\n",
    "              [kJ/mol]\n",
    "    step    : maximum absolute MCMC step size [nm]\n",
    "    n       : number of MCMC steps\n",
    "    skip    : print out progress every skip steps\n",
    "    '''\n",
    "    # sampled trajectory of z-coordinate\n",
    "    s_traj  = np.zeros(shape = (n,) + np.shape(q), dtype=np.float64)\n",
    "    # distances of sampled trajectory\n",
    "    s_dist  = np.zeros(shape = (n,), dtype=np.float64)\n",
    "    # potential energies of sampled trajectory\n",
    "    s_pot  = np.zeros(shape = (n,), dtype=np.float64)\n",
    "    # acceptances along sampled trajectory\n",
    "    s_isacc = np.zeros(shape = (n,), dtype=np.bool)\n",
    "    \n",
    "    mol.positions[posinds] = q\n",
    "    epot = mol.get_potential_energy()\n",
    "    for i in range(n):\n",
    "        if (i % skip) == 0:\n",
    "            print(\"%.1f %%\" % (1. * i / n * 100) )\n",
    "        q_trial = q + step * 2.0 * (np.random.random_sample(np.shape(q)) - 0.5)\n",
    "        # impose periodic boundary conditions from [-pbc/2.,+pbc/2.]\n",
    "        q_trial = (q_trial + pbc) % (2 * pbc) - pbc\n",
    "        # FIX ME (start)\n",
    "        # write your own MCMC code for two dimensions!\n",
    "        # - use your MCMC solution from notebook 05.01\n",
    "        # - use code from the PES scan above as necessary\n",
    "        # accept q_trial? For now, set accept to False, but if accept, set to True\n",
    "        accept = False\n",
    "        # set molecule position to q_trial\n",
    "        mol.positions[posinds] = q_trial\n",
    "        # potential energy of q_trial\n",
    "        epot_trial = mol.get_potential_energy()\n",
    "        \n",
    "        #calculating delta_e\n",
    "        delta_e = (epot_trial-epot)\n",
    "        # Use the Metropolis-Hastings algorithm to accept or reject q_trial\n",
    "        acceptance_probability = min(1.0,np.exp(-delta_e/RT))\n",
    "        if np.random.random() < acceptance_probability:\n",
    "            accept = True\n",
    "\n",
    "        if accept:\n",
    "            q = np.copy(q_trial)\n",
    "            epot = epot_trial\n",
    "        # FIX ME (end)\n",
    "        s_isacc[i] = accept\n",
    "        s_traj[i]  = q\n",
    "        s_dist[i]  = get_dist(mol)\n",
    "        s_pot[i]  = epot\n",
    "    return s_traj, s_dist, s_pot, s_isacc"
   ]
  },
  {
   "cell_type": "code",
   "execution_count": 27,
   "metadata": {},
   "outputs": [
    {
     "name": "stdout",
     "output_type": "stream",
     "text": [
      "0.0 %\n",
      "50.0 %\n",
      "compututation took: 23.4 secs.\n"
     ]
    }
   ],
   "source": [
    "# periodic boundary conditions\n",
    "pbc = 4\n",
    "# randomly chosen value of q_init\n",
    "q_init = np.random.rand(2) * pbc * 2\n",
    "\n",
    "#\n",
    "# TASK: \n",
    "# Find minimal parameter values below\n",
    "# to generate three MCMC runs producing\n",
    "# consistent Boltzmann distributions of the distance between the two Na ions.\n",
    "# Don't forget to document your results.\n",
    "\n",
    "#import simtk.unit as unit\n",
    "#temperature = 310.0*unit.kelvin\n",
    "#R = unit.BOLTZMANN_CONSTANT_kB*unit.AVOGADRO_CONSTANT_NA\n",
    "#RT = R*temperature # this is the relevant energy scale\n",
    "#RT.value_in_unit(unit.kilojoule_per_mole)\n",
    "#RT.value_in_unit(unit.kilocalorie_per_mole)\n",
    "RT = 0.6160340502099109/3 # Boltzmann constant [kcal/mol]\n",
    "\n",
    "step = 4.0 #initial: 0.5\n",
    "\n",
    "n = 100\n",
    "\n",
    "skip = 50\n",
    "\n",
    "starttime = time.time()\n",
    "s_traj, s_dist, s_pot, s_isacc = mcmc(molecule, posinds, q_init, pbc, RT, step, n, skip)\n",
    "endtime = time.time()\n",
    "print \"compututation took: %.1f secs.\" % (endtime - starttime)"
   ]
  },
  {
   "cell_type": "code",
   "execution_count": 28,
   "metadata": {},
   "outputs": [
    {
     "data": {
      "text/plain": [
       "0.26"
      ]
     },
     "execution_count": 28,
     "metadata": {},
     "output_type": "execute_result"
    }
   ],
   "source": [
    "# compute the acceptance rate again\n",
    "1. * s_isacc.sum() / len(s_isacc)"
   ]
  },
  {
   "cell_type": "code",
   "execution_count": 24,
   "metadata": {},
   "outputs": [
    {
     "data": {
      "text/plain": [
       "(3.4147503768713041, 1.7281840016286822)"
      ]
     },
     "execution_count": 24,
     "metadata": {},
     "output_type": "execute_result"
    },
    {
     "data": {
      "image/png": "[encoded data removed]",
      "text/plain": [
       "<matplotlib.figure.Figure at 0x7f66985caf10>"
      ]
     },
     "metadata": {},
     "output_type": "display_data"
    }
   ],
   "source": [
    "#\n",
    "# plot a histogram and a kernel density estimate of Na-Na distances\n",
    "# First Run:\n",
    "#\n",
    "#fig = sns.distplot(s_dist);\n",
    "#fig.set(xlabel=r'distance [$\\AA$]', ylabel='probability (density)')\n",
    "fig = plt.hist(s_dist)\n",
    "plt.xlabel(r'distance [$\\AA$]')\n",
    "plt.ylabel('probability (density)')\n",
    "s_dist.mean(), s_dist.std()"
   ]
  },
  {
   "cell_type": "code",
   "execution_count": null,
   "metadata": {
    "collapsed": true
   },
   "outputs": [],
   "source": [
    "# for the set of minimal parameter values, execute the above cells three times\n",
    "# - do the three distributions and their means/standard dvaitions look consistent?\n",
    "# for the initial step size of 0.5 the distributions were not consistent. With a step size of 4.0\n",
    "# a the distributions are more consistent. The means are between 3.1 and 3.2 and the standard deviations\n",
    "# are between 1.4 and 1.6."
   ]
  },
  {
   "cell_type": "code",
   "execution_count": 26,
   "metadata": {},
   "outputs": [
    {
     "data": {
      "text/plain": [
       "(3.5477497593618397, 1.6842510057278679)"
      ]
     },
     "execution_count": 26,
     "metadata": {},
     "output_type": "execute_result"
    },
    {
     "data": {
      "image/png": "[encoded data removed]",
      "text/plain": [
       "<matplotlib.figure.Figure at 0x7f66984c9790>"
      ]
     },
     "metadata": {},
     "output_type": "display_data"
    }
   ],
   "source": [
    "#\n",
    "# plot a histogram and a kernel density estimate of Na-Na distances\n",
    "# Second Run:\n",
    "#\n",
    "#fig = sns.distplot(s_dist);\n",
    "#fig.set(xlabel=r'distance [$\\AA$]', ylabel='probability (density)')\n",
    "fig = plt.hist(s_dist)\n",
    "plt.xlabel(r'distance [$\\AA$]')\n",
    "plt.ylabel('probability (density)')\n",
    "s_dist.mean(), s_dist.std()"
   ]
  },
  {
   "cell_type": "code",
   "execution_count": 29,
   "metadata": {},
   "outputs": [
    {
     "data": {
      "text/plain": [
       "(3.1296324710941885, 1.5967616636554907)"
      ]
     },
     "execution_count": 29,
     "metadata": {},
     "output_type": "execute_result"
    },
    {
     "data": {
      "image/png": "[encoded data removed]",
      "text/plain": [
       "<matplotlib.figure.Figure at 0x7f66983c4c10>"
      ]
     },
     "metadata": {},
     "output_type": "display_data"
    }
   ],
   "source": [
    "#\n",
    "# plot a histogram and a kernel density estimate of Na-Na distances\n",
    "# Third Run:\n",
    "#\n",
    "#fig = sns.distplot(s_dist);\n",
    "#fig.set(xlabel=r'distance [$\\AA$]', ylabel='probability (density)')\n",
    "fig = plt.hist(s_dist)\n",
    "plt.xlabel(r'distance [$\\AA$]')\n",
    "plt.ylabel('probability (density)')\n",
    "s_dist.mean(), s_dist.std()"
   ]
  },
  {
   "cell_type": "code",
   "execution_count": null,
   "metadata": {},
   "outputs": [
    {
     "name": "stdout",
     "output_type": "stream",
     "text": [
      "mean: 2.74306\n",
      "standard deviation: 1.75133\n"
     ]
    }
   ],
   "source": [
    "#\n",
    "# TASK:\n",
    "# a)\n",
    "# Now directly compute the mean and standard deviation of\n",
    "# the Boltzmann distribution of distances, as sampled with MCMC above,\n",
    "# but this time as an integral (in fact a sum) over the grid points defined by a_pos\n",
    "#\n",
    "# Hints: \n",
    "# - you will need a_pot, a_dist, and RT to compute this sum\n",
    "# - the integral of dx * exp(x), or the sum of exp(x) over an array x, \n",
    "#   e.g., covering the interval [-4,4], is np.sum(np.exp(x))\n",
    "#   (np.exp(x) will give you an array with the same dimensions as in x\n",
    "#   and elements np.exp(x_ij) for each each element x_ij of x)\n",
    "#\n",
    "# FIX ME (start):\n",
    "mean=np.sum((np.exp(-a_pot/RT)*a_dist))/np.sum(np.exp(-a_pot/RT))\n",
    "dev=np.sqrt(np.sum((np.exp(-a_pot/RT)*a_dist**2))/np.sum(np.exp(-a_pot/RT))-mean**2)\n",
    "print \"mean: %g\" % mean\n",
    "print \"standard deviation: %g\" % dev\n",
    "# FIX ME (end):\n",
    "\n",
    "# b)\n",
    "# What are the mean and standard deviation of this distribution?\n",
    "# How do these compare to the distribution sampled with MCMC?\n",
    "# ANSWER:\n",
    "# The mean is 3.48 wich is a bit larger than the mean from the MCMC. Also the standard variation of 1.8\n",
    "# is larger than the standard deviation from MCMC.\n",
    "#\n",
    "#\n",
    "# FYI:\n",
    "# As above, we can plot the underlying Boltzmann distribution\n",
    "# with a special trick:\n",
    "abc = 1/(np.exp(-a_pot/RT) / np.exp(-a_pot / RT).sum())\n",
    "abc /= abc.min()\n",
    "l = [int(x) * [y] for x,y in zip(np.round(abc).flatten(), a_dist.flatten())]\n",
    "#fig = sns.distplot([item for sublist in l for item in sublist]);\n",
    "#fig.set(xlabel=r'distance [$\\AA$]', ylabel='probability (density)')\n",
    "fig = plt.hist([item for sublist in l for item in sublist])\n",
    "plt.xlabel(r'distance [$\\AA$]')\n",
    "plt.ylabel('probability (density)')\n",
    "\n",
    "#\n",
    "# FYI:\n",
    "# For much higher dimensions, potential energy scans as in\n",
    "# in our two dimensional case above become computationally prohibitive.\n",
    "# Thus, sampling of the Boltzmann distribution, e.g. via MCMC, become the only \n",
    "# feasible computational option, as the MCMC algorithm more likely samples\n",
    "# lower-energy states that are contributing with exponentially higher weights\n",
    "# to Boltzmann distribution\n",
    "#"
   ]
  },
  {
   "cell_type": "code",
   "execution_count": null,
   "metadata": {
    "collapsed": true
   },
   "outputs": [],
   "source": []
  }
 ],
 "metadata": {
  "kernelspec": {
   "display_name": "Python 2",
   "language": "python",
   "name": "python2"
  },
  "language_info": {
   "codemirror_mode": {
    "name": "ipython",
    "version": 2
   },
   "file_extension": ".py",
   "mimetype": "text/x-python",
   "name": "python",
   "nbconvert_exporter": "python",
   "pygments_lexer": "ipython2",
   "version": "2.7.13"
  }
 },
 "nbformat": 4,
 "nbformat_minor": 2
}
