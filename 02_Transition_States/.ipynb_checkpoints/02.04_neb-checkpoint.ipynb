{
 "cells": [
  {
   "cell_type": "code",
   "execution_count": 1,
   "metadata": {
    "collapsed": true
   },
   "outputs": [],
   "source": [
    "from ase.io import *\n",
    "from ase import Atoms\n",
    "from ase.calculators.mopac import *\n",
    "from ase.optimize import *\n",
    "from ase.visualize import view\n",
    "from ase import md\n",
    "from ase.md import *\n",
    "from ase.neb import  *\n",
    "from math import sqrt"
   ]
  },
  {
   "cell_type": "code",
   "execution_count": null,
   "metadata": {
    "collapsed": true
   },
   "outputs": [],
   "source": [
    "# You should send it to us till Tuesday 06/01\n",
    "# Discussion: Tu 06/06"
   ]
  },
  {
   "cell_type": "code",
   "execution_count": null,
   "metadata": {
    "collapsed": true
   },
   "outputs": [],
   "source": [
    "# In this task you should use the nudged elastic band (NEB)for finding saddle points-\n",
    "# -and minimum energy paths between reactant(A) and product(B). After finding the saddle point via NEB please confirm- \n",
    "# -that the point you have find through NEB is indeed a transition state?\n",
    "\n",
    "# Hints: In addition to NEB part in lecture notes you can take a look to ase website for proper immplementation:- \n",
    "# - https://wiki.fysik.dtu.dk/ase/ase/neb.html\n"
   ]
  },
  {
   "cell_type": "code",
   "execution_count": 18,
   "metadata": {},
   "outputs": [
    {
     "name": "stdout",
     "output_type": "stream",
     "text": [
      "BFGS:   0  21:05:01       -2.957353       1.0160\n",
      "BFGS:   1  21:05:11       -2.999861       0.8986\n",
      "BFGS:   2  21:05:20       -3.052839       0.6255\n",
      "BFGS:   3  21:05:29       -3.070327       0.4758\n",
      "BFGS:   4  21:05:38       -3.084267       0.4684\n",
      "BFGS:   5  21:05:48       -3.100237       0.2115\n",
      "BFGS:   6  21:05:57       -3.102649       0.0537\n",
      "BFGS:   7  21:06:06       -3.102738       0.0335\n"
     ]
    }
   ],
   "source": [
    "\n",
    "calc=Mopac(functional='PM6', job_type='NOANCI NOSYM CHARGE=-1 1SCF GRADIENTS AUX(0,PRECISION=9)', RELSCF=0.0001)\n",
    "\n",
    "# Read initial and final states:\n",
    "initial = read('input/A.xyz')\n",
    "final = read('input/B.xyz')\n",
    "\n",
    "# Make a band consisting of n images:\n",
    "n=10\n",
    "images = [initial]\n",
    "images += [initial.copy() for i in range(n-2)]\n",
    "images += [final]\n",
    "neb = NEB(images)\n",
    "\n",
    "# Interpolate linearly the potisions of the three middle images:\n",
    "neb.interpolate()\n",
    "\n",
    "# Set calculators:\n",
    "for image in images[1:n-1]:\n",
    "    image.set_calculator(calc)\n",
    "\n",
    "# Optimize:\n",
    "optimizer = BFGS(neb, trajectory='output/A2B.traj')\n",
    "optimizer.run(fmax=0.04, steps=10)"
   ]
  },
  {
   "cell_type": "code",
   "execution_count": null,
   "metadata": {
    "collapsed": true
   },
   "outputs": [],
   "source": [
    "#Plotting NEB\n",
    "import matplotlib.pyplot as pyplot\n",
    "pyplot.title('NEB')\n",
    "pyplot.ylabel('energy/kcal/mol',fontsize=18)                \n",
    "pyplot.xlabel('RMSD/Angstrom',fontsize=18)   \n",
    "pyplot.plot(p,ei,'o',label=\"scan\")\n",
    "pyplot.show()"
   ]
  },
  {
   "cell_type": "code",
   "execution_count": null,
   "metadata": {
    "collapsed": true
   },
   "outputs": [],
   "source": []
  }
 ],
 "metadata": {
  "kernelspec": {
   "display_name": "Python 2",
   "language": "python",
   "name": "python2"
  },
  "language_info": {
   "codemirror_mode": {
    "name": "ipython",
    "version": 2
   },
   "file_extension": ".py",
   "mimetype": "text/x-python",
   "name": "python",
   "nbconvert_exporter": "python",
   "pygments_lexer": "ipython2",
   "version": "2.7.13"
  }
 },
 "nbformat": 4,
 "nbformat_minor": 2
}
