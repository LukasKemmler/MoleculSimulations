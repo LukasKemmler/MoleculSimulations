{
 "cells": [
  {
   "cell_type": "code",
   "execution_count": 1,
   "metadata": {
    "collapsed": true
   },
   "outputs": [],
   "source": [
    "from ase.io import *\n",
    "from ase import Atoms\n",
    "from ase.calculators.mopac import *\n",
    "from ase.optimize import *\n",
    "from ase.visualize import view\n",
    "from ase import md\n",
    "from ase.md import *\n",
    "from ase.neb import  *\n",
    "from math import sqrt"
   ]
  },
  {
   "cell_type": "code",
   "execution_count": null,
   "metadata": {
    "collapsed": true
   },
   "outputs": [],
   "source": [
    "# You should send it to us till Tuesday 06/01\n",
    "# Discussion: Tu 06/06"
   ]
  },
  {
   "cell_type": "code",
   "execution_count": null,
   "metadata": {
    "collapsed": true
   },
   "outputs": [],
   "source": [
    "# In this task you should use the nudged elastic band (NEB)for finding saddle points-\n",
    "# -and minimum energy paths between reactant(A) and product(B). After finding the saddle point via NEB please confirm- \n",
    "# -that the point you have find through NEB is indeed a transition state?\n",
    "\n",
    "# Hints: In addition to NEB part in lecture notes you can take a look to ase website for proper immplementation:- \n",
    "# - https://wiki.fysik.dtu.dk/ase/ase/neb.html\n"
   ]
  },
  {
   "cell_type": "code",
   "execution_count": 2,
   "metadata": {},
   "outputs": [
    {
     "name": "stdout",
     "output_type": "stream",
     "text": [
      "BFGS:   0  11:10:19       -2.955258       1.0162\n",
      "BFGS:   1  11:10:41       -2.997930       0.9009\n",
      "BFGS:   2  11:11:03       -3.052075       0.6340\n",
      "BFGS:   3  11:11:25       -3.070574       0.4889\n",
      "BFGS:   4  11:11:47       -3.084731       0.4734\n",
      "BFGS:   5  11:12:10       -3.101980       0.2016\n",
      "BFGS:   6  11:12:32       -3.104124       0.0868\n",
      "BFGS:   7  11:12:54       -3.104172       0.0539\n",
      "BFGS:   8  11:13:16       -3.104179       0.0350\n"
     ]
    }
   ],
   "source": [
    "\n",
    "calc=Mopac(functional='PM6', job_type='NOANCI NOSYM CHARGE=-1 1SCF GRADIENTS AUX(0,PRECISION=9)', RELSCF=0.0001)\n",
    "\n",
    "# Read initial and final states:\n",
    "initial = read('input/A.xyz')\n",
    "final = read('input/B.xyz')\n",
    "\n",
    "# Make a band consisting of n images:\n",
    "n=20\n",
    "images = [initial]\n",
    "images += [initial.copy() for i in range(n-2)]\n",
    "images += [final]\n",
    "neb = NEB(images)\n",
    "\n",
    "# Interpolate linearly the potisions of the three middle images:\n",
    "neb.interpolate()\n",
    "\n",
    "# Set calculators:\n",
    "for image in images:\n",
    "    image.set_calculator(calc)\n",
    "\n",
    "# Optimize:\n",
    "optimizer = BFGS(neb, trajectory='output/A2B.traj')\n",
    "optimizer.run(fmax=0.04, steps=10)"
   ]
  },
  {
   "cell_type": "code",
   "execution_count": 3,
   "metadata": {
    "collapsed": true
   },
   "outputs": [],
   "source": [
    "eV_in_kcal_per_mol=6.022*3.82929\n",
    "ei = [eV_in_kcal_per_mol*image.get_potential_energy() for image in images]\n",
    "atomC=0 # C\n",
    "atomA=4 #Cl\n",
    "p=[image.get_distance(atomC, atomA) for image in images]"
   ]
  },
  {
   "cell_type": "code",
   "execution_count": 4,
   "metadata": {},
   "outputs": [
    {
     "data": {
      "image/png": "[encoded data removed]",
      "text/plain": [
       "<matplotlib.figure.Figure at 0x7ff324e58b10>"
      ]
     },
     "metadata": {},
     "output_type": "display_data"
    }
   ],
   "source": [
    "#Plotting NEB\n",
    "import matplotlib.pyplot as pyplot\n",
    "pyplot.title('NEB')\n",
    "pyplot.ylabel('energy/kcal/mol',fontsize=18)        \n",
    "pyplot.xlabel('RMSD/Angstrom',fontsize=18)\n",
    "pyplot.plot(p,ei,'o',label=\"scan\")\n",
    "pyplot.show()"
   ]
  },
  {
   "cell_type": "code",
   "execution_count": null,
   "metadata": {
    "collapsed": true
   },
   "outputs": [],
   "source": []
  }
 ],
 "metadata": {
  "kernelspec": {
   "display_name": "Python 2",
   "language": "python",
   "name": "python2"
  },
  "language_info": {
   "codemirror_mode": {
    "name": "ipython",
    "version": 2
   },
   "file_extension": ".py",
   "mimetype": "text/x-python",
   "name": "python",
   "nbconvert_exporter": "python",
   "pygments_lexer": "ipython2",
   "version": "2.7.13"
  }
 },
 "nbformat": 4,
 "nbformat_minor": 2
}
