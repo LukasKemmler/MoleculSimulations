{
 "cells": [
  {
   "cell_type": "code",
   "execution_count": null,
   "metadata": {
    "collapsed": true
   },
   "outputs": [],
   "source": [
    "from ase.io import read\n",
    "from ase import Atoms\n",
    "from ase.optimize import *\n",
    "from ase.visualize import view\n",
    "from ase.md import *\n",
    "from ase.calculators.mopac import  *\n",
    "from ase.constraints import *\n",
    "from math import *\n",
    "import nglview\n",
    "import numpy as np\n",
    "import scipy.misc\n",
    "import matplotlib.pyplot as pyplot\n",
    "from ase.optimize.sciopt import SciPyFminBFGS, SciPyFminCG"
   ]
  },
  {
   "cell_type": "code",
   "execution_count": null,
   "metadata": {
    "collapsed": true
   },
   "outputs": [],
   "source": [
    "# Based on what you have learnt in 02.01_scan1D-ass & 02.01_scan1D-diss repeat scanning potential energy surface-\n",
    "# -but this time please derive two-dimensional potential energy surfaces to find the possible transition state!"
   ]
  },
  {
   "cell_type": "code",
   "execution_count": null,
   "metadata": {
    "collapsed": true
   },
   "outputs": [],
   "source": [
    "# Input intial file\n",
    "model = \"A\"\n",
    "infile  = \"input/%s.xyz\" % model\n",
    "A   = read(infile, format=\"xyz\")\n",
    "molecule = Atoms(A)\n",
    "\n",
    "# visualize initial structure\n",
    "wdg_init = nglview.show_ase(molecule)\n",
    "wdg_init.add_representation('ball+stick')\n",
    "wdg_init.center_view(range(3))\n"
   ]
  },
  {
   "cell_type": "code",
   "execution_count": null,
   "metadata": {
    "collapsed": true
   },
   "outputs": [],
   "source": [
    "\n",
    "calc=Mopac(restart=0, spin=0, OPT=False, functional='PM6', job_type='NOANCI CHARGE=-1 NOSYM 1SCF GRADIENTS AUX(0,PRECISION=9)', RELSCF=0.01 )\n",
    "\n",
    "molecule.set_calculator(calc)\n",
    "\n",
    "ener=molecule.get_potential_energy()\n",
    "print \"potential energy:\", ener\n",
    "\n",
    "\n",
    "atomC=0 # C\n",
    "atomA=4 #Cl\n",
    "atomB=5  #Br\n",
    "\n",
    "??????  "
   ]
  },
  {
   "cell_type": "code",
   "execution_count": null,
   "metadata": {
    "collapsed": true
   },
   "outputs": [],
   "source": [
    "# plot 2D potential surface\n",
    "pyplot.title('scan distance 2D')\n",
    "pyplot.ylabel('distance/Angstrom',fontsize=18)                \n",
    "pyplot.xlabel('distance/Angstrom',fontsize=18)   \n",
    "pyplot.contourf(df2,df1,scan2D)\n",
    "pyplot.colorbar()\n",
    "pyplot.show()\n"
   ]
  }
 ],
 "metadata": {
  "kernelspec": {
   "display_name": "Python 2",
   "language": "python",
   "name": "python2"
  },
  "language_info": {
   "codemirror_mode": {
    "name": "ipython",
    "version": 2
   },
   "file_extension": ".py",
   "mimetype": "text/x-python",
   "name": "python",
   "nbconvert_exporter": "python",
   "pygments_lexer": "ipython2",
   "version": "2.7.13"
  }
 },
 "nbformat": 4,
 "nbformat_minor": 2
}
