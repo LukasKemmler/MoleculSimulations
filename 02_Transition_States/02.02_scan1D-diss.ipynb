{
 "cells": [
  {
   "cell_type": "code",
   "execution_count": null,
   "metadata": {
    "collapsed": true
   },
   "outputs": [],
   "source": [
    "from ase.io import read\n",
    "from ase import Atoms\n",
    "from ase.optimize import *\n",
    "from ase.visualize import view\n",
    "from ase.md import *\n",
    "from ase.calculators.mopac import  *\n",
    "from ase.constraints import *\n",
    "from math import *\n",
    "import numpy as np\n",
    "import nglview\n",
    "import scipy.misc\n",
    "import matplotlib.pyplot as pyplot\n",
    "from ase.optimize.sciopt import SciPyFminBFGS, SciPyFminCG"
   ]
  },
  {
   "cell_type": "code",
   "execution_count": null,
   "metadata": {
    "collapsed": true
   },
   "outputs": [],
   "source": [
    "\n",
    "\n",
    "# In theis example 02.02_scan1D_diss we investigate the potential energy along the distance between \n",
    "# -CH3-Br. More precisely, we investigate dissociative type of mechanism for this reaction which in there first Br-\n",
    "# -leaves the CH3 then Cl will attack to the remained CH3. "
   ]
  },
  {
   "cell_type": "code",
   "execution_count": null,
   "metadata": {
    "collapsed": true
   },
   "outputs": [],
   "source": [
    "# Input intial file\n",
    "model = \"A\"\n",
    "infile  = \"input/%s.xyz\" % model\n",
    "A   = read(infile, format=\"xyz\")\n",
    "molecule = Atoms(A)\n",
    "\n",
    "# visualize initial structure\n",
    "wdg_init = nglview.show_ase(molecule)\n",
    "wdg_init.add_representation('ball+stick')\n",
    "wdg_init.center_view(range(3))"
   ]
  },
  {
   "cell_type": "code",
   "execution_count": null,
   "metadata": {
    "collapsed": true
   },
   "outputs": [],
   "source": [
    "calc=Mopac(restart=0, spin=0, OPT=False, functional='PM6', job_type='NOANCI CHARGE=-1 NOSYM 1SCF GRADIENTS AUX(0,PRECISION=9)', RELSCF=0.0001 )\n",
    "\n",
    "molecule.set_calculator(calc)\n",
    "\n",
    "ener=molecule.get_potential_energy()\n",
    "print \"potential energy:\", ener\n",
    "\n",
    "\n",
    "atomC=0\n",
    "atomA=4\n",
    "atomB=5\n",
    "\n",
    "bond1 = [molecule.get_distance(atomC, atomA), [atomC, atomA]]\n",
    "bond2 = [molecule.get_distance(atomC, atomB), [atomC, atomB]]\n",
    "\n",
    "print bond1, bond2\n",
    "\n",
    "B1=molecule.get_distance(atomC, atomA)\n",
    "B2=molecule.get_distance(atomC, atomB)\n",
    "\n",
    "stepsize=0.1\n",
    "numstep=10\n",
    "print \"stepping distance by (\", stepsize, \" Angstroms) \"\n",
    "\n",
    "scan=np.zeros(numstep)\n",
    "d=np.zeros(numstep)\n",
    "df=np.zeros(numstep)\n",
    "\n",
    "for i in range (int(numstep)):\n",
    "\n",
    "        d[i]=B2+i*stepsize\n",
    "\tprint \"step\", i, \"dist\", d[i]\n",
    "        molecule.set_distance(atomC, atomB, d[i], fix=0)\n",
    "\toutfile=\"output/\" + \"sn1.cons.drive.\"+str(i)+\".xyz\"\n",
    "\tmolecule.write(outfile)\n",
    "\n",
    "\tbond1 = [d[i], [atomC, atomB]]\n",
    "\tcons = FixInternals(molecule,  bonds=[bond1])\n",
    "\tmolecule.set_constraint(cons)\n",
    "\n",
    "\n",
    "\tener=molecule.get_potential_energy()\n",
    "\tprint \"potential energy:\", ener\n",
    "\tgrad=molecule.get_forces()\n",
    "\tprint \"gradient\", grad\n",
    "\n",
    "\ttrajName=\"output/\" + \"drive.diss.\"+str(i)+\".traj\"\n",
    "\tdyn = QuasiNewton(molecule, trajectory=trajName)\n",
    "\tdyn.run(fmax=0.01, steps=10)\n",
    "\n",
    "        df[i]=molecule.get_distance(atomC, atomB)\n",
    "\tprint \"dist after opt\", df[i]\n",
    "        ener=molecule.get_potential_energy()\n",
    "\tscan[i]=ener\n",
    "\toutfile_opt=\"output/\" + \"drive.diss.\"+str(i)+\".opt.xyz\"\n",
    "\tmolecule.write(outfile_opt)\n",
    "\n"
   ]
  },
  {
   "cell_type": "code",
   "execution_count": null,
   "metadata": {
    "collapsed": true
   },
   "outputs": [],
   "source": [
    "# Plotting energy vs distance between cl and CH3-Br. Can you see the transition state?\n",
    "\n",
    "pyplot.title('scan distance')\n",
    "pyplot.ylabel('energy',fontsize=18)                \n",
    "pyplot.xlabel('distance/Angstrom',fontsize=18)   \n",
    "pyplot.plot(df,scan,'o',label=\"scan\")\n",
    "pyplot.show()\n"
   ]
  },
  {
   "cell_type": "code",
   "execution_count": null,
   "metadata": {
    "collapsed": true
   },
   "outputs": [],
   "source": [
    "# Compare the initial PDB files before and after Optimization - what we can learn?\n",
    "wdg_init.display(gui=True)"
   ]
  },
  {
   "cell_type": "code",
   "execution_count": null,
   "metadata": {
    "collapsed": true
   },
   "outputs": [],
   "source": [
    "wdg = nglview.show_ase(molecule)\n",
    "wdg.add_representation('ball+stick')\n",
    "wdg.center_view(range(3))\n",
    "wdg.display(gui=True)"
   ]
  }
 ],
 "metadata": {
  "kernelspec": {
   "display_name": "Python 2",
   "language": "python",
   "name": "python2"
  },
  "language_info": {
   "codemirror_mode": {
    "name": "ipython",
    "version": 2
   },
   "file_extension": ".py",
   "mimetype": "text/x-python",
   "name": "python",
   "nbconvert_exporter": "python",
   "pygments_lexer": "ipython2",
   "version": "2.7.13"
  }
 },
 "nbformat": 4,
 "nbformat_minor": 2
}
