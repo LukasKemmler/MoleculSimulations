{
 "cells": [
  {
   "cell_type": "code",
   "execution_count": null,
   "metadata": {
    "collapsed": true
   },
   "outputs": [],
   "source": [
    "from ase.io import read\n",
    "from ase import Atoms\n",
    "from ase.optimize import *\n",
    "from ase.visualize import view\n",
    "from ase.md import *\n",
    "from ase.calculators.mopac import  *\n",
    "from ase.constraints import *\n",
    "from math import *\n",
    "import numpy as np\n",
    "import nglview\n",
    "import scipy.misc\n",
    "import matplotlib.pyplot as pyplot\n",
    "from ase.optimize.sciopt import SciPyFminBFGS, SciPyFminCG"
   ]
  },
  {
   "cell_type": "code",
   "execution_count": null,
   "metadata": {
    "collapsed": true
   },
   "outputs": [],
   "source": [
    "# In this tutoiral notebook, you will try to scan potential energy surface along a reaction pathway.\n",
    "# Let us assume that we have an experimental colleague he/she obvsreverd the  CH3-Br + CL as the reactant- \n",
    "# -will give CH3-CL + Br as the product state/\n",
    "# He/She observed the reactant and product through experimental technique. However, he/she does not know about the- \n",
    "# -exact reaction mechanism, as a person in simulation business you would have lots of options to trace possible reaction-\n",
    "# -mechanism, He/she told you the reaction can happen in associative or dissociative or concerted mechanism. \n",
    "# in associative mechanism, first Cl attacks to the CH3-Br then Br will leavle the CH3-cl \n",
    "# in dissociative  mechanism, first Br leaves the CH3 then CL will attack to the remained CH3.\n",
    "# in concerted mechanism, Br and Cl atacks and leaves simultaneously.\n",
    "# As we outlined above you have several options to observe such a thing in one of them we can scan \n",
    "# the potential energy surface along the reaction pathway,\n",
    "\n",
    "# In the first example 02.01_scan1D_ass we investigate the potential energy along the distance between \n",
    "# -CH3-Br and Cl. More precisely, we investigate associative type of mechanism for this reaction which in there Cl-\n",
    "# -will attack to the CH3-Br. "
   ]
  },
  {
   "cell_type": "code",
   "execution_count": null,
   "metadata": {
    "collapsed": true
   },
   "outputs": [],
   "source": [
    "# Input intial file\n",
    "model = \"A\"\n",
    "infile  = \"input/%s.xyz\" % model\n",
    "A   = read(infile, format=\"xyz\")\n",
    "molecule = Atoms(A)\n",
    "\n",
    "# visualize initial structure\n",
    "wdg_init = nglview.show_ase(molecule)\n",
    "wdg_init.add_representation('ball+stick')\n",
    "wdg_init.center_view(range(3))\n",
    "\n"
   ]
  },
  {
   "cell_type": "code",
   "execution_count": null,
   "metadata": {
    "scrolled": true
   },
   "outputs": [],
   "source": [
    "calc=Mopac(restart=0, spin=0, OPT=False, functional='PM6', job_type='NOANCI CHARGE=-1 NOSYM 1SCF GRADIENTS AUX(0,PRECISION=9)', RELSCF=0.0001 )\n",
    "\n",
    "\n",
    "molecule.set_calculator(calc)\n",
    "\n",
    "ener=molecule.get_potential_energy()\n",
    "print \"potential energy:\", ener\n",
    "\n",
    "# Defining atoms: \n",
    "atomC=0 # C\n",
    "atomA=4 #Cl\n",
    "atomB=5  #Br\n",
    "\n",
    "bond1 = [molecule.get_distance(atomC, atomA), [atomC, atomA]]\n",
    "bond2 = [molecule.get_distance(atomC, atomB), [atomC, atomB]]\n",
    "\n",
    "print bond1, bond2\n",
    "\n",
    "# Obtaining the distance between CH3  to Br and CH3 to Cl. \n",
    "B1=molecule.get_distance(atomC, atomA)\n",
    "B2=molecule.get_distance(atomC, atomB)\n",
    "\n",
    "# Defining the stepsize and number of step between Cl and CH3-Br  . \n",
    "stepsize=0.1\n",
    "numstep=12\n",
    "print \"stepping distance by (\", stepsize, \" Angstroms) \"\n",
    "\n",
    "scan=np.zeros(numstep)\n",
    "d=np.zeros(numstep)\n",
    "df=np.zeros(numstep)\n",
    "\n",
    "for i in range (int(numstep)):\n",
    "\n",
    "        d[i]=B1-i*stepsize\n",
    "\tprint \"step\", i, \"dist\", d[i]\n",
    "        molecule.set_distance(atomC, atomA, d[i], fix=0)\n",
    "\toutfile=\"output/\" + \"sn2.cons.drive.\"+str(i)+\".xyz\"\n",
    "\tmolecule.write(outfile)\n",
    "\n",
    "\tbond1 = [d[i], [atomC, atomA]]\n",
    "\tcons = FixInternals(molecule,  bonds=[bond1])\n",
    "\tmolecule.set_constraint(cons)\n",
    "\n",
    "\n",
    "\tener=molecule.get_potential_energy()\n",
    "\tprint \"potential energy:\", ener\n",
    "\tgrad=molecule.get_forces()\n",
    "\tprint \"gradient\", grad\n",
    "\n",
    "\ttrajName=\"output/\" + \"drive.\"+str(i)+\".traj\"\n",
    "\tdyn = QuasiNewton(molecule, trajectory=trajName)\n",
    "\tdyn.run(fmax=0.01, steps=10)\n",
    "\n",
    "        df[i]=molecule.get_distance(atomC, atomA)\n",
    "\tprint \"dist after opt\", df[i]\n",
    "        ener=molecule.get_potential_energy()\n",
    "\tscan[i]=ener\n",
    "\toutfile_opt=\"output/\" + \"drive.\"+str(i)+\".opt.xyz\"\n",
    "\tmolecule.write(outfile_opt)\n"
   ]
  },
  {
   "cell_type": "code",
   "execution_count": null,
   "metadata": {},
   "outputs": [],
   "source": [
    "# Plotting energy vs distance between cl and CH3-Br. Can you see the transition state?\n",
    "\n",
    "pyplot.title('scan distance')\n",
    "pyplot.ylabel('energy',fontsize=18)                \n",
    "pyplot.xlabel('distance/Angstrom',fontsize=18)   \n",
    "pyplot.plot(df,scan,'o',label=\"scan\")\n",
    "pyplot.show()\n"
   ]
  },
  {
   "cell_type": "code",
   "execution_count": null,
   "metadata": {},
   "outputs": [],
   "source": [
    "# Compare the initial PDB files before and after Optimization - what we can learn?\n",
    "wdg_init.display(gui=True)"
   ]
  },
  {
   "cell_type": "code",
   "execution_count": null,
   "metadata": {},
   "outputs": [],
   "source": [
    "wdg = nglview.show_ase(molecule)\n",
    "wdg.add_representation('ball+stick')\n",
    "wdg.center_view(range(3))\n",
    "wdg.display(gui=True)"
   ]
  },
  {
   "cell_type": "code",
   "execution_count": null,
   "metadata": {
    "collapsed": true
   },
   "outputs": [],
   "source": []
  }
 ],
 "metadata": {
  "kernelspec": {
   "display_name": "Python 2",
   "language": "python",
   "name": "python2"
  },
  "language_info": {
   "codemirror_mode": {
    "name": "ipython",
    "version": 2
   },
   "file_extension": ".py",
   "mimetype": "text/x-python",
   "name": "python",
   "nbconvert_exporter": "python",
   "pygments_lexer": "ipython2",
   "version": "2.7.13"
  }
 },
 "nbformat": 4,
 "nbformat_minor": 2
}
