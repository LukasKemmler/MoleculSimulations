{
 "cells": [
  {
   "cell_type": "code",
   "execution_count": 1,
   "metadata": {
    "collapsed": true
   },
   "outputs": [],
   "source": [
    "#\n",
    "#    Normal Mode Analysis (NMA):\n",
    "#\n",
    "#    In this notebook, we will study \n",
    "#    structural dynamics of elastic network models (ENMs) of real proteins!\n",
    "#\n",
    "#    This notebook is handed out Th. 5/25/17 and is due Tu. 6/13/17\n",
    "# \n",
    "#    Please work through the notebook cell-by-cell with particular attention to \"ANSWER\""
   ]
  },
  {
   "cell_type": "code",
   "execution_count": 2,
   "metadata": {
    "collapsed": true
   },
   "outputs": [],
   "source": [
    "#\n",
    "#    Some Background:\n",
    "#\n",
    "#    In the NMA of an elastic network model (ENM), the underlying potential energy is based on a drastically\n",
    "#    simplified force field, in which two interacting CA atoms i and j are coupled by \n",
    "#    the harmonic potential energy:\n",
    "#    V(d_ij) = gamma / 2 * (d_ij - d_ij0)^2, where\n",
    "#    d_ij  is the instantaneous distance between CA atoms i and j\n",
    "#    d_ij0 is the equilibrium   distance between CA atoms i and j, taken, e.g. from a PDB crystal structure\n",
    "#    gamma is a uniform force constant\n",
    "#\n",
    "#    Two CA atoms interact, if d_ij0 <= d_cutoff, a distance cutoff parameter, \n",
    "#    so that the total ENM potential energy  reads:\n",
    "#\n",
    "#    V = \\sum_{d_{ij0}<=d_cutoff} V(d_ij)\n",
    "#\n",
    "#    Since these potential terms are all harmonic, we can\n",
    "#    compute the Hessian of this ENM potential analytically (see below).\n",
    "#\n",
    "#    Optimal parameter values for gamma and d_cutoff can be determined \n",
    "#    via comparison between computed and experimental B-factors provided in a given PDB structure.\n",
    "#    (In solid state physics, these B-factors, also known as Debye–Waller or temperature factors, are measures\n",
    "#    of the structural flexibility (thus dynamics) of individual atoms.)\n",
    "#    For given values of gamma and d_cutoff, one can compute B_enm, the B-factors determined from an ENM.\n",
    "#    The values of gamma and d_cutoff, which result in B_enm values that best match the experimental B_exp values,\n",
    "#    are defined to be optimal.\n",
    "#    In this tutorial, we will first optimize for d_cutoff with fixed gamma by maximizing the Pearson correlation\n",
    "#    between B_enm and B_exp (this turns out to be independent of gamma). Then, with optimal d_cutoff, we will \n",
    "#    optimize for gamma with the requirement that sum(B_enm) == sum(B_exp).\n",
    "#"
   ]
  },
  {
   "cell_type": "code",
   "execution_count": 3,
   "metadata": {
    "collapsed": true
   },
   "outputs": [],
   "source": [
    "#    1)\n",
    "#    As a first exercise, open the elastic network model (or \"ANM\") server at\n",
    "#    http://anm.csb.pitt.edu\n",
    "#    \"Enter the PDB id of your protein\", e.g. 4AKE, or a PDB ID of any other protein deposited at\n",
    "#    http://www.rcsb.org\n",
    "#    You will be able to visualize individual ENM eigen modes by selecting different values for \"Modes\"."
   ]
  },
  {
   "cell_type": "code",
   "execution_count": 4,
   "metadata": {
    "collapsed": true
   },
   "outputs": [],
   "source": [
    "#    1a) What kind of dynamics do you observe? (short sentence, no essays, please :-) )\n",
    "#        ANSWER: We can see different vibrations.\n",
    "#\n",
    "#    1b) Given that you see the results of an ENM (a \"network of Hookean springs\" model of a protein structure),\n",
    "#        can you find an explanation for why in the first eigen mode, some regions are more flexible than others?\n",
    "#        ANSWER: The regions on the edge of the molecule are interact less with the other atoms and can thereby \n",
    "#        move more freely. The atoms in the center are sens forces in two oposite directions. Therefore, they are\n",
    "#        not as flexible."
   ]
  },
  {
   "cell_type": "code",
   "execution_count": 5,
   "metadata": {
    "collapsed": true
   },
   "outputs": [],
   "source": [
    "#\n",
    "#    In a complete analysis of an ENM, one has to consider all eigen modes at once.\n",
    "#    In the above server, this can be done by setting \"Modes\" to \"all\". \n",
    "#    However, this animation is not correct because:\n",
    "#    - Only the first 20 eigen modes are shown\n",
    "#    - All eigen modes are shown with constant phase difference (i.e. in synchrony).\n",
    "#      Strictly speaking, this is wrong because even if the animation starts\n",
    "#      at the equilibrium structure (zero elongation, zero phase difference), the eigen modes will quickly\n",
    "#      get out of phase (the dynamics should get all \"wobbly\"). This is because\n",
    "#      not all eigen modes have the same frequency (due to different eigenvalues)."
   ]
  },
  {
   "cell_type": "code",
   "execution_count": 6,
   "metadata": {
    "collapsed": true
   },
   "outputs": [],
   "source": [
    "#    2)\n",
    "#    Let's produce a physically correct animation of these ENM eigen modes!\n",
    "#    (first for the \"A\" chain of 4AKE)\n",
    "#    Please execute the next cell, and then see you in the cell after"
   ]
  },
  {
   "cell_type": "code",
   "execution_count": 1,
   "metadata": {
    "collapsed": true
   },
   "outputs": [],
   "source": [
    "#\n",
    "# Copyright 2012-2013, Sebastian Stolzenberg\n",
    "# Department of Physiology & Biophysics at Weill Cornell Medical College, New York, NY\n",
    "# Department of Physics, Cornell University, Ithaca, NY\n",
    "#\n",
    "# For Thesis Research in the Harel Weinstein Lab\n",
    "#\n",
    "# For Comments/Questions: ss629@cornell.edu\n",
    "#\n",
    "####################\n",
    "# The code below is based on:\n",
    "####################\n",
    "#\n",
    "# enm.py - C-alpha based elastic network model (ENM)\n",
    "#\n",
    "# (c) 2008 Willy Wriggers, Weill Cornell Medical College\n",
    "#\n",
    "# usage: ./enm.py input.pdb cutoff startmode endmode target-rms-modes target-rms-arrows\n",
    "#\n",
    "#     cutoff = distance cutoff for ENM, for Calphas typically 10-15A.\n",
    "#     startmode = mode number (integer) of first output mode (typically 7).\n",
    "#     endmode = mode number (integer) of last desired output mode.\n",
    "#     target-rms-modes = desired amplitude (rmsd from input.pdb) for the output pdb files.\n",
    "#     target-rms-arrows = desired amplitude (rmsd from input.pdb) for the VMD tcl arrows.\n",
    "#\n",
    "#     the program creates 4 files for each mode:\n",
    "#     .pdb structures (deformed) and .tcl arrows for positive and negative directions (sign ambiguity).\n",
    "#     both .pdb and .tcl files have eigenvalue information in the header.\n",
    "#     .tcl files sourcable from VMD command console (with use of \"draw delete all\", \"draw color red\", etc)\n",
    "#\n",
    "#     future plan: add interpolation to extend sparsely (C-alpha) sampled deformations\n",
    "#     to full atomic structure. This will take only 1-2 days extra time.\n",
    "\n",
    "import numpy as np\n",
    "from pdb_read_write_calphas import *\n",
    "\n",
    "import matplotlib.pyplot as plt # module for plotting \"a la\" matlab\n",
    "# this command conveniently allows you to show figures inline (i.e. within the notebook)\n",
    "%matplotlib inline\n",
    "\n",
    "PI                      = 3.14159265\n",
    "R                       = 0.00198720649981139 # in kcal/mol/K \n",
    "TEMP                    = 310                 # in K\n",
    "\n",
    "def compute_ENM(inpdb, bond_cutoff, gamma, indir = \"input\", verbose = True):\n",
    "    ''' \n",
    "    Compute the ENM Hessian of the CA atom positions of a given pdb structure.\n",
    "\n",
    "    Input Parameters:\n",
    "    inpdb       : string,      input pdb file stem\n",
    "    bond_cutoff : float,       generate an ENM movie with ENM modes startmode to endmode\n",
    "    gamma       : float,       ENM movie length in units of periods of the startmode (i.e. the most dominant mode) \n",
    "    indir       : string,      (optional), input directory name\n",
    "    verbose     : boolean,     (optional), print out detailed log info?\n",
    "    \n",
    "    Output:\n",
    "    ca_list     : list,        CA atom indices\n",
    "    eval        : numpy array, eigen values\n",
    "    evec_trans  : numpy array, eigen vector\n",
    "    '''\n",
    "    # read pdb file\n",
    "    atom_list  = read_pdb(\"input/%s.pdb\" % inpdb)\n",
    "\n",
    "    # select C-alphas\n",
    "    ca_indices = carbon_alphas(atom_list)\n",
    "    ca_list = []\n",
    "    for i in ca_indices:\n",
    "        ca_list.append(atom_list[i])\n",
    "    len_ca = len(ca_list)\n",
    "    if verbose:\n",
    "        print(\"%i carbon alpha atoms extracted\" % len_ca) \n",
    "\n",
    "    # compute (full) squared distance matrix between pairs of CA atoms\n",
    "    sqrdist_matrix = np.empty((len_ca, len_ca), float)\n",
    "    for i in range(len_ca):\n",
    "        for j in range (i+1, len_ca):\n",
    "            currsqrdist = (ca_list[i].x - ca_list[j].x) * (ca_list[i].x - ca_list[j].x) + \\\n",
    "                          (ca_list[i].y - ca_list[j].y) * (ca_list[i].y - ca_list[j].y) + \\\n",
    "                          (ca_list[i].z - ca_list[j].z) * (ca_list[i].z - ca_list[j].z)\n",
    "            sqrdist_matrix[i][j] = currsqrdist\n",
    "            sqrdist_matrix[j][i] = currsqrdist\n",
    "    for i in range(len_ca):\n",
    "        sqrdist_matrix[i][i] = 0.0\n",
    "\n",
    "    # compute (full) connectivity matrix, one connection per pair of CA atoms\n",
    "    sqrcutoff = bond_cutoff * bond_cutoff\n",
    "    conn_matrix = np.empty((len_ca, len_ca), int)\n",
    "    for i in range(len_ca):\n",
    "        for j in range(i+1):\n",
    "            conn_matrix[i][j] = 0\n",
    "        for j in range(i+1,len_ca):\n",
    "            if (sqrdist_matrix[i][j] <= sqrcutoff):\n",
    "                conn_matrix[i][j] = 1\n",
    "            else:\n",
    "                conn_matrix[i][j] = 0\n",
    "\n",
    "    # compute (full) Hessian matrix, see nma_notes_wriggers_02.pdf\n",
    "    hess_matrix = np.zeros((3*len_ca, 3*len_ca), float)\n",
    "    # off-diagonal\n",
    "    for i in range(len_ca):\n",
    "        for j in range (len_ca):\n",
    "            r = [ca_list[i].x - ca_list[j].x, ca_list[i].y - ca_list[j].y, ca_list[i].z - ca_list[j].z]\n",
    "            if (i==j):\n",
    "                rsqu = 1\n",
    "            else:\n",
    "                rsqu = sqrdist_matrix[i][j]\n",
    "            for m in range(3):\n",
    "                for n in range(3):\n",
    "                    hess_matrix[3*i + m][3*j + n] = - gamma * (conn_matrix[i][j] + conn_matrix[j][i]) * r[m] * r[n] / rsqu\n",
    "    # on-diagonal\n",
    "    for i in range(len_ca):\n",
    "        for j in range (len_ca):\n",
    "            r = [ca_list[i].x - ca_list[j].x, ca_list[i].y - ca_list[j].y, ca_list[i].z - ca_list[j].z]\n",
    "            if (i==j):\n",
    "                rsqu = 1\n",
    "            else:\n",
    "                rsqu = sqrdist_matrix[i][j]\n",
    "            for m in range(3):\n",
    "                for n in range(3):\n",
    "                    hess_matrix[3*i + m][3*i + n] += gamma * (conn_matrix[i][j] + conn_matrix[j][i]) * r[m] * r[n] / rsqu;\n",
    "\n",
    "    # diagonalize Hessian\n",
    "    if verbose:\n",
    "        print(\"now diagonalizing Hessian\")\n",
    "    eval, evec_trans = np.linalg.eigh(hess_matrix, \"L\")\n",
    "    return ca_list, eval, evec_trans\n",
    "\n",
    "def compute_ENM_movie(inpdb, ca_list, eval, evec_trans, startmode, endmode, movie_length, numframes = 10, outdir = \"output\"):\n",
    "    ''' \n",
    "    Compute a movie of an ENM of a given pdb structure.\n",
    "    \n",
    "    Diagonalizing the Hessian of an elastic network model (ENM) yields a spectrum of\n",
    "    eigen modes (eigenvalues and eigenvectors). This function visualizes these eigen modes, or a subset of them,\n",
    "    by superimposing the corresponding eigen vectors weighted by their eigen values.\n",
    "    The initial phase of each eigen vector is set to PI/2.\n",
    "\n",
    "    Input Parameters:\n",
    "    \n",
    "    inpdb              : string,       input pdb file stem\n",
    "    ca_list            : list,         CA atom indices\n",
    "    eval               : numpy array,  eigen values\n",
    "    evec_trans         : numpy array,  eigen vector\n",
    "    startmode, endmode : integer,      generate an ENM movie with ENM modes startmode to endmode\n",
    "    movie_length       : integer,      ENM movie length in units of periods of startmode \n",
    "                                       (i.e. the most dominant ENM mode)\n",
    "    numframes          : int,          number of movie frames\n",
    "    outdir             : string,       (optional), output directory name\n",
    "    verbose            : boolean,      (optional), print out detailed log info?\n",
    "    '''\n",
    "    Nnodes                     = len(ca_list)\n",
    "    tlist                      = np.linspace(0, movie_length * 2 * PI / np.sqrt(eval[startmode]), numframes)\n",
    "    #tlist                      = np.arange(0, movie_length * 2 * PI / np.sqrt(eval[startmode]), dt) \n",
    "    normalcoords               = np.sqrt(2*R*TEMP) / np.outer(np.sqrt(eval), np.ones(len(tlist))) * np.cos(np.outer(np.sqrt(eval), tlist) + PI / 2.)\n",
    "    normalcoords[:startmode]   = np.zeros(np.shape(normalcoords[:startmode]))\n",
    "    normalcoords[endmode:]     = np.zeros(np.shape(normalcoords[endmode:]))\n",
    "    gen_equ_coords             = []\n",
    "    for i in np.arange(0, 3 * Nnodes, 3):\n",
    "        gen_equ_coords += [ca_list[i / 3].x, ca_list[i / 3].y, ca_list[i / 3].z]\n",
    "    gen_equ_coords = np.array(gen_equ_coords)\n",
    "    generalcoords = np.outer(gen_equ_coords, np.ones(len(tlist))) + np.dot(evec_trans, normalcoords)\n",
    "    f = open(\"%s/%s_nms_s%d_e%d_%dT.pdb\" % (outdir,\n",
    "                                                         inpdb,\n",
    "                                                         startmode,\n",
    "                                                         endmode,\n",
    "                                                         movie_length), 'w')\n",
    "    for k in range(len(tlist)):\n",
    "        inodenum = 0\n",
    "        for i in range(0, 3 * Nnodes, 3):\n",
    "            inodenum += 1\n",
    "            f.write(ca_list[i / 3].recd)\n",
    "            f.write(\"%5d \" % ca_list[i / 3].serial)\n",
    "            f.write(ca_list[i / 3].type)\n",
    "            f.write(ca_list[i / 3].loc)\n",
    "            f.write(ca_list[i / 3].alt)\n",
    "            f.write(ca_list[i / 3].res)\n",
    "            f.write(ca_list[i / 3].chain)\n",
    "            f.write(\"%4d\" % ca_list[i / 3].seq)\n",
    "            f.write(ca_list[i / 3].icode)\n",
    "            f.write(\"   \")\n",
    "            f.write('%8.3f' % generalcoords[i + 0, k])\n",
    "            f.write('%8.3f'   % generalcoords[i + 1, k])\n",
    "            f.write('%8.3f'   % generalcoords[i + 2, k])\n",
    "            f.write(\"%6.2f\"   % ca_list[i / 3].occupancy)\n",
    "            f.write(\"%6.2f \"  % ca_list[i / 3].beta)\n",
    "            f.write(\"%3d  \"   % ca_list[i / 3].footnote)\n",
    "            f.write(ca_list[i / 3].segid)\n",
    "            f.write(ca_list[i / 3].element)\n",
    "            f.write(ca_list[i / 3].charge)\n",
    "            f.write('\\n')\n",
    "        f.write('TER')\n",
    "        f.write('\\n')\n",
    "        f.write('ENDMDL')\n",
    "        f.write('\\n')\n",
    "    f.close()\n",
    "\n",
    "def read_B_exp(inpdb):\n",
    "    ''' \n",
    "    Extracts the experimental B factors from a structure file deposited in the PDB database\n",
    "    \n",
    "    Input Parameters:\n",
    "    inpdb              : string,       input pdb file stem\n",
    "\n",
    "    Output:\n",
    "    ca_list     : list,        CA atom indices\n",
    "    eval        : numpy array, eigen values\n",
    "    evec_trans  : numpy array, eigen vector\n",
    "    '''\n",
    "\n",
    "    pdb_list   = read_pdb(\"input/%s.pdb\" % inpdb)\n",
    "    ca_indices = carbon_alphas(pdb_list)\n",
    "    #print(len(ca_indices))\n",
    "\n",
    "    B_exp = []\n",
    "    # if no B-value is given for a CA-atom, we cannot be considered for comparison => ca_exclusions\n",
    "    ca_exclusions = []\n",
    "    for i in range(len(ca_indices)):\n",
    "        if pdb_list[ca_indices[i]].beta == 0:\n",
    "            ca_exclusions.append(i)\n",
    "        else:\n",
    "            B_exp.append(pdb_list[ca_indices[i]].beta)\n",
    "\n",
    "    B_exp = np.array(B_exp)\n",
    "    return B_exp, ca_exclusions"
   ]
  },
  {
   "cell_type": "code",
   "execution_count": 18,
   "metadata": {},
   "outputs": [
    {
     "name": "stdout",
     "output_type": "stream",
     "text": [
      "214 carbon alpha atoms extracted\n",
      "now diagonalizing Hessian\n",
      "10.0 0.77589070925\n",
      "214 carbon alpha atoms extracted\n",
      "now diagonalizing Hessian\n",
      "11.0 0.787352904315\n",
      "214 carbon alpha atoms extracted\n",
      "now diagonalizing Hessian\n",
      "12.0 0.79519820618\n",
      "214 carbon alpha atoms extracted\n",
      "now diagonalizing Hessian\n",
      "13.0 0.793015702067\n",
      "214 carbon alpha atoms extracted\n",
      "now diagonalizing Hessian\n",
      "14.0 0.799875785329\n",
      "214 carbon alpha atoms extracted\n",
      "now diagonalizing Hessian\n",
      "15.0 0.80941266553\n"
     ]
    }
   ],
   "source": [
    "# .. hello, back again.\n",
    "#\n",
    "# Now that we have loaded some essential code, let's first optimize \n",
    "# for the ENM parameterse d_cutoff and gamma (see Background above)\n",
    "\n",
    "# first optimize for d_cutoff at gamma=1.0:\n",
    "\n",
    "# read experimental B-factors\n",
    "inpdb                = \"4AKEA_CA\"\n",
    "B_exp, ca_exclusions = read_B_exp(inpdb)\n",
    "l_cutoff_Bcorrs      = []\n",
    "gamma                =  1.0\n",
    "xcov                 = {}\n",
    "# cutoff should be about 10-15A for carbon alphas\n",
    "for mycutoff in np.arange(10, 15.5, 1):\n",
    "    ca_list, eval, evec_trans = compute_ENM(inpdb, mycutoff, gamma, indir = \"input\", verbose = True)\n",
    "    len_ca   = len(ca_list)\n",
    "\n",
    "    hinv=1./eval[6] * np.outer(evec_trans[:,6], evec_trans[:,6])\n",
    "    for i in range(7,3*len_ca):\n",
    "        hinv += 1. / eval[i] * np.outer(evec_trans[:,i], evec_trans[:,i])\n",
    "\n",
    "    crosscov = np.empty((len_ca, len_ca), float)\n",
    "    for i in range(len_ca):\n",
    "        for j in range(len_ca):\n",
    "            Hinvij = hinv[3*i:3*i+3, 3*j:3*j+3]\n",
    "            #Hinvii=hinv[3*i:3*i+3,3*i:3*i+3]\n",
    "            #Hinvjj=hinv[3*j:3*j+3,3*j:3*j+3]\n",
    "            #crosscorr[i,j]=np.trace(Hinvij)/np.sqrt(np.trace(Hinvii)*np.trace(Hinvjj))\n",
    "            crosscov[i,j] = np.trace(Hinvij)\n",
    "    \n",
    "    xcov[mycutoff] = list(np.diag(crosscov))\n",
    "    for i in range(len(ca_exclusions)-1,-1,-1):\n",
    "        del xcov[mycutoff][ca_exclusions[i]]\n",
    "    xcov[mycutoff] = np.array(xcov[mycutoff])\n",
    "\n",
    "    # R=N_A*k\n",
    "    B_nma = 8 * PI**2 * R * TEMP / 3 / gamma * xcov[mycutoff]\n",
    "    corr  = np.corrcoef([B_exp, B_nma])[0, 1]\n",
    "    #print \"B_exp: \",B_exp\n",
    "    #print \"B_nma: \",B_nma\n",
    "    print mycutoff, corr\n",
    "    l_cutoff_Bcorrs.append([mycutoff, corr])\n",
    "\n",
    "l_cutoff_Bcorrs = np.array(l_cutoff_Bcorrs)"
   ]
  },
  {
   "cell_type": "code",
   "execution_count": 19,
   "metadata": {},
   "outputs": [
    {
     "name": "stdout",
     "output_type": "stream",
     "text": [
      "cutoff with highest corrcoef([B_exp, B_nma])= 0.80941266553 :  15.0\n"
     ]
    },
    {
     "data": {
      "image/png": "[encoded data removed]",
      "text/plain": [
       "<matplotlib.figure.Figure at 0x7fb8c4585d10>"
      ]
     },
     "metadata": {},
     "output_type": "display_data"
    }
   ],
   "source": [
    "l_cutoff_Bcorrs = np.array(l_cutoff_Bcorrs)\n",
    "plt.figure()\n",
    "plt.plot(l_cutoff_Bcorrs[:,0], l_cutoff_Bcorrs[:,1])\n",
    "plt.xlabel(r\"bond cutoff [$\\AA$]\")\n",
    "plt.ylabel(r\"pearson correlation coefficient\")\n",
    "print \"cutoff with highest corrcoef([B_exp, B_nma])=\", np.max(l_cutoff_Bcorrs[:,1]), \": \", l_cutoff_Bcorrs[np.argmax(l_cutoff_Bcorrs[:,1]), 0]\n",
    "\n",
    "d_cutoff = l_cutoff_Bcorrs[np.argmax(l_cutoff_Bcorrs[:,1]), 0]"
   ]
  },
  {
   "cell_type": "code",
   "execution_count": 20,
   "metadata": {},
   "outputs": [
    {
     "name": "stdout",
     "output_type": "stream",
     "text": [
      "optimal gamma:  0.243951303462\n"
     ]
    },
    {
     "data": {
      "text/plain": [
       "[<matplotlib.lines.Line2D at 0x7fb8c44dea10>]"
      ]
     },
     "execution_count": 20,
     "metadata": {},
     "output_type": "execute_result"
    },
    {
     "data": {
      "image/png": "[encoded data removed]",
      "text/plain": [
       "<matplotlib.figure.Figure at 0x7fb8c465cd10>"
      ]
     },
     "metadata": {},
     "output_type": "display_data"
    }
   ],
   "source": [
    "#\n",
    "# determine optimal value for gamma\n",
    "#\n",
    "gamma = 8 * PI**2 * R * TEMP / 3 * xcov[d_cutoff].sum() / B_exp.sum()\n",
    "print \"optimal gamma: \", gamma\n",
    "\n",
    "#\n",
    "B_enm = 8 * PI**2 * R * TEMP / 3 / gamma * xcov[d_cutoff]\n",
    "\n",
    "#\n",
    "# plot B_exp and B_enm\n",
    "#\n",
    "plt.figure()\n",
    "plt.title(\"Bfactors B_exp (blue) and B_anm (green)\\n gamma=%.3fkcal/mol/A^2, cutoff=%.1fA, corrcoef=%.3f\" % (gamma, mycutoff, corrcoef([B_exp,B_nma])[0,1]) )\n",
    "plt.xlabel(\"CA index\",fontsize=12)\n",
    "plt.ylabel(\"Bfactor in kcal/mol/A^2\",fontsize=12)\n",
    "plt.plot(B_exp)\n",
    "plt.plot(B_enm)\n",
    "#plt.savefig(\"./output/\"+inputfolder+\"/B_nma.vs.B_exp.\"+inputfolder+\".png\")"
   ]
  },
  {
   "cell_type": "code",
   "execution_count": 21,
   "metadata": {},
   "outputs": [
    {
     "name": "stdout",
     "output_type": "stream",
     "text": [
      "214 carbon alpha atoms extracted\n",
      "now diagonalizing Hessian\n"
     ]
    },
    {
     "name": "stderr",
     "output_type": "stream",
     "text": [
      "/home/lukas/mypackages/miniconda2/envs/ase/lib/python2.7/site-packages/ipykernel_launcher.py:151: RuntimeWarning: invalid value encountered in sqrt\n"
     ]
    }
   ],
   "source": [
    "# Now generate a pdb animation of the ENM ...\n",
    "\n",
    "# covering \"movie_length\" periods of the first non-trivial eigen mode\n",
    "movie_length = 50\n",
    "# considering eigen modes startmode to endmode \n",
    "# - the first six eigen modes (modes \"0\" to \"5\") are trivial and thus not interesting, and result from\n",
    "# overall translations and rotations (these have zero eigenvalues are not even considered in the ANM server above)\n",
    "startmode               = 6\n",
    "endmode                 = 7\n",
    "# number of animation frames\n",
    "numframes               = 500 \n",
    "\n",
    "# compute ENM\n",
    "ca_list, eval, evec_trans = compute_ENM(inpdb, d_cutoff, gamma, indir = \"input\", verbose = True)\n",
    "\n",
    "# compute ENM animation\n",
    "compute_ENM_movie(inpdb, ca_list, eval, evec_trans, startmode, endmode, movie_length, numframes)\n",
    "\n",
    "# you can visualize this pdb animation, e.g., with the program \"VMD\":\n",
    "# http://www.ks.uiuc.edu/Development/Download/download.cgi?PackageName=VMD\n",
    "#\n",
    "# e.g. in VMD: \"Extensions\"->\"Tk Console\", and type in:\n",
    "# mol load pdb 4AKEA_CA_nms_s6_e7_50T.pdb\n",
    "# mol representation Tube 0.300000 12.000000\n",
    "# mol selection {all}\n",
    "# mol addrep top"
   ]
  },
  {
   "cell_type": "code",
   "execution_count": 12,
   "metadata": {
    "collapsed": true
   },
   "outputs": [],
   "source": [
    "#\n",
    "# 2a) What do you observe? Which region is the most flexible? How is this reflected in the B_factor plots above?\n",
    "#     ANSWER: The region around CA 150 is the most flexible. This is reflected by the peaks in the B_factor plots\n",
    "#     in this region. Less flexible is the region around CA 55.\n",
    "#"
   ]
  },
  {
   "cell_type": "code",
   "execution_count": 13,
   "metadata": {
    "collapsed": true
   },
   "outputs": [],
   "source": [
    "# 2b)\n",
    "# Consider an ENM as a model full of \"Hookean springs\" that connect pairs of CA-atoms.\n",
    "# As a whole, the \"springs\" make the CA atoms more or less flexible.\n",
    "# How could you \"rigidify\" the very flexible region from above?\n",
    "# Hint: You will need to hack yourself into the \"compute_ENM\" function by modifying the Hessian matrix, which is\n",
    "# a 3N*3N matrix, where N is the number of CA atoms. \n",
    "# So entries in the first 3 rows/columns relate to first CA atom etc.\n",
    "#\n",
    "#Idea: increase gamma for the flexible regions"
   ]
  },
  {
   "cell_type": "code",
   "execution_count": 14,
   "metadata": {
    "collapsed": true
   },
   "outputs": [],
   "source": [
    "#\n",
    "# Bonus question 2c):\n",
    "# ENM scanner to identify residue positions that are \n",
    "# most disruptive to the overall dynamics upon alanine mutation\n",
    "# (Upon request)\n",
    "#"
   ]
  },
  {
   "cell_type": "code",
   "execution_count": null,
   "metadata": {
    "collapsed": true
   },
   "outputs": [],
   "source": []
  }
 ],
 "metadata": {
  "kernelspec": {
   "display_name": "Python 2",
   "language": "python",
   "name": "python2"
  },
  "language_info": {
   "codemirror_mode": {
    "name": "ipython",
    "version": 2
   },
   "file_extension": ".py",
   "mimetype": "text/x-python",
   "name": "python",
   "nbconvert_exporter": "python",
   "pygments_lexer": "ipython2",
   "version": "2.7.13"
  }
 },
 "nbformat": 4,
 "nbformat_minor": 2
}
