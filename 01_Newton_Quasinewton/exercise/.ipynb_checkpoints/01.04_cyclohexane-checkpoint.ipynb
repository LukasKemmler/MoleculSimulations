{
 "cells": [
  {
   "cell_type": "code",
   "execution_count": 5,
   "metadata": {
    "collapsed": true
   },
   "outputs": [],
   "source": [
    "from ase.io import read\n",
    "from ase import Atoms\n",
    "from ase.optimize import *\n",
    "from ase.visualize import view\n",
    "from ase.md import *\n",
    "from ase.calculators.mopac import  *\n",
    "import nglview"
   ]
  },
  {
   "cell_type": "code",
   "execution_count": 6,
   "metadata": {
    "collapsed": true
   },
   "outputs": [],
   "source": [
    "# in this notebook we are trying to minimise Cyclohexane(C6H12) starting from two different intial structures-\n",
    "#Please explain that how many different minimia we can see for cyclohexane ?\n",
    "# Please discuss about reasons behind exploring multiple minimas in cyclohexane."
   ]
  },
  {
   "cell_type": "code",
   "execution_count": 7,
   "metadata": {},
   "outputs": [
    {
     "name": "stdout",
     "output_type": "stream",
     "text": [
      "potential energy: -0.82629539891\n",
      "gradient [[ 0.15321227  0.60950175  0.82286656]\n",
      " [-0.00243555  0.05100296 -0.10967708]\n",
      " [-0.50661454 -0.23193956 -0.17182579]\n",
      " [-0.05297395 -0.01487745  0.06060313]\n",
      " [ 0.65275304  0.99418599 -0.55223181]\n",
      " [ 0.01342163 -1.50533776  0.01436801]\n",
      " [ 0.0573323   0.37303329 -0.02657921]\n",
      " [-0.03584699 -0.28512851  0.23139022]\n",
      " [-0.08722657 -0.29217986  0.09604367]\n",
      " [ 0.00272457  0.26764167 -0.11593162]\n",
      " [-0.29047955 -0.06446878 -0.09851767]\n",
      " [ 0.18426952  0.18557695  0.08302506]\n",
      " [-0.00509502 -0.23367529 -0.19086967]\n",
      " [-0.07235472  0.24196092  0.18581259]\n",
      " [ 0.13322128 -0.18174841 -0.31354133]\n",
      " [ 0.01139015  0.38004262  0.14493076]\n",
      " [ 0.30526407 -0.2885113   0.06705532]\n",
      " [-0.42210729  0.03727696 -0.09037749]]\n",
      "BFGSLineSearch:   0[  0]  16:43:46       -0.826295       1.5055\n",
      "BFGSLineSearch:   1[  2]  16:43:49       -0.909779       0.6930\n",
      "BFGSLineSearch:   2[  4]  16:43:51       -0.947522       0.3328\n",
      "BFGSLineSearch:   3[  6]  16:43:53       -0.962671       0.3260\n",
      "BFGSLineSearch:   4[  8]  16:43:56       -0.977013       0.2269\n",
      "BFGSLineSearch:   5[ 10]  16:43:58       -0.984112       0.1600\n",
      "BFGSLineSearch:   6[ 11]  16:44:00       -0.993534       0.3376\n",
      "BFGSLineSearch:   7[ 13]  16:44:03       -1.008529       0.2863\n",
      "BFGSLineSearch:   8[ 15]  16:44:05       -1.017499       0.2484\n",
      "BFGSLineSearch:   9[ 17]  16:44:08       -1.028481       0.1876\n",
      "potential energy: -0.747004548933\n",
      "gradient [[-0.76139888  0.1985125   1.25955871]\n",
      " [ 1.00681518 -0.10271181  1.05917362]\n",
      " [ 0.822895    1.18336861 -0.18958349]\n",
      " [ 0.69801485 -0.18419229 -1.24438995]\n",
      " [-1.02393282  0.10726612 -1.03240638]\n",
      " [-0.82115788 -1.2364593   0.09177729]\n",
      " [-0.41452269  0.48443466  0.36286241]\n",
      " [-0.24401503 -0.11947009  0.66328262]\n",
      " [ 0.47377546 -0.48231789  0.28300176]\n",
      " [ 0.34696786  0.11350735  0.60250578]\n",
      " [ 0.57121575  0.40258789 -0.0032589 ]\n",
      " [-0.02937602  0.72723645  0.04486998]\n",
      " [ 0.48195645 -0.44696672 -0.32066202]\n",
      " [ 0.30803538  0.15325039 -0.60839437]\n",
      " [-0.34640525 -0.10748312 -0.59366145]\n",
      " [-0.4787609   0.49664326 -0.27984485]\n",
      " [ 0.02755941 -0.73118064 -0.05084581]\n",
      " [-0.57446012 -0.41119016 -0.00174484]]\n",
      "BFGSLineSearch:   0[  0]  16:44:12       -0.747005       1.4871\n",
      "BFGSLineSearch:   1[  2]  16:44:15       -0.997872       0.8149\n",
      "BFGSLineSearch:   2[  4]  16:44:18       -1.119691       0.3615\n",
      "BFGSLineSearch:   3[  5]  16:44:20       -1.182506       0.2352\n",
      "BFGSLineSearch:   4[  7]  16:44:22       -1.189134       0.1029\n",
      "BFGSLineSearch:   5[  8]  16:44:25       -1.191733       0.0707\n",
      "BFGSLineSearch:   6[ 10]  16:44:27       -1.192064       0.0511\n",
      "BFGSLineSearch:   7[ 12]  16:44:30       -1.192269       0.0291\n",
      "BFGSLineSearch:   8[ 14]  16:44:32       -1.192348       0.0140\n",
      "BFGSLineSearch:   9[ 15]  16:44:34       -1.192393       0.0336\n"
     ]
    }
   ],
   "source": [
    "# Mopac command\n",
    "\n",
    "calc=Mopac(restart=0, spin=0, OPT=False, functional='PM6', job_type='NOANCI 1SCF NOSYMM GRADIENTS AUX(0,PRECISION=9)', RELSCF=0.0001)\n",
    "\n",
    "# Read initial structure A: \n",
    "A = read('input/A.xyz')\n",
    "molecule=Atoms(A)\n",
    "\n",
    "wdg_init_A = nglview.show_ase(molecule)\n",
    "wdg_init_A.add_representation('ball+stick')\n",
    "wdg_init_A.center_view(range(3))\n",
    "\n",
    "# minimisation process: \n",
    "\n",
    "molecule.set_calculator(calc)\n",
    "ener=molecule.get_potential_energy()\n",
    "print \"potential energy:\", ener\n",
    "grad=molecule.get_forces()\n",
    "print \"gradient\", grad\n",
    "dyn = QuasiNewton(molecule, trajectory='A.opt.traj')\n",
    "dyn.run(fmax=???, steps=???)\n",
    "\n",
    "# write optimised structure A:\n",
    "\n",
    "outfile=\"output/A.opt.xyz\"\n",
    "molecule.write(outfile)\n",
    "\n",
    "# Read initial structure B:\n",
    "\n",
    "B = read('input/B.xyz')\n",
    "molecule1=Atoms(B)\n",
    "\n",
    "wdg_init_B = nglview.show_ase(molecule1)\n",
    "wdg_init_B.add_representation('ball+stick')\n",
    "wdg_init_B.center_view(range(3))\n",
    "\n",
    "# minimisation process: \n",
    "\n",
    "molecule1.set_calculator(calc)\n",
    "ener=molecule1.get_potential_energy() \n",
    "print \"potential energy:\", ener\n",
    "grad=molecule1.get_forces()\n",
    "print \"gradient\", grad\n",
    "\n",
    "# write optimised structure B:\n",
    "\n",
    "dyn = QuasiNewton(molecule1, trajectory='B.opt.traj')\n",
    "dyn.run(fmax=???, steps=????)\n",
    "outfile=\"output/B.opt.xyz\"\n",
    "molecule1.write(outfile)\n",
    "\n",
    "\n",
    "\n",
    "\n",
    "\n"
   ]
  },
  {
   "cell_type": "code",
   "execution_count": 8,
   "metadata": {},
   "outputs": [
    {
     "data": {
      "application/vnd.jupyter.widget-view+json": {
       "model_id": "3a609dc36cda452ebe13380c86ae7fdb"
      }
     },
     "metadata": {},
     "output_type": "display_data"
    },
    {
     "data": {
      "application/vnd.jupyter.widget-view+json": {
       "model_id": "82d250e1c02a40b19879e5c846a46db5"
      }
     },
     "metadata": {},
     "output_type": "display_data"
    }
   ],
   "source": [
    "# Visualize boat before minimisation!\n",
    "wdg_init_A.display(gui=True)"
   ]
  },
  {
   "cell_type": "code",
   "execution_count": 9,
   "metadata": {},
   "outputs": [
    {
     "data": {
      "application/vnd.jupyter.widget-view+json": {
       "model_id": "d7cf4b32ac9e4fae94ffd056fd275f5a"
      }
     },
     "metadata": {},
     "output_type": "display_data"
    },
    {
     "data": {
      "application/vnd.jupyter.widget-view+json": {
       "model_id": "fc93fa6e297f4197acde3215356adb55"
      }
     },
     "metadata": {},
     "output_type": "display_data"
    }
   ],
   "source": [
    "# Visualize boat after minimisation!\n",
    "wdg = nglview.show_ase(molecule)\n",
    "wdg.add_representation('ball+stick')\n",
    "wdg.center_view(range(3))\n",
    "wdg.display(gui=True)"
   ]
  },
  {
   "cell_type": "code",
   "execution_count": 10,
   "metadata": {},
   "outputs": [
    {
     "data": {
      "application/vnd.jupyter.widget-view+json": {
       "model_id": "72f866ee6b434adea305535cc4b038a3"
      }
     },
     "metadata": {},
     "output_type": "display_data"
    },
    {
     "data": {
      "application/vnd.jupyter.widget-view+json": {
       "model_id": "6b58f24185454045869eca537323b3a6"
      }
     },
     "metadata": {},
     "output_type": "display_data"
    }
   ],
   "source": [
    "# Visualize boat before minimisation!\n",
    "\n",
    "wdg_init_B.display(gui=True)"
   ]
  },
  {
   "cell_type": "code",
   "execution_count": 11,
   "metadata": {},
   "outputs": [
    {
     "data": {
      "application/vnd.jupyter.widget-view+json": {
       "model_id": "2211042aafeb4783a926fd8014e30dbd"
      }
     },
     "metadata": {},
     "output_type": "display_data"
    },
    {
     "data": {
      "application/vnd.jupyter.widget-view+json": {
       "model_id": "ad2832b124cb427595e4822a39a58d8a"
      }
     },
     "metadata": {},
     "output_type": "display_data"
    }
   ],
   "source": [
    "# Visualize boat after minimisation!\n",
    "\n",
    "wdg = nglview.show_ase(molecule1)\n",
    "wdg.add_representation('ball+stick')\n",
    "wdg.center_view(range(3))\n",
    "wdg.display(gui=True)"
   ]
  }
 ],
 "metadata": {
  "kernelspec": {
   "display_name": "Python 2",
   "language": "python",
   "name": "python2"
  },
  "language_info": {
   "codemirror_mode": {
    "name": "ipython",
    "version": 2
   },
   "file_extension": ".py",
   "mimetype": "text/x-python",
   "name": "python",
   "nbconvert_exporter": "python",
   "pygments_lexer": "ipython2",
   "version": "2.7.13"
  }
 },
 "nbformat": 4,
 "nbformat_minor": 2
}
