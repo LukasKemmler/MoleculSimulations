{
 "cells": [
  {
   "cell_type": "code",
   "execution_count": null,
   "metadata": {
    "collapsed": true
   },
   "outputs": [],
   "source": [
    "from ase.io import read\n",
    "from ase import Atoms\n",
    "from ase.optimize import *\n",
    "from ase.visualize import view\n",
    "from ase.md import *\n",
    "from ase.calculators.mopac import *\n",
    "from ase.constraints import *\n",
    "\n",
    "import nglview"
   ]
  },
  {
   "cell_type": "code",
   "execution_count": null,
   "metadata": {},
   "outputs": [],
   "source": [
    "#\n",
    "# In this tutorial notebook, you will explore the physical phenomenon of geometrical frustration\n",
    "# for sets of oxygen position-constrained, yet otherwise freely rotatable water molecules.\n",
    "# For now, consider the set of three such water molecules, whose oxygen atoms are arranged in a triangle\n",
    "#\n",
    "instem = \"3h2o.flat_triangle\"\n",
    "wdg_init = nglview.show_structure_file(\"input/%s.pdb\" % (instem))\n",
    "wdg_init.add_representation('ball+stick')\n",
    "wdg_init.center_view()\n",
    "wdg_init.display(gui=True)"
   ]
  },
  {
   "cell_type": "code",
   "execution_count": null,
   "metadata": {},
   "outputs": [],
   "source": [
    "#\n",
    "# optimize the geometry of this water set with BFGS\n",
    "#\n",
    "\n",
    "# number of optimization iterations\n",
    "numsteps = 20\n",
    "\n",
    "calc = Mopac(restart=0, spin=0, OPT=False, functional='PM6', job_type='NOANCI 1SCF GRADIENTS AUX(0,PRECISION=9)', RELSCF=0.0001)\n",
    "\n",
    "model = \"%s\" % (instem)\n",
    "water   = read(\"input/%s.pdb\" % (model), format=\"pdb\")\n",
    "molecule = Atoms(water)\n",
    "\n",
    "# add constraints on oxygen atoms\n",
    "c = FixAtoms(indices=[atom.index for atom in molecule if atom.symbol == 'O'])\n",
    "molecule.set_constraint(c)\n",
    "molecule.set_calculator(calc)\n",
    "\n",
    "print \"model\", model\n",
    "ener = molecule.get_potential_energy()\n",
    "print \"potential energy:\", ener\n",
    "grad = molecule.get_forces()\n",
    "print \"gradient\", grad\n",
    "\n",
    "dyn =  QuasiNewton(molecule, trajectory = \"output/\" + model + '.water.QN_opt.traj')\n",
    "dyn.run(fmax=0.005, steps = numsteps)\n",
    "outfile = \"output/\" + model + \".QN_opt.pdb\"\n",
    "molecule.write(outfile)"
   ]
  },
  {
   "cell_type": "code",
   "execution_count": null,
   "metadata": {},
   "outputs": [],
   "source": [
    "#\n",
    "# compare the initial structure with ...\n",
    "#\n",
    "instem = \"3h2o.flat_triangle\"\n",
    "wdg_init = nglview.show_structure_file(\"input/%s.pdb\" % (instem))\n",
    "wdg_init.add_representation('ball+stick')\n",
    "wdg_init.center_view()\n",
    "wdg_init.display(gui=True)"
   ]
  },
  {
   "cell_type": "code",
   "execution_count": null,
   "metadata": {},
   "outputs": [],
   "source": [
    "#\n",
    "# ... with the optimized structure\n",
    "#\n",
    "wdg_final = nglview.show_ase(molecule)\n",
    "wdg_final.add_representation('ball+stick')\n",
    "wdg_final.center_view(range(3))\n",
    "wdg_final.display(gui=True)"
   ]
  },
  {
   "cell_type": "code",
   "execution_count": null,
   "metadata": {},
   "outputs": [],
   "source": [
    "#\n",
    "# Now delete the third water molecule and reoptimize\n",
    "#\n",
    "\n",
    "#\n",
    "# remember optimized structure visualization from above with three H2O\n",
    "#\n",
    "wdg_final_3h2o = nglview.show_ase(molecule)\n",
    "wdg_final_3h2o.add_representation('ball+stick')\n",
    "wdg_final_3h2o.center_view(range(3))\n",
    "\n",
    "calc = Mopac(restart=0, spin=0, OPT=False, functional='PM6', job_type='NOANCI 1SCF GRADIENTS AUX(0,PRECISION=9)', RELSCF=0.0001)\n",
    "\n",
    "# delete constraints\n",
    "del molecule.constraints\n",
    "# delete third water molecule\n",
    "del molecule[range(6,9)]\n",
    "\n",
    "# reintroduce constraints on oxygens\n",
    "c = FixAtoms(indices=[atom.index for atom in molecule if atom.symbol == 'O'])\n",
    "molecule.set_constraint(c)\n",
    "molecule.set_calculator(calc)\n",
    "\n",
    "print \"model\", model\n",
    "ener = molecule.get_potential_energy()\n",
    "print \"potential energy:\", ener\n",
    "grad = molecule.get_forces()\n",
    "print \"gradient\", grad\n",
    "\n",
    "dyn = QuasiNewton(molecule, trajectory = \"output/\" + model + '.2h2o.QN_opt.traj')\n",
    "dyn.run(fmax=0.005, steps = numsteps)\n",
    "outfile = \"output/\" + model + \".QN_opt.2h2o.pdb\"\n",
    "molecule.write(outfile)"
   ]
  },
  {
   "cell_type": "code",
   "execution_count": null,
   "metadata": {},
   "outputs": [],
   "source": [
    "wdg_final_3h2o.display(gui=True)"
   ]
  },
  {
   "cell_type": "code",
   "execution_count": null,
   "metadata": {},
   "outputs": [],
   "source": [
    "wdg_final_2h2o = nglview.show_ase(molecule)\n",
    "wdg_final_2h2o.add_representation('ball+stick')\n",
    "wdg_final_2h2o.center_view(range(3))\n",
    "wdg_final_2h2o.display(gui=True)"
   ]
  },
  {
   "cell_type": "code",
   "execution_count": null,
   "metadata": {
    "collapsed": true
   },
   "outputs": [],
   "source": [
    "#\n",
    "# Apparently, the two water molecules alone can adopt a different ground state (G2) compared to \n",
    "# their orientation state in G3, with a lower energy.\n",
    "#\n",
    "# Reversely, it appears that in the presence of the 3rd water molecule, the two remaining water molecules\n",
    "# are geometrically frustrated, i.e. their orientation from G2 can no longer contribute to a ground state.\n",
    "#\n",
    "# Can you verify this by adding back the third water molecule?\n",
    "# (\n",
    "# - copy input/3h2o.flat_triangle.pdb to input/3h2o.flat_triangle.with_G2.pdb\n",
    "# - in input/3h2o.flat_triangle.with_G2.pdb: replace the coordinates of the first two waters\n",
    "#   with the ones from output/3h2o.flat_triangle.QN_opt.2h2o.pdb\n",
    "# )"
   ]
  },
  {
   "cell_type": "code",
   "execution_count": null,
   "metadata": {},
   "outputs": [],
   "source": [
    "#\n",
    "# Now add the third water molecule back again and reoptimize\n",
    "#\n",
    "\n",
    "calc = Mopac(restart=0, spin=0, OPT=False, functional='PM6', job_type='NOANCI 1SCF GRADIENTS AUX(0,PRECISION=9)', RELSCF=0.0001)\n",
    "\n",
    "model = \"3h2o.flat_triangle.with_G2\"\n",
    "water   = read(\"input/%s.pdb\" % (model), format=\"pdb\")\n",
    "molecule = Atoms(water)\n",
    "\n",
    "# add constraints on oxygen atoms\n",
    "c = FixAtoms(indices=[atom.index for atom in molecule if atom.symbol == 'O'])\n",
    "molecule.set_constraint(c)\n",
    "molecule.set_calculator(calc)\n",
    "\n",
    "print \"model\", model\n",
    "ener = molecule.get_potential_energy()\n",
    "print \"potential energy:\", ener\n",
    "grad = molecule.get_forces()\n",
    "print \"gradient\", grad\n",
    "\n",
    "dyn = QuasiNewton(molecule, trajectory = \"output/\" + model + '.water.QN_opt.traj')\n",
    "dyn.run(fmax=0.005, steps = numsteps)\n",
    "outfile = \"output/\" + model + \".QN_opt.pdb\"\n",
    "molecule.write(outfile)"
   ]
  },
  {
   "cell_type": "code",
   "execution_count": null,
   "metadata": {},
   "outputs": [],
   "source": [
    "#\n",
    "# visualize the optimized structure\n",
    "#\n",
    "wdg_final_2h2o = nglview.show_ase(molecule)\n",
    "wdg_final_2h2o.add_representation('ball+stick')\n",
    "wdg_final_2h2o.center_view(range(3))\n",
    "wdg_final_2h2o.display(gui=True)"
   ]
  },
  {
   "cell_type": "code",
   "execution_count": null,
   "metadata": {
    "collapsed": true
   },
   "outputs": [],
   "source": [
    "# Hä? \n",
    "# This is very odd:\n",
    "# After optimization, the water molecules have now orientated out of the 2D-plane !\n",
    "\n",
    "# TASK:\n",
    "# Can you find an explanatation for what has happend?"
   ]
  }
 ],
 "metadata": {
  "kernelspec": {
   "display_name": "Python 2",
   "language": "python",
   "name": "python2"
  },
  "language_info": {
   "codemirror_mode": {
    "name": "ipython",
    "version": 2
   },
   "file_extension": ".py",
   "mimetype": "text/x-python",
   "name": "python",
   "nbconvert_exporter": "python",
   "pygments_lexer": "ipython2",
   "version": "2.7.13"
  }
 },
 "nbformat": 4,
 "nbformat_minor": 2
}
