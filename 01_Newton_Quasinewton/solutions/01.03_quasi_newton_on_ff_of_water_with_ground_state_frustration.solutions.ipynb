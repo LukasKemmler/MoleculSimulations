{
 "cells": [
  {
   "cell_type": "code",
   "execution_count": 1,
   "metadata": {
    "collapsed": true
   },
   "outputs": [],
   "source": [
    "from ase.io import read\n",
    "from ase import Atoms\n",
    "from ase.optimize import *\n",
    "from ase.visualize import view\n",
    "from ase.md import *\n",
    "from ase.calculators.mopac import *\n",
    "from ase.constraints import *\n",
    "\n",
    "import nglview"
   ]
  },
  {
   "cell_type": "code",
   "execution_count": 2,
   "metadata": {},
   "outputs": [
    {
     "name": "stderr",
     "output_type": "stream",
     "text": [
      "The installed widget Javascript is the wrong version.\n",
      "The installed widget Javascript is the wrong version.\n"
     ]
    }
   ],
   "source": [
    "#\n",
    "# In this tutorial notebook, you will explore the physical phenomenon of geometrical frustration\n",
    "# for sets of oxygen position-constrained, yet otherwise freely rotatable water molecules.\n",
    "# For now, consider the set of three such water molecules, whose oxygen atoms are arranged in a triangle\n",
    "#\n",
    "instem = \"3h2o.flat_triangle\"\n",
    "wdg_init = nglview.show_structure_file(\"input/%s.pdb\" % (instem))\n",
    "wdg_init.add_representation('ball+stick')\n",
    "wdg_init.center_view()\n",
    "wdg_init.display(gui=True)"
   ]
  },
  {
   "cell_type": "code",
   "execution_count": 3,
   "metadata": {},
   "outputs": [
    {
     "name": "stdout",
     "output_type": "stream",
     "text": [
      "model 3h2o.flat_triangle\n",
      "potential energy: 0.54960155899\n",
      "gradient [[  0.00000000e+00   0.00000000e+00   0.00000000e+00]\n",
      " [ -1.05021277e+00  -9.60058689e-01  -2.60618329e-05]\n",
      " [  4.75815783e-01  -1.19315906e+00   9.44904058e-05]\n",
      " [  0.00000000e+00   0.00000000e+00   0.00000000e+00]\n",
      " [ -1.00337614e+00  -1.43798353e-01   9.05876355e-05]\n",
      " [  1.15372348e+01  -2.39985230e+01  -5.07763428e-03]\n",
      " [  0.00000000e+00   0.00000000e+00   0.00000000e+00]\n",
      " [ -5.60305830e+00   2.60677827e+01  -4.80105795e-03]\n",
      " [  2.69996556e-01  -5.55082133e-01   4.79607108e-05]]\n",
      "BFGSLineSearch:   0[  0]  16:29:07        0.549602      26.6632\n",
      "BFGSLineSearch:   1[  1]  16:29:08       -4.424703       4.6204\n",
      "BFGSLineSearch:   2[  2]  16:29:08       -5.205690       3.2730\n",
      "BFGSLineSearch:   3[  3]  16:29:08       -5.793190       2.9821\n",
      "BFGSLineSearch:   4[  4]  16:29:09       -6.129457       2.5009\n",
      "BFGSLineSearch:   5[  5]  16:29:09       -6.335629       0.9288\n",
      "BFGSLineSearch:   6[  6]  16:29:10       -6.411083       0.6194\n",
      "BFGSLineSearch:   7[  7]  16:29:10       -6.480944       1.0465\n",
      "BFGSLineSearch:   8[  8]  16:29:11       -6.519512       0.6799\n",
      "BFGSLineSearch:   9[  9]  16:29:11       -6.569986       0.6543\n",
      "BFGSLineSearch:  10[ 10]  16:29:12       -6.605957       0.3437\n",
      "BFGSLineSearch:  11[ 11]  16:29:12       -6.625449       0.4819\n",
      "BFGSLineSearch:  12[ 12]  16:29:13       -6.646973       0.3127\n",
      "BFGSLineSearch:  13[ 14]  16:29:13       -6.660507       0.4100\n",
      "BFGSLineSearch:  14[ 15]  16:29:14       -6.679270       0.6452\n",
      "BFGSLineSearch:  15[ 16]  16:29:14       -6.693535       0.3981\n",
      "BFGSLineSearch:  16[ 17]  16:29:15       -6.714248       0.2238\n",
      "BFGSLineSearch:  17[ 19]  16:29:15       -6.722937       0.3554\n",
      "BFGSLineSearch:  18[ 20]  16:29:16       -6.732750       0.3467\n",
      "BFGSLineSearch:  19[ 23]  16:29:16       -6.748133       0.4457\n"
     ]
    }
   ],
   "source": [
    "#\n",
    "# optimize the geometry of this water set with BFGS\n",
    "#\n",
    "\n",
    "# number of optimization iterations\n",
    "numsteps = 20\n",
    "\n",
    "calc = Mopac(restart=0, spin=0, OPT=False, functional='PM6', job_type='NOANCI 1SCF GRADIENTS AUX(0,PRECISION=9)', RELSCF=0.0001)\n",
    "\n",
    "model = \"%s\" % (instem)\n",
    "water   = read(\"input/%s.pdb\" % (model), format=\"pdb\")\n",
    "molecule = Atoms(water)\n",
    "\n",
    "# add constraints on oxygen atoms\n",
    "c = FixAtoms(indices=[atom.index for atom in molecule if atom.symbol == 'O'])\n",
    "molecule.set_constraint(c)\n",
    "molecule.set_calculator(calc)\n",
    "\n",
    "print \"model\", model\n",
    "ener = molecule.get_potential_energy()\n",
    "print \"potential energy:\", ener\n",
    "grad = molecule.get_forces()\n",
    "print \"gradient\", grad\n",
    "\n",
    "dyn =  QuasiNewton(molecule, trajectory = \"output/\" + model + '.water.QN_opt.traj')\n",
    "dyn.run(fmax=0.005, steps = numsteps)\n",
    "outfile = \"output/\" + model + \".QN_opt.pdb\"\n",
    "molecule.write(outfile)"
   ]
  },
  {
   "cell_type": "code",
   "execution_count": 4,
   "metadata": {},
   "outputs": [
    {
     "name": "stderr",
     "output_type": "stream",
     "text": [
      "The installed widget Javascript is the wrong version.\n",
      "The installed widget Javascript is the wrong version.\n"
     ]
    }
   ],
   "source": [
    "#\n",
    "# compare the initial structure with ...\n",
    "#\n",
    "instem = \"3h2o.flat_triangle\"\n",
    "wdg_init = nglview.show_structure_file(\"input/%s.pdb\" % (instem))\n",
    "wdg_init.add_representation('ball+stick')\n",
    "wdg_init.center_view()\n",
    "wdg_init.display(gui=True)"
   ]
  },
  {
   "cell_type": "code",
   "execution_count": 5,
   "metadata": {},
   "outputs": [
    {
     "name": "stderr",
     "output_type": "stream",
     "text": [
      "The installed widget Javascript is the wrong version.\n",
      "The installed widget Javascript is the wrong version.\n"
     ]
    }
   ],
   "source": [
    "wdg_final_2h2o = nglview.show_ase(molecule)\n",
    "wdg_final_2h2o.add_representation('ball+stick')\n",
    "wdg_final_2h2o.center_view(range(3))\n",
    "wdg_final_2h2o.display(gui=True)"
   ]
  },
  {
   "cell_type": "code",
   "execution_count": 6,
   "metadata": {},
   "outputs": [
    {
     "name": "stdout",
     "output_type": "stream",
     "text": [
      "model 3h2o.flat_triangle\n",
      "potential energy: -4.74463256631\n",
      "gradient [[ 0.          0.          0.        ]\n",
      " [ 0.15096627  0.48275677 -0.00178664]\n",
      " [ 0.38484017  0.11356034 -0.00102339]\n",
      " [ 0.          0.          0.        ]\n",
      " [ 0.04568566 -0.27464562  0.00126424]\n",
      " [ 0.16915179  0.00406309 -0.00147208]]\n",
      "BFGSLineSearch:   0[  0]  16:30:36       -4.744633       0.5058\n",
      "BFGSLineSearch:   1[  1]  16:30:37       -4.775554       0.3256\n",
      "BFGSLineSearch:   2[  3]  16:30:37       -4.790628       0.0894\n",
      "BFGSLineSearch:   3[  4]  16:30:38       -4.792042       0.0929\n",
      "BFGSLineSearch:   4[  7]  16:30:38       -4.803314       0.3000\n",
      "BFGSLineSearch:   5[  9]  16:30:39       -4.816766       0.3480\n",
      "BFGSLineSearch:   6[ 10]  16:30:39       -4.831528       0.4527\n",
      "BFGSLineSearch:   7[ 12]  16:30:40       -4.842310       0.2209\n",
      "BFGSLineSearch:   8[ 13]  16:30:40       -4.844633       0.1104\n",
      "BFGSLineSearch:   9[ 14]  16:30:40       -4.846993       0.0821\n",
      "BFGSLineSearch:  10[ 15]  16:30:41       -4.847692       0.0243\n",
      "BFGSLineSearch:  11[ 16]  16:30:41       -4.847811       0.0180\n",
      "BFGSLineSearch:  12[ 17]  16:30:42       -4.847869       0.0171\n",
      "BFGSLineSearch:  13[ 20]  16:30:42       -4.847955       0.0285\n",
      "BFGSLineSearch:  14[ 22]  16:30:43       -4.848375       0.0779\n",
      "BFGSLineSearch:  15[ 25]  16:30:43       -4.849837       0.1326\n",
      "BFGSLineSearch:  16[ 26]  16:30:44       -4.851038       0.1253\n",
      "BFGSLineSearch:  17[ 27]  16:30:44       -4.852289       0.0544\n",
      "BFGSLineSearch:  18[ 28]  16:30:45       -4.852745       0.1123\n",
      "BFGSLineSearch:  19[ 30]  16:30:45       -4.853180       0.0921\n"
     ]
    }
   ],
   "source": [
    "#\n",
    "# Now delete the third water molecule and reoptimize\n",
    "#\n",
    "\n",
    "#\n",
    "# remember optimized structure visualization from above with three H2O\n",
    "#\n",
    "wdg_final_3h2o = nglview.show_ase(molecule)\n",
    "wdg_final_3h2o.add_representation('ball+stick')\n",
    "wdg_final_3h2o.center_view(range(3))\n",
    "\n",
    "calc = Mopac(restart=0, spin=0, OPT=False, functional='PM6', job_type='NOANCI 1SCF GRADIENTS AUX(0,PRECISION=9)', RELSCF=0.0001)\n",
    "\n",
    "# delete constraints\n",
    "del molecule.constraints\n",
    "# delete third water molecule\n",
    "del molecule[range(6,9)]\n",
    "\n",
    "# reintroduce constraints on oxygens\n",
    "c = FixAtoms(indices=[atom.index for atom in molecule if atom.symbol == 'O'])\n",
    "molecule.set_constraint(c)\n",
    "molecule.set_calculator(calc)\n",
    "\n",
    "print \"model\", model\n",
    "ener = molecule.get_potential_energy()\n",
    "print \"potential energy:\", ener\n",
    "grad = molecule.get_forces()\n",
    "print \"gradient\", grad\n",
    "\n",
    "dyn = QuasiNewton(molecule, trajectory = \"output/\" + model + '.2h2o.QN_opt.traj')\n",
    "dyn.run(fmax=0.005, steps = numsteps)\n",
    "outfile = \"output/\" + model + \".QN_opt.2h2o.pdb\"\n",
    "molecule.write(outfile)"
   ]
  },
  {
   "cell_type": "code",
   "execution_count": 7,
   "metadata": {},
   "outputs": [
    {
     "name": "stderr",
     "output_type": "stream",
     "text": [
      "The installed widget Javascript is the wrong version.\n",
      "The installed widget Javascript is the wrong version.\n"
     ]
    }
   ],
   "source": [
    "wdg_final_3h2o.display(gui=True)"
   ]
  },
  {
   "cell_type": "code",
   "execution_count": 8,
   "metadata": {},
   "outputs": [
    {
     "name": "stderr",
     "output_type": "stream",
     "text": [
      "The installed widget Javascript is the wrong version.\n",
      "The installed widget Javascript is the wrong version.\n"
     ]
    }
   ],
   "source": [
    "wdg_final_2h2o = nglview.show_ase(molecule)\n",
    "wdg_final_2h2o.add_representation('ball+stick')\n",
    "wdg_final_2h2o.center_view(range(3))\n",
    "wdg_final_2h2o.display(gui=True)"
   ]
  },
  {
   "cell_type": "code",
   "execution_count": 9,
   "metadata": {
    "collapsed": true
   },
   "outputs": [],
   "source": [
    "#\n",
    "# Apparently, the two water molecules alone can adopt a different ground state (G2) compared to \n",
    "# their orientation state in G3, with a lower energy.\n",
    "#\n",
    "# Reversely, it appears that in the presence of the 3rd water molecule, the two remaining water molecules\n",
    "# are geometrically frustrated, i.e. their orientation from G2 can no longer contribute to a ground state.\n",
    "#\n",
    "# Can you verify this by adding back the third water molecule?\n",
    "# (\n",
    "# - copy input/3h2o.flat_triangle.pdb to input/3h2o.flat_triangle.with_G2.pdb\n",
    "# - in input/3h2o.flat_triangle.with_G2.pdb: replace the coordinates of the first two waters\n",
    "#   with the ones from output/3h2o.flat_triangle.QN_opt.2h2o.pdb\n",
    "# )"
   ]
  },
  {
   "cell_type": "code",
   "execution_count": 11,
   "metadata": {},
   "outputs": [
    {
     "name": "stdout",
     "output_type": "stream",
     "text": [
      "model 3h2o.flat_triangle.with_G2\n",
      "potential energy: -6.44853091729\n",
      "gradient [[ 0.          0.          0.        ]\n",
      " [-0.04591327 -0.63339842 -0.07416226]\n",
      " [-0.40536605 -0.13406077  0.07204167]\n",
      " [ 0.          0.          0.        ]\n",
      " [-0.05309376 -0.05881418  0.08077516]\n",
      " [ 0.34090807 -0.24020866 -0.17782492]\n",
      " [ 0.          0.          0.        ]\n",
      " [-1.07741569  1.37254665  0.19757623]\n",
      " [ 0.64830175 -0.85336146 -0.02088906]]\n",
      "BFGSLineSearch:   0[  0]  16:31:06       -6.448531       1.7561\n",
      "BFGSLineSearch:   1[  2]  16:31:07       -6.585114       0.6310\n",
      "BFGSLineSearch:   2[  3]  16:31:07       -6.648945       0.3180\n",
      "BFGSLineSearch:   3[  5]  16:31:08       -6.693037       0.5508\n",
      "BFGSLineSearch:   4[  6]  16:31:08       -6.730311       0.4207\n",
      "BFGSLineSearch:   5[  7]  16:31:09       -6.774316       0.2347\n",
      "BFGSLineSearch:   6[  8]  16:31:09       -6.795461       0.2851\n",
      "BFGSLineSearch:   7[ 10]  16:31:10       -6.822874       0.4321\n",
      "BFGSLineSearch:   8[ 13]  16:31:10       -6.882696       0.3963\n",
      "BFGSLineSearch:   9[ 15]  16:31:11       -6.914559       0.5566\n",
      "BFGSLineSearch:  10[ 17]  16:31:11       -6.934596       0.3829\n",
      "BFGSLineSearch:  11[ 18]  16:31:12       -6.958354       0.3531\n",
      "BFGSLineSearch:  12[ 19]  16:31:12       -6.973277       0.3280\n",
      "BFGSLineSearch:  13[ 20]  16:31:13       -6.988273       0.4795\n",
      "BFGSLineSearch:  14[ 21]  16:31:13       -7.005756       0.2284\n",
      "BFGSLineSearch:  15[ 22]  16:31:14       -7.015619       0.1881\n",
      "BFGSLineSearch:  16[ 23]  16:31:14       -7.024451       0.2635\n",
      "BFGSLineSearch:  17[ 24]  16:31:15       -7.031571       0.2230\n",
      "BFGSLineSearch:  18[ 25]  16:31:15       -7.036474       0.1671\n",
      "BFGSLineSearch:  19[ 27]  16:31:16       -7.044535       0.1441\n"
     ]
    }
   ],
   "source": [
    "#\n",
    "# Now add the third water molecule back again and reoptimize\n",
    "#\n",
    "\n",
    "calc = Mopac(restart=0, spin=0, OPT=False, functional='PM6', job_type='NOANCI 1SCF GRADIENTS AUX(0,PRECISION=9)', RELSCF=0.0001)\n",
    "\n",
    "model = \"3h2o.flat_triangle.with_G2\"\n",
    "water   = read(\"input/%s.pdb\" % (model), format=\"pdb\")\n",
    "molecule = Atoms(water)\n",
    "\n",
    "# add constraints on oxygen atoms\n",
    "c = FixAtoms(indices=[atom.index for atom in molecule if atom.symbol == 'O'])\n",
    "molecule.set_constraint(c)\n",
    "molecule.set_calculator(calc)\n",
    "\n",
    "print \"model\", model\n",
    "ener = molecule.get_potential_energy()\n",
    "print \"potential energy:\", ener\n",
    "grad = molecule.get_forces()\n",
    "print \"gradient\", grad\n",
    "\n",
    "dyn = QuasiNewton(molecule, trajectory = \"output/\" + model + '.water.QN_opt.traj')\n",
    "dyn.run(fmax=0.005, steps = numsteps)\n",
    "outfile = \"output/\" + model + \".QN_opt.pdb\"\n",
    "molecule.write(outfile)"
   ]
  },
  {
   "cell_type": "code",
   "execution_count": 12,
   "metadata": {},
   "outputs": [
    {
     "name": "stderr",
     "output_type": "stream",
     "text": [
      "The installed widget Javascript is the wrong version.\n",
      "The installed widget Javascript is the wrong version.\n"
     ]
    }
   ],
   "source": [
    "#\n",
    "# visualize the optimized structure\n",
    "#\n",
    "wdg_final_2h2o = nglview.show_ase(molecule)\n",
    "wdg_final_2h2o.add_representation('ball+stick')\n",
    "wdg_final_2h2o.center_view(range(3))\n",
    "wdg_final_2h2o.display(gui=True)"
   ]
  },
  {
   "cell_type": "code",
   "execution_count": null,
   "metadata": {
    "collapsed": true
   },
   "outputs": [],
   "source": [
    "# Hä? \n",
    "# This is very odd:\n",
    "# After optimization, the water molecules have now orientated out of the 2D-plane !\n",
    "\n",
    "# TASK:\n",
    "# Can you find an explanatation for what has happend?"
   ]
  },
  {
   "cell_type": "code",
   "execution_count": 36,
   "metadata": {
    "collapsed": true
   },
   "outputs": [],
   "source": [
    "#\n",
    "# The choice of numsteps = 20 is still too short !\n",
    "#\n",
    "# With numsteps = 20, BFGS mostly optimizes the waters' orientations in the 2D-plane,\n",
    "# only later does it optimze these orientations in 3D as well.\n",
    "#\n",
    "# Check out the input/output files:\n",
    "# 3h2o.flat_triangle.pdb                          has zero            z-coordinates\n",
    "# 3h2o.flat_triangle.QN_opt.pdb                   has < 0.01 absolute z-coordinates\n",
    "# 3h2o.flat_triangle.QN_opt.2h2o.pdb              has < 0.03 absolute z-coordinates\n",
    "# 3h2o.flat_triangle.with_G2.flattened.QN_opt.pdb has significant     z-coordinates\n",
    "#\n",
    "# very likely, the 2D orientation plane of the three water molecules forms an instable \"saddle\" manifold\n",
    "#"
   ]
  },
  {
   "cell_type": "code",
   "execution_count": 13,
   "metadata": {},
   "outputs": [
    {
     "name": "stdout",
     "output_type": "stream",
     "text": [
      "model 3h2o.flat_triangle.with_G2.flattened\n",
      "potential energy: -6.3328445659\n",
      "gradient [[  0.00000000e+00   0.00000000e+00   0.00000000e+00]\n",
      " [  4.23706861e-02  -7.44905292e-01  -4.20198271e-05]\n",
      " [ -5.94667065e-01   1.45227547e-01  -6.17071351e-05]\n",
      " [  0.00000000e+00   0.00000000e+00   0.00000000e+00]\n",
      " [ -3.17650769e-01  -6.78235524e-01  -6.47426232e-05]\n",
      " [  1.48405062e+00   1.05653487e+00  -2.24886299e-04]\n",
      " [  0.00000000e+00   0.00000000e+00   0.00000000e+00]\n",
      " [ -1.21209660e+00   1.49009501e+00  -6.95560399e-05]\n",
      " [  6.46041485e-01  -8.48015183e-01   8.70317781e-05]]\n",
      "BFGSLineSearch:   0[  0]  16:31:49       -6.332845       1.9208\n",
      "BFGSLineSearch:   1[  2]  16:31:49       -6.548126       0.6416\n",
      "BFGSLineSearch:   2[  3]  16:31:50       -6.609120       0.3085\n",
      "BFGSLineSearch:   3[  4]  16:31:51       -6.636231       0.3255\n",
      "BFGSLineSearch:   4[  5]  16:31:51       -6.667393       0.2869\n",
      "BFGSLineSearch:   5[  6]  16:31:52       -6.691684       0.1932\n",
      "BFGSLineSearch:   6[  7]  16:31:52       -6.702867       0.1504\n",
      "BFGSLineSearch:   7[  8]  16:31:53       -6.706150       0.2441\n",
      "BFGSLineSearch:   8[ 10]  16:31:54       -6.712512       0.2248\n",
      "BFGSLineSearch:   9[ 11]  16:31:54       -6.720436       0.2341\n",
      "BFGSLineSearch:  10[ 12]  16:31:55       -6.728883       0.2575\n",
      "BFGSLineSearch:  11[ 14]  16:31:56       -6.740169       0.4311\n",
      "BFGSLineSearch:  12[ 15]  16:31:56       -6.748813       0.2497\n",
      "BFGSLineSearch:  13[ 18]  16:31:57       -6.777903       0.4685\n",
      "BFGSLineSearch:  14[ 19]  16:31:57       -6.793422       0.3484\n",
      "BFGSLineSearch:  15[ 20]  16:31:58       -6.804015       0.2747\n",
      "BFGSLineSearch:  16[ 22]  16:31:58       -6.806473       0.1119\n",
      "BFGSLineSearch:  17[ 23]  16:31:59       -6.811623       0.2675\n",
      "BFGSLineSearch:  18[ 25]  16:31:59       -6.820068       0.1632\n",
      "BFGSLineSearch:  19[ 26]  16:32:00       -6.823437       0.1241\n"
     ]
    }
   ],
   "source": [
    "#\n",
    "# by the way: for numsteps = 20 (not for =100), one can simply set all z-coordinates in \n",
    "# 3h2o.flat_triangle.with_G2.pdb back to zero, and obtain a simular result as in\n",
    "# 3h2o.flat_triangle.QN_opt.pdb:\n",
    "\n",
    "calc = Mopac(restart=0, spin=0, OPT=False, functional='PM6', job_type='NOANCI 1SCF GRADIENTS AUX(0,PRECISION=9)', RELSCF=0.0001)\n",
    "\n",
    "model = \"3h2o.flat_triangle.with_G2.flattened\"\n",
    "water   = read(\"input/%s.pdb\" % (model), format=\"pdb\")\n",
    "molecule = Atoms(water)\n",
    "\n",
    "# add constraints on oxygen atoms\n",
    "c = FixAtoms(indices=[atom.index for atom in molecule if atom.symbol == 'O'])\n",
    "molecule.set_constraint(c)\n",
    "molecule.set_calculator(calc)\n",
    "\n",
    "print \"model\", model\n",
    "ener = molecule.get_potential_energy()\n",
    "print \"potential energy:\", ener\n",
    "grad = molecule.get_forces()\n",
    "print \"gradient\", grad\n",
    "\n",
    "dyn = QuasiNewton(molecule, trajectory = \"output/\" + model + '.water.QN_opt.traj')\n",
    "dyn.run(fmax=0.005, steps = numsteps)\n",
    "outfile = \"output/\" + model + \".QN_opt.pdb\"\n",
    "molecule.write(outfile)"
   ]
  },
  {
   "cell_type": "code",
   "execution_count": 14,
   "metadata": {},
   "outputs": [
    {
     "name": "stderr",
     "output_type": "stream",
     "text": [
      "The installed widget Javascript is the wrong version.\n",
      "The installed widget Javascript is the wrong version.\n"
     ]
    }
   ],
   "source": [
    "wdg_final_2h2o = nglview.show_ase(molecule)\n",
    "wdg_final_2h2o.add_representation('ball+stick')\n",
    "wdg_final_2h2o.center_view(range(3))\n",
    "wdg_final_2h2o.display(gui=True)"
   ]
  },
  {
   "cell_type": "code",
   "execution_count": null,
   "metadata": {
    "collapsed": true
   },
   "outputs": [],
   "source": []
  }
 ],
 "metadata": {
  "kernelspec": {
   "display_name": "Python 2",
   "language": "python",
   "name": "python2"
  },
  "language_info": {
   "codemirror_mode": {
    "name": "ipython",
    "version": 2
   },
   "file_extension": ".py",
   "mimetype": "text/x-python",
   "name": "python",
   "nbconvert_exporter": "python",
   "pygments_lexer": "ipython2",
   "version": "2.7.13"
  }
 },
 "nbformat": 4,
 "nbformat_minor": 2
}
