{
 "cells": [
  {
   "cell_type": "code",
   "execution_count": 2,
   "metadata": {
    "collapsed": true
   },
   "outputs": [],
   "source": [
    "from ase.io import read\n",
    "from ase import Atoms\n",
    "from ase.optimize import *\n",
    "from ase.visualize import view\n",
    "from ase.md import *\n",
    "from ase.calculators.mopac import *\n",
    "\n",
    "import nglview"
   ]
  },
  {
   "cell_type": "code",
   "execution_count": 3,
   "metadata": {
    "collapsed": true
   },
   "outputs": [],
   "source": [
    "#\n",
    "# In this tutoiral notebook, you will optimize a single water molecule from different starting conformations,\n",
    "# now using a semi-empirical force-field and the BFGS Quasi-Newton method.\n",
    "#\n",
    "\n",
    "#\n",
    "# In 01.01_newton_on_harmonic_potential_of_water.ipynb,\n",
    "# you saw that from all three starting conformations, the Newton method converged to the minimum structure within \n",
    "# 1 step because we had used a simple, 2D-harmonic potential for water.\n",
    "# For semi-empirical force fields, however, which also include non-bonded interactions, \n",
    "# the \"linear\" H2O conformation represents a saddle point, on which the Newton optimizer would get \"stuck\" \n",
    "# and not converge to the minimum, whereas a Quasi-Newton method indeed finds the minimum energy structure.\n",
    "#\n",
    "# Unfortunately, the Newton optimizer is not implemented in ASE.\n",
    "# However, we can already sense this saddle-point behavior of the \"linear\" water conformation by\n",
    "# using the BFGS Quasi-Newton optimizer and comparing differences in how fast the optimzation convergerges \n",
    "# to the minimum structure.\n",
    "#\n",
    "# TASK: \n",
    "# (i)  Optimize the three different water conformations below, with varying optimization iterations\n",
    "#      (e.g. numiterations=2, 5, 10)\n",
    "# (ii) Comparing the initial and optimized structures through visualization\n",
    "#      (via the nglview module below, or VMD, Pymol, ...),\n",
    "#      can you confirm that the linear water conformation takes longer to converge to the minimum structure?\n",
    "#\n",
    "\n",
    "#model = \"h2o\"\n",
    "#model = \"h2o_90\"\n",
    "model = \"h2o_linear\"\n",
    "\n",
    "# number of optimzation iterations\n",
    "numiterations = 20\n",
    "\n",
    "infile  = \"input/%s.pdb\" % model\n",
    "water   = read(infile, format=\"pdb\")\n",
    "molecule = Atoms(water)\n",
    "\n",
    "# visualize initial structure\n",
    "wdg_init = nglview.show_ase(molecule)\n",
    "wdg_init.add_representation('ball+stick')\n",
    "wdg_init.center_view(range(3))"
   ]
  },
  {
   "cell_type": "code",
   "execution_count": 4,
   "metadata": {},
   "outputs": [
    {
     "name": "stdout",
     "output_type": "stream",
     "text": [
      "model h2o_linear\n",
      "potential energy: -1.40506799782\n",
      "gradient [[ -3.36939171e-04  -3.22542285e-04   2.85778188e-03]\n",
      " [  6.39013593e-04   1.81500502e-03   3.17160516e+00]\n",
      " [  6.22626294e-03   4.25974371e-03  -3.15888890e+00]]\n",
      "BFGSLineSearch:   0[  0]  16:24:36       -1.405068       3.1716\n",
      "BFGSLineSearch:   1[  1]  16:24:36       -1.995258       1.2994\n",
      "BFGSLineSearch:   2[  3]  16:24:36       -2.032130       0.0353\n",
      "BFGSLineSearch:   3[  5]  16:24:37       -2.032146       0.0056\n",
      "BFGSLineSearch:   4[ 78]  16:24:43       -2.032147       0.0115\n",
      "BFGSLineSearch:   5[ 87]  16:24:44       -2.134288       1.8143\n",
      "BFGSLineSearch:   6[ 96]  16:24:44       -2.134299       1.8216\n",
      "BFGSLineSearch:   7[ 99]  16:24:45       -2.296230       1.2310\n",
      "BFGSLineSearch:   8[100]  16:24:45       -2.353296       0.2595\n",
      "BFGSLineSearch:   9[101]  16:24:46       -2.354704       0.0829\n",
      "BFGSLineSearch:  10[102]  16:24:46       -2.354933       0.0218\n",
      "BFGSLineSearch:  11[103]  16:24:46       -2.354945       0.0085\n",
      "BFGSLineSearch:  12[175]  16:24:51       -2.354945       0.0092\n",
      "BFGSLineSearch:  13[258]  16:24:58       -2.354945       0.0092\n",
      "BFGSLineSearch:  14[266]  16:24:59       -2.354945       0.0093\n",
      "BFGSLineSearch:  15[339]  16:25:04       -2.354945       0.0096\n",
      "BFGSLineSearch:  16[418]  16:25:10       -2.354945       0.0096\n",
      "BFGSLineSearch:  17[497]  16:25:15       -2.354945       0.0096\n",
      "BFGSLineSearch:  18[580]  16:25:21       -2.354945       0.0092\n",
      "BFGSLineSearch:  19[649]  16:25:27       -2.354945       0.0092\n"
     ]
    }
   ],
   "source": [
    "# instantiate Mopac\n",
    "calc = Mopac(restart=0, spin=0, OPT=False, functional='PM6', job_type='NOANCI 1SCF GRADIENTS AUX(0,PRECISION=9)', RELSCF=0.0001)\n",
    "\n",
    "#\n",
    "# Compare the initial PDB files before and after Optimization - what do you observe?\n",
    "# What is your conclusion with respect to what you know from 01_water_ff.ipynb ?\n",
    "#\n",
    "\n",
    "molecule.set_calculator(calc)\n",
    "\n",
    "print \"model\", model\n",
    "ener = molecule.get_potential_energy()\n",
    "print \"potential energy:\", ener\n",
    "grad = molecule.get_forces()\n",
    "print \"gradient\", grad\n",
    "\n",
    "dyn = QuasiNewton(molecule, trajectory = \"output/\" + model + '.water.QN_opt.traj')\n",
    "dyn.run(fmax=0.005, steps = numiterations)\n",
    "outfile = \"output/\" + model + \".QN_opt.pdb\"\n",
    "molecule.write(outfile)"
   ]
  },
  {
   "cell_type": "code",
   "execution_count": 5,
   "metadata": {},
   "outputs": [
    {
     "name": "stderr",
     "output_type": "stream",
     "text": [
      "The installed widget Javascript is the wrong version.\n",
      "The installed widget Javascript is the wrong version.\n"
     ]
    }
   ],
   "source": [
    "# visualize initial structure\n",
    "wdg_init.display(gui=True)"
   ]
  },
  {
   "cell_type": "code",
   "execution_count": 6,
   "metadata": {},
   "outputs": [
    {
     "name": "stderr",
     "output_type": "stream",
     "text": [
      "The installed widget Javascript is the wrong version.\n",
      "The installed widget Javascript is the wrong version.\n"
     ]
    }
   ],
   "source": [
    "# visualize optimized structure\n",
    "wdg = nglview.show_ase(molecule)\n",
    "wdg.add_representation('ball+stick')\n",
    "wdg.center_view(range(3))\n",
    "wdg.display(gui=True)"
   ]
  },
  {
   "cell_type": "code",
   "execution_count": null,
   "metadata": {
    "collapsed": true
   },
   "outputs": [],
   "source": []
  }
 ],
 "metadata": {
  "kernelspec": {
   "display_name": "Python 2",
   "language": "python",
   "name": "python2"
  },
  "language_info": {
   "codemirror_mode": {
    "name": "ipython",
    "version": 2
   },
   "file_extension": ".py",
   "mimetype": "text/x-python",
   "name": "python",
   "nbconvert_exporter": "python",
   "pygments_lexer": "ipython2",
   "version": "2.7.13"
  }
 },
 "nbformat": 4,
 "nbformat_minor": 2
}
