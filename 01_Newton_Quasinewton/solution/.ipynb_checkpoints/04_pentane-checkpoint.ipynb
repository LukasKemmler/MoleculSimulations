{
 "cells": [
  {
   "cell_type": "code",
   "execution_count": 5,
   "metadata": {},
   "outputs": [
    {
     "name": "stdout",
     "output_type": "stream",
     "text": [
      "potential energy: 50.4673903497\n",
      "gradient [[  1.46603888e+01   3.49758106e+00  -3.93069681e-03]\n",
      " [  5.54031637e+00  -2.46779994e+00  -6.33918310e-03]\n",
      " [ -3.21771184e-01   1.88396784e-01  -6.82681257e-03]\n",
      " [ -4.72117492e+00   2.80542891e+00  -6.29811728e-03]\n",
      " [ -1.49872360e+01  -3.76949245e+00  -3.99487570e-03]\n",
      " [  4.54319637e+00  -1.10177423e+01  -2.30818509e-03]\n",
      " [  3.72334834e+00   8.40352393e+00  -1.67051579e-03]\n",
      " [  8.55242407e+00   1.24221667e-01  -1.78170138e-03]\n",
      " [ -1.31354413e-01  -9.90874716e+00  -2.13884823e-03]\n",
      " [ -2.38262046e-01   1.16203608e+01  -2.70089052e-03]\n",
      " [ -2.36795385e-01   9.97322374e+00  -2.05029870e-03]\n",
      " [  5.28826159e-01  -9.96682697e+00  -2.08763521e-03]\n",
      " [  1.78899002e-01  -1.15588790e+01  -2.70765532e-03]\n",
      " [ -1.24024230e-01   9.78413743e+00  -2.10762606e-03]\n",
      " [ -4.59228008e+00   1.11789807e+01  -2.34513132e-03]\n",
      " [ -3.59773361e+00  -8.54960952e+00  -1.66071550e-03]\n",
      " [ -8.67327790e+00  -2.83772251e-01  -1.79197867e-03]]\n",
      "BFGSLineSearch:   0[  0]  00:34:23       50.467390      15.4540\n",
      "BFGSLineSearch:   1[  1]  00:34:24       33.935640       9.9572\n",
      "BFGSLineSearch:   2[  3]  00:34:26       30.524892      14.0360\n",
      "BFGSLineSearch:   3[  4]  00:34:27       26.962111       9.2139\n",
      "BFGSLineSearch:   4[  5]  00:34:29       22.454482       4.2000\n",
      "BFGSLineSearch:   5[  6]  00:34:30       21.064344       9.0109\n",
      "BFGSLineSearch:   6[  7]  00:34:31       19.001540       5.0953\n",
      "BFGSLineSearch:   7[  9]  00:34:32       17.944975       4.5595\n",
      "BFGSLineSearch:   8[ 10]  00:34:33       16.784820       8.1704\n",
      "BFGSLineSearch:   9[ 12]  00:34:34       15.759606       5.5487\n",
      "SciPyFminCG:   0  00:34:35       13.700129       3.6536\n",
      "SciPyFminCG:   1  00:34:37       12.535732       6.5513\n",
      "SciPyFminCG:   2  00:34:38       11.667762       3.6168\n",
      "SciPyFminCG:   3  00:34:39        9.755731       4.2166\n",
      "SciPyFminCG:   4  00:34:40        8.444015       3.6415\n",
      "SciPyFminCG:   5  00:34:41        7.547575       2.8716\n",
      "SciPyFminCG:   6  00:34:42        6.575588       3.5127\n",
      "SciPyFminCG:   7  00:34:43        5.967701       2.5212\n",
      "SciPyFminCG:   8  00:34:44        5.425807       2.0999\n",
      "SciPyFminCG:   9  00:34:45        5.044122       2.6962\n",
      "SciPyFminCG:  10  00:34:46        4.765771       1.0905\n"
     ]
    }
   ],
   "source": [
    "from ase.io import read\n",
    "from ase import Atoms\n",
    "from ase.optimize import *\n",
    "from ase.visualize import view\n",
    "from ase.md import *\n",
    "from ase.calculators.mopac import  *\n",
    "\n",
    "calc=Mopac(restart=0, spin=0, OPT=False, functional='PM6', job_type='NOANCI 1SCF NOSYMM GRADIENTS AUX(0,PRECISION=9)', RELSCF=0.0001)\n",
    "\n",
    "pentane = read(\"../pdbfiles/pentane.flat.pdb\")\n",
    "\n",
    "molecule=Atoms(pentane)\n",
    "molecule.set_calculator(calc)\n",
    "\n",
    "ener = molecule.get_potential_energy()\n",
    "print \"potential energy:\", ener\n",
    "grad = molecule.get_forces()\n",
    "print \"gradient\", grad\n",
    "\n",
    "model = \"pentane\"\n",
    "\n",
    "dyn = QuasiNewton(molecule, trajectory='pentane.QN_opt.traj')\n",
    "dyn.run(fmax=0.005, steps=10)\n",
    "outfile = model + \".QN_opt.pdb\"\n",
    "molecule.write(outfile)\n",
    "\n",
    "dyn = SciPyFminCG(molecule, trajectory='pentane.CG_opt.traj')\n",
    "dyn.run(fmax=0.01, steps=10)\n",
    "outfile = model + \".CG_opt.pdb\"\n",
    "molecule.write(outfile)"
   ]
  },
  {
   "cell_type": "code",
   "execution_count": null,
   "metadata": {
    "collapsed": true
   },
   "outputs": [],
   "source": []
  }
 ],
 "metadata": {
  "kernelspec": {
   "display_name": "Python 2",
   "language": "python",
   "name": "python2"
  },
  "language_info": {
   "codemirror_mode": {
    "name": "ipython",
    "version": 2
   },
   "file_extension": ".py",
   "mimetype": "text/x-python",
   "name": "python",
   "nbconvert_exporter": "python",
   "pygments_lexer": "ipython2",
   "version": "2.7.13"
  }
 },
 "nbformat": 4,
 "nbformat_minor": 2
}
