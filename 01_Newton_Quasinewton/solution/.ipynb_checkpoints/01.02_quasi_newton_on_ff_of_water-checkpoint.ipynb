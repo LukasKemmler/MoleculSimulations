{
 "cells": [
  {
   "cell_type": "code",
   "execution_count": null,
   "metadata": {
    "collapsed": true
   },
   "outputs": [],
   "source": [
    "from ase.io import read\n",
    "from ase import Atoms\n",
    "from ase.optimize import *\n",
    "from ase.visualize import view\n",
    "from ase.md import *\n",
    "from ase.calculators.mopac import *\n",
    "\n",
    "import nglview"
   ]
  },
  {
   "cell_type": "code",
   "execution_count": null,
   "metadata": {
    "collapsed": true
   },
   "outputs": [],
   "source": [
    "#\n",
    "# In this tutoiral notebook, you will optimize a single water molecule from different starting conformations,\n",
    "# now using a semi-empirical force-field and the BFGS Quasi-Newton method.\n",
    "#\n",
    "\n",
    "#\n",
    "# In 01.01_newton_on_harmonic_potential_of_water.ipynb,\n",
    "# you saw that from all three starting conformations, the Newton method converged to the minimum structure within \n",
    "# 1 step because we had used a simple, 2D-harmonic potential for water.\n",
    "# For semi-empirical force fields, however, which also include non-bonded interactions, \n",
    "# the \"linear\" H2O conformation represents a saddle point, on which the Newton optimizer would get \"stuck\" \n",
    "# and not converge to the minimum, whereas a Quasi-Newton method indeed finds the minimum energy structure.\n",
    "#\n",
    "# Unfortunately, the Newton optimizer is not implemented in ASE.\n",
    "# However, we can already sense this saddle-point behavior of the \"linear\" water conformation by\n",
    "# using the BFGS Quasi-Newton optimizer and comparing differences in how fast the optimzation convergerges \n",
    "# to the minimum structure.\n",
    "#\n",
    "# TASK: \n",
    "# (i)  Optimize the three different water conformations below, with varying optimization iterations\n",
    "#      (e.g. numiterations=2, 5, 10)\n",
    "# (ii) Comparing the initial and optimized structures through visualization\n",
    "#      (via the nglview module below, or VMD, Pymol, ...),\n",
    "#      can you confirm that the linear water conformation takes longer to converge to the minimum structure?\n",
    "#\n",
    "\n",
    "model = \"h2o\"\n",
    "#model = \"h2o_90\"\n",
    "#model = \"h2o_linear\"\n",
    "\n",
    "# number of optimzation iterations\n",
    "numiterations = 2\n",
    "\n",
    "infile  = \"input/%s.pdb\" % model\n",
    "water   = read(infile, format=\"pdb\")\n",
    "molecule = Atoms(water)\n",
    "\n",
    "# visualize initial structure\n",
    "wdg_init = nglview.show_ase(molecule)\n",
    "wdg_init.add_representation('ball+stick')\n",
    "wdg_init.center_view(range(3))"
   ]
  },
  {
   "cell_type": "code",
   "execution_count": null,
   "metadata": {
    "collapsed": true
   },
   "outputs": [],
   "source": [
    "# instantiate Mopac\n",
    "calc = Mopac(restart=0, spin=0, OPT=False, functional='PM6', job_type='NOANCI 1SCF GRADIENTS AUX(0,PRECISION=9)', RELSCF=0.0001)\n",
    "\n",
    "#\n",
    "# Compare the initial PDB files before and after Optimization - what do you observe?\n",
    "# What is your conclusion with respect to what you know from 01_water_ff.ipynb ?\n",
    "#\n",
    "\n",
    "molecule.set_calculator(calc)\n",
    "\n",
    "print \"model\", model\n",
    "ener = molecule.get_potential_energy()\n",
    "print \"potential energy:\", ener\n",
    "grad = molecule.get_forces()\n",
    "print \"gradient\", grad\n",
    "\n",
    "dyn = QuasiNewton(molecule, trajectory = \"output/\" + model + '.water.QN_opt.traj')\n",
    "dyn.run(fmax=0.005, steps = numiterations)\n",
    "outfile = \"output/\" + model + \".QN_opt.pdb\"\n",
    "molecule.write(outfile)"
   ]
  },
  {
   "cell_type": "code",
   "execution_count": null,
   "metadata": {
    "collapsed": true
   },
   "outputs": [],
   "source": [
    "# visualize initial structure\n",
    "wdg_init.display(gui=True)"
   ]
  },
  {
   "cell_type": "code",
   "execution_count": null,
   "metadata": {
    "collapsed": true
   },
   "outputs": [],
   "source": [
    "# visualize optimized structure\n",
    "wdg = nglview.show_ase(molecule)\n",
    "wdg.add_representation('ball+stick')\n",
    "wdg.center_view(range(3))\n",
    "wdg.display(gui=True)"
   ]
  },
  {
   "cell_type": "code",
   "execution_count": null,
   "metadata": {
    "collapsed": true
   },
   "outputs": [],
   "source": []
  }
 ],
 "metadata": {
  "kernelspec": {
   "display_name": "Python 2",
   "language": "python",
   "name": "python2"
  },
  "language_info": {
   "codemirror_mode": {
    "name": "ipython",
    "version": 2
   },
   "file_extension": ".py",
   "mimetype": "text/x-python",
   "name": "python",
   "nbconvert_exporter": "python",
   "pygments_lexer": "ipython2",
   "version": "2.7.13"
  }
 },
 "nbformat": 4,
 "nbformat_minor": 2
}
