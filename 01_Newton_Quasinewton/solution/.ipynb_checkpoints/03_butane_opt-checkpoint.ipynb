{
 "cells": [
  {
   "cell_type": "code",
   "execution_count": 1,
   "metadata": {},
   "outputs": [
    {
     "name": "stdout",
     "output_type": "stream",
     "text": [
      "potential energy: -0.269354897158\n",
      "gradient [[ -1.57312506e+00   1.74266348e+00  -3.29402618e-01]\n",
      " [ -3.43115738e-01   1.27600772e-01   3.02998473e+00]\n",
      " [  2.83219745e+00   1.27410317e-01   1.02120972e+00]\n",
      " [ -2.06985124e+00  -2.61043870e+00  -1.38448045e+00]\n",
      " [ -7.06542881e-01   6.35773080e-01  -4.36952127e-01]\n",
      " [ -2.06697134e-01  -4.19677901e-04   5.34523726e-01]\n",
      " [  8.61446784e-02  -2.02158689e-01   5.81342053e-01]\n",
      " [  8.48898076e-02   2.01363998e-01   5.90967065e-01]\n",
      " [  4.25647969e-01   8.22205296e-03  -2.78304244e+00]\n",
      " [  7.34054637e-01   4.86240863e-01   4.43652836e-01]\n",
      " [  7.24871071e-01  -4.86828968e-01   4.48035127e-01]\n",
      " [  2.06626017e-01  -1.55547079e-04  -5.27779566e-01]\n",
      " [ -8.19376654e-02  -1.99191109e-01  -5.78643894e-01]\n",
      " [ -8.16985123e-02   2.01449122e-01  -5.77502291e-01]]\n",
      "BFGSLineSearch:   0[  0]  23:51:24       -0.269355       3.6077\n",
      "BFGSLineSearch:   1[  2]  23:51:25       -0.752879       1.2645\n",
      "BFGSLineSearch:   2[  4]  23:51:25       -0.923413       0.8407\n",
      "BFGSLineSearch:   3[  6]  23:51:26       -1.005170       0.9370\n",
      "BFGSLineSearch:   4[  8]  23:51:27       -1.082239       0.6881\n",
      "BFGSLineSearch:   5[ 10]  23:51:28       -1.098640       0.2096\n",
      "BFGSLineSearch:   6[ 11]  23:51:28       -1.108897       0.4621\n",
      "BFGSLineSearch:   7[ 13]  23:51:29       -1.116841       0.1721\n",
      "BFGSLineSearch:   8[ 14]  23:51:29       -1.123494       0.3609\n",
      "BFGSLineSearch:   9[ 16]  23:51:30       -1.127076       0.1314\n",
      "BFGSLineSearch:  10[ 18]  23:51:31       -1.128376       0.0868\n",
      "BFGSLineSearch:  11[ 20]  23:51:32       -1.129077       0.0676\n",
      "BFGSLineSearch:  12[ 22]  23:51:32       -1.129277       0.0227\n",
      "BFGSLineSearch:  13[ 24]  23:51:33       -1.129324       0.0242\n",
      "BFGSLineSearch:  14[ 26]  23:51:34       -1.129367       0.0122\n",
      "BFGSLineSearch:  15[ 28]  23:51:35       -1.129374       0.0091\n",
      "SciPyFminCG:   0  23:51:35       -0.269355       3.6077\n",
      "SciPyFminCG:   1  23:51:36       -0.714411       1.5764\n",
      "SciPyFminCG:   2  23:51:37       -0.918564       1.0381\n",
      "SciPyFminCG:   3  23:51:37       -0.987357       0.7700\n",
      "SciPyFminCG:   4  23:51:38       -1.074280       0.7214\n",
      "SciPyFminCG:   5  23:51:39       -1.098041       0.2466\n",
      "SciPyFminCG:   6  23:51:40       -1.106320       0.4176\n",
      "SciPyFminCG:   7  23:51:41       -1.116802       0.1877\n",
      "SciPyFminCG:   8  23:51:41       -1.122975       0.2297\n",
      "SciPyFminCG:   9  23:51:42       -1.127460       0.1011\n",
      "SciPyFminCG:  10  23:51:43       -1.128535       0.0683\n",
      "SciPyFminCG:  11  23:51:44       -1.129017       0.0590\n",
      "SciPyFminCG:  12  23:51:45       -1.129258       0.0220\n",
      "SciPyFminCG:  13  23:51:45       -1.129317       0.0217\n",
      "SciPyFminCG:  14  23:51:46       -1.129348       0.0202\n",
      "SciPyFminCG:  15  23:51:47       -1.129357       0.0157\n",
      "SciPyFminCG:  16  23:51:48       -1.129371       0.0103\n",
      "SciPyFminCG:  17  23:51:49       -1.129373       0.0092\n"
     ]
    }
   ],
   "source": [
    "from ase.io import read\n",
    "from ase import Atoms\n",
    "from ase.optimize import *\n",
    "from ase.visualize import view\n",
    "from ase.md import *\n",
    "from ase.calculators.mopac import  *\n",
    "from ase.optimize.sciopt import SciPyFminBFGS, SciPyFminCG\n",
    "\n",
    "#water = read('water.xyz')\n",
    "#molecule.write(\"h2o.xyz\")\n",
    "\n",
    "calc = Mopac(restart=0, spin=0, OPT=False, functional='PM6', job_type='NOANCI 1SCF GRADIENTS AUX(0,PRECISION=9)', RELSCF=0.0001)\n",
    "\n",
    "butane  = read('butane.xyz')\n",
    "molecule = Atoms(butane)\n",
    "\n",
    "molecule.set_calculator(calc)\n",
    "\n",
    "ener = molecule.get_potential_energy()\n",
    "print \"potential energy:\", ener\n",
    "grad = molecule.get_forces()\n",
    "print \"gradient\", grad\n",
    "\n",
    "dyn     = QuasiNewton(molecule, trajectory='butane.opt.traj')\n",
    "dyn.run(fmax=0.01, steps=100)\n",
    "outfile = \"QN.xyz\"\n",
    "molecule.write(outfile)\n",
    "\n",
    "butane   = read('butane.xyz')\n",
    "molecule = Atoms(butane)\n",
    "molecule.set_calculator(calc)\n",
    "\n",
    "dyn = SciPyFminCG(molecule, trajectory='butane.sciopt.traj')\n",
    "dyn.run(fmax=0.01, steps=100)\n",
    "outfile=\"CG.xyz\"\n",
    "molecule.write(outfile)"
   ]
  },
  {
   "cell_type": "code",
   "execution_count": null,
   "metadata": {
    "collapsed": true
   },
   "outputs": [],
   "source": [
    "    "
   ]
  }
 ],
 "metadata": {
  "kernelspec": {
   "display_name": "Python 2",
   "language": "python",
   "name": "python2"
  },
  "language_info": {
   "codemirror_mode": {
    "name": "ipython",
    "version": 2
   },
   "file_extension": ".py",
   "mimetype": "text/x-python",
   "name": "python",
   "nbconvert_exporter": "python",
   "pygments_lexer": "ipython2",
   "version": "2.7.13"
  }
 },
 "nbformat": 4,
 "nbformat_minor": 2
}
