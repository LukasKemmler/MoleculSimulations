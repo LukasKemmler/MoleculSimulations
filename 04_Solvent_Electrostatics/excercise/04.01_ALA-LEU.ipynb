{
 "cells": [
  {
   "cell_type": "code",
   "execution_count": 1,
   "metadata": {
    "collapsed": true
   },
   "outputs": [],
   "source": [
    "from ase.io import read\n",
    "from ase import Atoms\n",
    "from ase.optimize import *\n",
    "from ase.visualize import view\n",
    "from ase.md import *\n",
    "from ase.calculators.mopac import  *\n",
    "import nglview\n",
    "from ase import md\n",
    "from ase.md import *\n",
    "from ase.neb import  *\n",
    "from math import sqrt"
   ]
  },
  {
   "cell_type": "markdown",
   "metadata": {},
   "source": [
    "This notebook is handed out Th. 6/1/17 and is due Th. 6/15/17"
   ]
  },
  {
   "cell_type": "markdown",
   "metadata": {
    "collapsed": true
   },
   "source": [
    "\n",
    "# First two-dimensional IR spectra of ALA-LEU, recorded by an experimental group indicate a possibility for ALA-Leu to be neutral, instead or in addition to its presumed zwitterionic form. Computed linear  IR  spectra  of  different  forms  of Ala-Leu,  in  its  zwitter-ionic  and  neutral  from,  indicate a  clear difference  in  vibrational  signature,  allowing  to  distinguish  different  species  also  in  experimental  1d-spectra.  \n",
    "\n",
    "\n",
    "# As a colleague you are responsible to calculate reaction energy pathway between zwitterionic and neutral forms.\n",
    "\n",
    "# To do list:\n",
    "\n",
    "# -After trying to minimize structure in the gas phase, please minimize it in the presence of implicit solvent!\n",
    "\n",
    "# -What is the difference between minimized structure in the gas phase and the solvent?\n",
    "\n",
    "# -Please find the energy barrier between neutral and zwitter-ionic form with the aid of neb method (feel free to use other methods).\n",
    "\n",
    "# Is it reasonable to calculate energy pathway in the gas phase ? If not,please explain that how your implemented solvent could help?\n"
   ]
  },
  {
   "cell_type": "markdown",
   "metadata": {},
   "source": [
    "Minimization in the gas phase:"
   ]
  },
  {
   "cell_type": "code",
   "execution_count": 3,
   "metadata": {
    "scrolled": true
   },
   "outputs": [
    {
     "name": "stdout",
     "output_type": "stream",
     "text": [
      "BFGSLineSearch:   0[  0]  14:27:13       -7.955411       0.6108\n",
      "BFGSLineSearch:   1[  2]  14:27:19       -7.984373       0.4097\n",
      "BFGSLineSearch:   2[  4]  14:27:25       -7.993232       0.4048\n",
      "BFGSLineSearch:   3[  6]  14:27:31       -8.003143       0.4209\n",
      "BFGSLineSearch:   4[  8]  14:27:37       -8.015019       0.3399\n",
      "BFGSLineSearch:   5[ 10]  14:27:43       -8.026808       0.3623\n",
      "BFGSLineSearch:   6[ 12]  14:27:49       -8.034830       0.5675\n",
      "BFGSLineSearch:   7[ 14]  14:27:55       -8.050407       0.3326\n",
      "BFGSLineSearch:   8[ 16]  14:28:01       -8.075486       0.4561\n",
      "BFGSLineSearch:   9[ 18]  14:28:07       -8.116550       0.9691\n",
      "BFGSLineSearch:  10[ 20]  14:28:13       -8.149495       0.5160\n",
      "BFGSLineSearch:  11[ 22]  14:28:19       -8.191770       0.4891\n",
      "BFGSLineSearch:  12[ 24]  14:28:25       -8.236014       0.5191\n",
      "BFGSLineSearch:  13[ 26]  14:28:31       -8.298584       0.5950\n",
      "BFGSLineSearch:  14[ 28]  14:28:37       -8.361395       0.8268\n",
      "BFGSLineSearch:  15[ 30]  14:28:43       -8.414502       1.3444\n",
      "BFGSLineSearch:  16[ 32]  14:28:49       -8.490671       1.0190\n",
      "BFGSLineSearch:  17[ 34]  14:28:55       -8.555053       1.1286\n",
      "BFGSLineSearch:  18[ 36]  14:29:01       -8.657321       1.0104\n",
      "BFGSLineSearch:  19[ 38]  14:29:07       -8.737306       1.5465\n",
      "BFGSLineSearch:  20[ 40]  14:29:13       -8.900148       1.8395\n",
      "BFGSLineSearch:  21[ 42]  14:29:19       -8.985564       0.8435\n",
      "BFGSLineSearch:  22[ 44]  14:29:25       -9.083646       1.0735\n",
      "BFGSLineSearch:  23[ 46]  14:29:31       -9.158602       0.5330\n",
      "BFGSLineSearch:  24[ 48]  14:29:37       -9.198335       0.5144\n",
      "BFGSLineSearch:  25[ 50]  14:29:43       -9.246173       0.7089\n",
      "BFGSLineSearch:  26[ 52]  14:29:49       -9.274302       0.5127\n",
      "BFGSLineSearch:  27[ 54]  14:29:55       -9.299138       0.5913\n",
      "BFGSLineSearch:  28[ 56]  14:30:02       -9.315259       0.4457\n",
      "BFGSLineSearch:  29[ 57]  14:30:06       -9.332914       0.5062\n",
      "BFGSLineSearch:   0[  0]  14:30:13       -8.077327       4.4081\n",
      "BFGSLineSearch:   1[  2]  14:30:19       -8.369796       2.9852\n",
      "BFGSLineSearch:   2[  4]  14:30:25       -8.590517       2.1579\n",
      "BFGSLineSearch:   3[  6]  14:30:31       -8.832111       1.0714\n",
      "BFGSLineSearch:   4[  8]  14:30:37       -8.918091       1.6816\n",
      "BFGSLineSearch:   5[ 10]  14:30:43       -8.987673       1.1907\n",
      "BFGSLineSearch:   6[ 12]  14:30:49       -9.035781       0.8338\n",
      "BFGSLineSearch:   7[ 14]  14:30:55       -9.077212       0.6588\n",
      "BFGSLineSearch:   8[ 16]  14:31:01       -9.116547       0.6753\n",
      "BFGSLineSearch:   9[ 18]  14:31:08       -9.150499       0.6221\n",
      "BFGSLineSearch:  10[ 20]  14:31:13       -9.174705       0.5455\n",
      "BFGSLineSearch:  11[ 22]  14:31:19       -9.195410       0.3437\n",
      "BFGSLineSearch:  12[ 24]  14:31:25       -9.214331       0.3116\n",
      "BFGSLineSearch:  13[ 26]  14:31:31       -9.224359       0.2739\n",
      "BFGSLineSearch:  14[ 27]  14:31:36       -9.238828       0.5350\n",
      "BFGSLineSearch:  15[ 29]  14:31:42       -9.256855       0.2999\n",
      "BFGSLineSearch:  16[ 31]  14:31:48       -9.266172       0.2059\n",
      "BFGSLineSearch:  17[ 33]  14:31:54       -9.270145       0.1029\n",
      "BFGSLineSearch:  18[ 35]  14:32:00       -9.272887       0.1219\n",
      "BFGSLineSearch:  19[ 37]  14:32:06       -9.274509       0.1148\n",
      "BFGSLineSearch:  20[ 38]  14:32:10       -9.276410       0.1366\n",
      "BFGSLineSearch:  21[ 40]  14:32:16       -9.278599       0.1109\n",
      "BFGSLineSearch:  22[ 41]  14:32:20       -9.282316       0.1508\n",
      "BFGSLineSearch:  23[ 43]  14:32:26       -9.285497       0.1549\n",
      "BFGSLineSearch:  24[ 44]  14:32:30       -9.289978       0.2627\n",
      "BFGSLineSearch:  25[ 46]  14:32:36       -9.294984       0.1539\n",
      "BFGSLineSearch:  26[ 48]  14:32:42       -9.299275       0.1694\n",
      "BFGSLineSearch:  27[ 50]  14:32:48       -9.303108       0.1920\n",
      "BFGSLineSearch:  28[ 52]  14:32:54       -9.308741       0.2153\n",
      "BFGSLineSearch:  29[ 54]  14:33:00       -9.313687       0.3138\n"
     ]
    }
   ],
   "source": [
    "# Mopac command\n",
    "calc = Mopac(restart=0, spin=0, OPT=False, functional='PM6', job_type='NOANCI 1SCF GRADIENTS AUX(0,PRECISION=9)', RELSCF=0.0001)\n",
    "\n",
    "# Read initial structure A (zwitterionic):\n",
    "A = read('input/A.xyz')\n",
    "# Alternatively, you can use pdb format if you have any kinds of probelm in visualisation\n",
    "\n",
    "# minimisation process: \n",
    "# Hint: Since it can be very long 30 steps would be enough! (You are weclome to fully minimised it if you want!)\n",
    "moleculeA = Atoms(A)\n",
    "moleculeA.set_calculator(calc)\n",
    "dynA = QuasiNewton(moleculeA)\n",
    "dynA.run(fmax=0.05, steps = 30)\n",
    "\n",
    "\n",
    "# write optimised structure A (zwitterionic) :\n",
    "\n",
    "outfile=\"output/A.opt.xyz\"\n",
    "moleculeA.write(outfile)\n",
    "\n",
    "# Read initial structure B (neutral):\n",
    "B = read('input/B.xyz')\n",
    "# Alternatively, you can use pdb format if you have any kinds of probelm in visualisation\n",
    "\n",
    "# minimisation process: \n",
    "moleculeB = Atoms(B)\n",
    "moleculeB.set_calculator(calc)\n",
    "dynB = QuasiNewton(moleculeB)\n",
    "dynB.run(fmax=0.05, steps = 30)\n",
    "\n",
    "# write optimised structure (neutral):\n",
    "outfile=\"output/B.opt.xyz\"\n",
    "moleculeB.write(outfile)"
   ]
  },
  {
   "cell_type": "code",
   "execution_count": 4,
   "metadata": {},
   "outputs": [
    {
     "data": {
      "application/vnd.jupyter.widget-view+json": {
       "model_id": "ca8a36e1c83440a3af7200684b249e91"
      }
     },
     "metadata": {},
     "output_type": "display_data"
    },
    {
     "data": {
      "application/vnd.jupyter.widget-view+json": {
       "model_id": "08509485ee2c4ae0ad0a62ed83a930aa"
      }
     },
     "metadata": {},
     "output_type": "display_data"
    }
   ],
   "source": [
    "# Visualize zwitterionic form before minimisation!\n",
    "wdg_init = nglview.show_structure_file(\"input/A.pdb\")\n",
    "wdg_init.add_representation('ball+stick')\n",
    "wdg_init.center_view()\n",
    "wdg_init.display(gui=True)"
   ]
  },
  {
   "cell_type": "code",
   "execution_count": 5,
   "metadata": {},
   "outputs": [
    {
     "data": {
      "application/vnd.jupyter.widget-view+json": {
       "model_id": "f9839282b53742aea30884c77fa6ab11"
      }
     },
     "metadata": {},
     "output_type": "display_data"
    },
    {
     "data": {
      "application/vnd.jupyter.widget-view+json": {
       "model_id": "ba51024083994e8e920013180730a4a9"
      }
     },
     "metadata": {},
     "output_type": "display_data"
    }
   ],
   "source": [
    "# Visualize zwitterionic form after minimisation in the gas phase!\n",
    "wdg_final = nglview.show_ase(moleculeA)\n",
    "wdg_final.add_representation('ball+stick')\n",
    "wdg_final.center_view(range(3))\n",
    "wdg_final.display(gui=True)"
   ]
  },
  {
   "cell_type": "code",
   "execution_count": 6,
   "metadata": {},
   "outputs": [
    {
     "data": {
      "application/vnd.jupyter.widget-view+json": {
       "model_id": "4bbaf7fc003b4957a8a76ce33e513964"
      }
     },
     "metadata": {},
     "output_type": "display_data"
    },
    {
     "data": {
      "application/vnd.jupyter.widget-view+json": {
       "model_id": "b00431bc38644785a225633f32566f84"
      }
     },
     "metadata": {},
     "output_type": "display_data"
    }
   ],
   "source": [
    "# Visualize neutral form before minimisation!\n",
    "wdg_init = nglview.show_structure_file(\"input/B.pdb\")\n",
    "wdg_init.add_representation('ball+stick')\n",
    "wdg_init.center_view()\n",
    "wdg_init.display(gui=True)"
   ]
  },
  {
   "cell_type": "code",
   "execution_count": 7,
   "metadata": {},
   "outputs": [
    {
     "data": {
      "application/vnd.jupyter.widget-view+json": {
       "model_id": "7773167b02a84f29bfc45e890b4a0ebe"
      }
     },
     "metadata": {},
     "output_type": "display_data"
    },
    {
     "data": {
      "application/vnd.jupyter.widget-view+json": {
       "model_id": "4f1c2929226449e7a3f0b6f5081620dc"
      }
     },
     "metadata": {},
     "output_type": "display_data"
    }
   ],
   "source": [
    "# Visualize neutral form after minimisation in the gas phase!\n",
    "wdg_final = nglview.show_ase(moleculeB)\n",
    "wdg_final.add_representation('ball+stick')\n",
    "wdg_final.center_view(range(3))\n",
    "wdg_final.display(gui=True)"
   ]
  },
  {
   "cell_type": "markdown",
   "metadata": {},
   "source": [
    "Minimisation in the solvent:"
   ]
  },
  {
   "cell_type": "code",
   "execution_count": 8,
   "metadata": {
    "scrolled": true
   },
   "outputs": [
    {
     "name": "stdout",
     "output_type": "stream",
     "text": [
      "BFGSLineSearch:   0[  0]  14:34:17      -10.626679       1.6044\n",
      "BFGSLineSearch:   1[  2]  14:34:25      -10.720702       1.2969\n",
      "BFGSLineSearch:   2[  4]  14:34:32      -10.763352       0.8352\n",
      "BFGSLineSearch:   3[  6]  14:34:39      -10.773055       0.4544\n",
      "BFGSLineSearch:   4[ 76]  14:37:27      -10.776410       0.4006\n",
      "BFGSLineSearch:   5[155]  14:41:05      -10.777081       0.3059\n",
      "BFGSLineSearch:   6[164]  14:41:27      -10.777080       0.3059\n",
      "BFGSLineSearch:   7[172]  14:41:47      -10.777080       0.3059\n",
      "BFGSLineSearch:   8[180]  14:42:08      -10.777071       0.3059\n",
      "BFGSLineSearch:   9[267]  14:45:16      -10.777074       0.3058\n",
      "BFGSLineSearch:  10[324]  14:47:21      -10.777738       0.2599\n",
      "BFGSLineSearch:  11[383]  14:49:30      -10.784843       0.2116\n",
      "BFGSLineSearch:  12[391]  14:49:50      -10.784839       0.2116\n",
      "BFGSLineSearch:  13[397]  14:50:06      -10.784836       0.2116\n",
      "BFGSLineSearch:  14[480]  14:53:03      -10.784839       0.2116\n",
      "BFGSLineSearch:  15[488]  14:53:23      -10.784832       0.2115\n",
      "BFGSLineSearch:  16[564]  14:56:11      -10.784843       0.2118\n",
      "BFGSLineSearch:  17[572]  14:56:31      -10.784840       0.2118\n",
      "BFGSLineSearch:  18[579]  14:56:49      -10.784840       0.2118\n",
      "BFGSLineSearch:  19[584]  14:57:03      -10.784831       0.2119\n",
      "BFGSLineSearch:   0[  0]  15:00:14       -9.131902       3.6203\n",
      "BFGSLineSearch:   1[  2]  15:00:22       -9.396519       3.2369\n",
      "BFGSLineSearch:   2[  4]  15:00:30       -9.647954       2.7731\n",
      "BFGSLineSearch:   3[  6]  15:00:37       -9.896040       1.4352\n",
      "BFGSLineSearch:   4[  8]  15:00:44      -10.012059       1.5452\n",
      "BFGSLineSearch:   5[ 10]  15:00:52      -10.106166       0.6994\n",
      "BFGSLineSearch:   6[ 12]  15:00:59      -10.146262       0.5205\n",
      "BFGSLineSearch:   7[ 14]  15:01:07      -10.178655       1.0163\n",
      "BFGSLineSearch:   8[ 70]  15:03:08      -10.186777       0.4396\n",
      "BFGSLineSearch:   9[ 72]  15:03:15      -10.209430       0.6442\n",
      "BFGSLineSearch:  10[ 74]  15:03:23      -10.227926       0.4555\n",
      "BFGSLineSearch:  11[ 76]  15:03:30      -10.243507       0.4414\n",
      "BFGSLineSearch:  12[ 78]  15:03:37      -10.280021       0.3074\n",
      "BFGSLineSearch:  13[ 80]  15:03:46      -10.298259       0.3470\n",
      "BFGSLineSearch:  14[ 81]  15:03:51      -10.317199       0.5113\n",
      "BFGSLineSearch:  15[ 83]  15:03:58      -10.345478       0.3761\n",
      "BFGSLineSearch:  16[ 85]  15:04:05      -10.354790       0.2591\n",
      "BFGSLineSearch:  17[ 87]  15:04:12      -10.358140       0.1900\n",
      "BFGSLineSearch:  18[147]  15:06:22      -10.359795       0.1127\n",
      "BFGSLineSearch:  19[149]  15:06:29      -10.360931       0.0992\n"
     ]
    }
   ],
   "source": [
    "# Mopac command (please set the dielectric constant for water as solvent)\n",
    "calc = Mopac(restart=0, spin=0, OPT=False, functional='PM6', job_type='NOANCI 1SCF GRADIENTS EPS=80.1 AUX(0,PRECISION=9)', RELSCF=0.0001)\n",
    "\n",
    "# Read initial structure A (zwitterionic):\n",
    "A = read('input/A.xyz')\n",
    "# Alternatively, you can use pdb format if you have any kinds of probelm in visualisation\n",
    "\n",
    "# minimisation process: \n",
    "# Hint: Since it can be very long 20 steps would be enough! (You are weclome to fully minimised it if you want!)\n",
    "moleculeAsol = Atoms(A)\n",
    "moleculeAsol.set_calculator(calc)\n",
    "dynAsol = QuasiNewton(moleculeAsol)\n",
    "dynAsol.run(fmax=0.05, steps = 20)\n",
    "\n",
    "# write optimised structure A (zwitterionic) :\n",
    "\n",
    "outfile=\"output/A.opt.sol.xyz\"\n",
    "moleculeAsol.write(outfile)\n",
    "\n",
    "# Read initial structure B (neutral):\n",
    "B = read('input/B.xyz')\n",
    "# Alternatively, you can use pdb format if you have any kinds of probelm in visualisation\n",
    "\n",
    "# minimisation process: \n",
    "moleculeBsol = Atoms(B)\n",
    "moleculeBsol.set_calculator(calc)\n",
    "dynBsol = QuasiNewton(moleculeBsol)\n",
    "dynBsol.run(fmax=0.05, steps = 20)\n",
    "\n",
    "# write optimised structure (neutral):\n",
    "outfile=\"output/B.opt.sol.xyz\"\n",
    "moleculeBsol.write(outfile)"
   ]
  },
  {
   "cell_type": "code",
   "execution_count": 9,
   "metadata": {},
   "outputs": [
    {
     "data": {
      "application/vnd.jupyter.widget-view+json": {
       "model_id": "30fe8b41b2874e66b75ebd9e19a1a1c1"
      }
     },
     "metadata": {},
     "output_type": "display_data"
    },
    {
     "data": {
      "application/vnd.jupyter.widget-view+json": {
       "model_id": "80030f29054241a8bc9c7d3298218c9d"
      }
     },
     "metadata": {},
     "output_type": "display_data"
    }
   ],
   "source": [
    "# Visualize zwitterionic form before minimisation!\n",
    "wdg_init = nglview.show_structure_file(\"input/A.pdb\")\n",
    "wdg_init.add_representation('ball+stick')\n",
    "wdg_init.center_view()\n",
    "wdg_init.display(gui=True)"
   ]
  },
  {
   "cell_type": "code",
   "execution_count": 10,
   "metadata": {},
   "outputs": [
    {
     "data": {
      "application/vnd.jupyter.widget-view+json": {
       "model_id": "0decfc3bc11741a1962497b56a65ba9e"
      }
     },
     "metadata": {},
     "output_type": "display_data"
    },
    {
     "data": {
      "application/vnd.jupyter.widget-view+json": {
       "model_id": "ffe7a0e3a55e42c98bfb850080fce02a"
      }
     },
     "metadata": {},
     "output_type": "display_data"
    }
   ],
   "source": [
    "# Visualize zwitterionic form after minimisation in the solvent!\n",
    "wdg_final = nglview.show_ase(moleculeAsol)\n",
    "wdg_final.add_representation('ball+stick')\n",
    "wdg_final.center_view(range(3))\n",
    "wdg_final.display(gui=True)"
   ]
  },
  {
   "cell_type": "code",
   "execution_count": 11,
   "metadata": {},
   "outputs": [
    {
     "data": {
      "application/vnd.jupyter.widget-view+json": {
       "model_id": "2273c4dfe0984821a24efd1d4971d549"
      }
     },
     "metadata": {},
     "output_type": "display_data"
    },
    {
     "data": {
      "application/vnd.jupyter.widget-view+json": {
       "model_id": "bd42c2b159ef41278b7a9d5c999c779d"
      }
     },
     "metadata": {},
     "output_type": "display_data"
    }
   ],
   "source": [
    "# Visualize neutral form before minimisation!\n",
    "wdg_init = nglview.show_structure_file(\"input/B.pdb\")\n",
    "wdg_init.add_representation('ball+stick')\n",
    "wdg_init.center_view()\n",
    "wdg_init.display(gui=True)"
   ]
  },
  {
   "cell_type": "code",
   "execution_count": 12,
   "metadata": {},
   "outputs": [
    {
     "data": {
      "application/vnd.jupyter.widget-view+json": {
       "model_id": "d93caa3fa8734cea88b470e93be5102a"
      }
     },
     "metadata": {},
     "output_type": "display_data"
    },
    {
     "data": {
      "application/vnd.jupyter.widget-view+json": {
       "model_id": "51eb0ec15e5948df91f1362222a23783"
      }
     },
     "metadata": {},
     "output_type": "display_data"
    }
   ],
   "source": [
    "# Visualize neutral form after minimisation in the solvent!\n",
    "wdg_final = nglview.show_ase(moleculeBsol)\n",
    "wdg_final.add_representation('ball+stick')\n",
    "wdg_final.center_view(range(3))\n",
    "wdg_final.display(gui=True)"
   ]
  },
  {
   "cell_type": "markdown",
   "metadata": {},
   "source": [
    "Finding reaction energy barrier :"
   ]
  },
  {
   "cell_type": "code",
   "execution_count": 13,
   "metadata": {},
   "outputs": [
    {
     "name": "stdout",
     "output_type": "stream",
     "text": [
      "BFGS:   0  15:13:02       -8.540830       4.3005\n",
      "BFGS:   1  15:14:44       -8.687396       3.4697\n",
      "BFGS:   2  15:16:26       -8.807356       2.6435\n",
      "BFGS:   3  15:18:11       -8.927518       1.8596\n",
      "BFGS:   4  15:19:53       -9.053224       1.6112\n",
      "BFGS:   5  15:21:32       -9.179603       1.6306\n",
      "BFGS:   6  15:23:14       -9.295478       1.5640\n",
      "BFGS:   7  15:24:51       -9.409100       1.4740\n",
      "BFGS:   8  15:26:38       -9.502521       1.3955\n",
      "BFGS:   9  15:28:22       -9.584275       1.2923\n"
     ]
    }
   ],
   "source": [
    "# Mopac command\n",
    "calc = Mopac(restart=0, spin=0, OPT=False, functional='PM6', job_type='NOANCI 1SCF GRADIENTS EPS=80.1 AUX(0,PRECISION=9)', RELSCF=0.0001)\n",
    "\n",
    "# Read initial and final states: (please be sure that you load minimised structures)\n",
    "\n",
    "initial = read('output/A.opt.sol.xyz')\n",
    "final = read('output/B.opt.sol.xyz')\n",
    "\n",
    "# Neb or other methods to find the energy barrier\n",
    "# Make a band consisting of n images:\n",
    "n=20\n",
    "images = [initial]\n",
    "images += [initial.copy() for i in range(n-2)]\n",
    "images += [final]\n",
    "neb = NEB(images)\n",
    "\n",
    "# Interpolate linearly the potisions of the three middle images:\n",
    "neb.interpolate()\n",
    "\n",
    "# Set calculators:\n",
    "for image in images:\n",
    "    image.set_calculator(calc)\n",
    "\n",
    "# Optimize:\n",
    "optimizer = BFGS(neb, trajectory='output/A2B.traj')\n",
    "optimizer.run(fmax=0.04, steps=10)"
   ]
  },
  {
   "cell_type": "code",
   "execution_count": 14,
   "metadata": {},
   "outputs": [
    {
     "data": {
      "image/png": "[encoded data removed]",
      "text/plain": [
       "<matplotlib.figure.Figure at 0x7f74fc69bb50>"
      ]
     },
     "metadata": {},
     "output_type": "display_data"
    }
   ],
   "source": [
    "# plot energy profile\n",
    "eV_in_kcal_per_mol=6.022*3.82929\n",
    "ei = [eV_in_kcal_per_mol*image.get_potential_energy() for image in images]\n",
    "n=[i for i in range(len(images))]\n",
    "import matplotlib.pyplot as pyplot\n",
    "pyplot.title('NEB')\n",
    "pyplot.ylabel('energy/kcal/mol',fontsize=18)        \n",
    "pyplot.xlabel('Image number',fontsize=18)\n",
    "pyplot.plot(n,ei,'o-',label=\"scan\")\n",
    "pyplot.show()"
   ]
  },
  {
   "cell_type": "code",
   "execution_count": 19,
   "metadata": {},
   "outputs": [
    {
     "data": {
      "text/plain": [
       "16.320575134253716"
      ]
     },
     "execution_count": 19,
     "metadata": {},
     "output_type": "execute_result"
    }
   ],
   "source": [
    "ei[10]-ei[-1]"
   ]
  },
  {
   "cell_type": "code",
   "execution_count": 21,
   "metadata": {
    "scrolled": true
   },
   "outputs": [
    {
     "name": "stdout",
     "output_type": "stream",
     "text": [
      "Writing vib.eq.pckl\n",
      "Writing vib.0x-.pckl\n",
      "Writing vib.0x+.pckl\n",
      "Writing vib.0y-.pckl\n",
      "Writing vib.0y+.pckl\n",
      "Writing vib.0z-.pckl\n",
      "Writing vib.0z+.pckl\n",
      "Writing vib.1x-.pckl\n",
      "Writing vib.1x+.pckl\n",
      "Writing vib.1y-.pckl\n",
      "Writing vib.1y+.pckl\n",
      "Writing vib.1z-.pckl\n",
      "Writing vib.1z+.pckl\n",
      "Writing vib.2x-.pckl\n",
      "Writing vib.2x+.pckl\n",
      "Writing vib.2y-.pckl\n",
      "Writing vib.2y+.pckl\n",
      "Writing vib.2z-.pckl\n",
      "Writing vib.2z+.pckl\n",
      "Writing vib.3x-.pckl\n",
      "Writing vib.3x+.pckl\n",
      "Writing vib.3y-.pckl\n",
      "Writing vib.3y+.pckl\n",
      "Writing vib.3z-.pckl\n",
      "Writing vib.3z+.pckl\n",
      "Writing vib.4x-.pckl\n",
      "Writing vib.4x+.pckl\n",
      "Writing vib.4y-.pckl\n",
      "Writing vib.4y+.pckl\n",
      "Writing vib.4z-.pckl\n",
      "Writing vib.4z+.pckl\n",
      "Writing vib.5x-.pckl\n",
      "Writing vib.5x+.pckl\n",
      "Writing vib.5y-.pckl\n",
      "Writing vib.5y+.pckl\n",
      "Writing vib.5z-.pckl\n",
      "Writing vib.5z+.pckl\n",
      "Writing vib.6x-.pckl\n",
      "Writing vib.6x+.pckl\n",
      "Writing vib.6y-.pckl\n",
      "Writing vib.6y+.pckl\n",
      "Writing vib.6z-.pckl\n",
      "Writing vib.6z+.pckl\n",
      "Writing vib.7x-.pckl\n",
      "Writing vib.7x+.pckl\n",
      "Writing vib.7y-.pckl\n",
      "Writing vib.7y+.pckl\n",
      "Writing vib.7z-.pckl\n",
      "Writing vib.7z+.pckl\n",
      "Writing vib.8x-.pckl\n",
      "Writing vib.8x+.pckl\n",
      "Writing vib.8y-.pckl\n",
      "Writing vib.8y+.pckl\n",
      "Writing vib.8z-.pckl\n",
      "Writing vib.8z+.pckl\n",
      "Writing vib.9x-.pckl\n",
      "Writing vib.9x+.pckl\n",
      "Writing vib.9y-.pckl\n",
      "Writing vib.9y+.pckl\n",
      "Writing vib.9z-.pckl\n",
      "Writing vib.9z+.pckl\n",
      "Writing vib.10x-.pckl\n",
      "Writing vib.10x+.pckl\n",
      "Writing vib.10y-.pckl\n",
      "Writing vib.10y+.pckl\n",
      "Writing vib.10z-.pckl\n",
      "Writing vib.10z+.pckl\n",
      "Writing vib.11x-.pckl\n",
      "Writing vib.11x+.pckl\n",
      "Writing vib.11y-.pckl\n",
      "Writing vib.11y+.pckl\n",
      "Writing vib.11z-.pckl\n",
      "Writing vib.11z+.pckl\n",
      "Writing vib.12x-.pckl\n",
      "Writing vib.12x+.pckl\n",
      "Writing vib.12y-.pckl\n",
      "Writing vib.12y+.pckl\n",
      "Writing vib.12z-.pckl\n",
      "Writing vib.12z+.pckl\n",
      "Writing vib.13x-.pckl\n",
      "Writing vib.13x+.pckl\n",
      "Writing vib.13y-.pckl\n",
      "Writing vib.13y+.pckl\n",
      "Writing vib.13z-.pckl\n",
      "Writing vib.13z+.pckl\n",
      "Writing vib.14x-.pckl\n",
      "Writing vib.14x+.pckl\n",
      "Writing vib.14y-.pckl\n",
      "Writing vib.14y+.pckl\n",
      "Writing vib.14z-.pckl\n",
      "Writing vib.14z+.pckl\n",
      "Writing vib.15x-.pckl\n",
      "Writing vib.15x+.pckl\n",
      "Writing vib.15y-.pckl\n",
      "Writing vib.15y+.pckl\n",
      "Writing vib.15z-.pckl\n",
      "Writing vib.15z+.pckl\n",
      "Writing vib.16x-.pckl\n",
      "Writing vib.16x+.pckl\n",
      "Writing vib.16y-.pckl\n",
      "Writing vib.16y+.pckl\n",
      "Writing vib.16z-.pckl\n",
      "Writing vib.16z+.pckl\n",
      "Writing vib.17x-.pckl\n",
      "Writing vib.17x+.pckl\n",
      "Writing vib.17y-.pckl\n",
      "Writing vib.17y+.pckl\n",
      "Writing vib.17z-.pckl\n",
      "Writing vib.17z+.pckl\n",
      "Writing vib.18x-.pckl\n",
      "Writing vib.18x+.pckl\n",
      "Writing vib.18y-.pckl\n",
      "Writing vib.18y+.pckl\n",
      "Writing vib.18z-.pckl\n",
      "Writing vib.18z+.pckl\n",
      "Writing vib.19x-.pckl\n",
      "Writing vib.19x+.pckl\n",
      "Writing vib.19y-.pckl\n",
      "Writing vib.19y+.pckl\n",
      "Writing vib.19z-.pckl\n",
      "Writing vib.19z+.pckl\n",
      "Writing vib.20x-.pckl\n",
      "Writing vib.20x+.pckl\n",
      "Writing vib.20y-.pckl\n",
      "Writing vib.20y+.pckl\n",
      "Writing vib.20z-.pckl\n",
      "Writing vib.20z+.pckl\n",
      "Writing vib.21x-.pckl\n",
      "Writing vib.21x+.pckl\n",
      "Writing vib.21y-.pckl\n",
      "Writing vib.21y+.pckl\n",
      "Writing vib.21z-.pckl\n",
      "Writing vib.21z+.pckl\n",
      "Writing vib.22x-.pckl\n",
      "Writing vib.22x+.pckl\n",
      "Writing vib.22y-.pckl\n",
      "Writing vib.22y+.pckl\n",
      "Writing vib.22z-.pckl\n",
      "Writing vib.22z+.pckl\n",
      "Writing vib.23x-.pckl\n",
      "Writing vib.23x+.pckl\n",
      "Writing vib.23y-.pckl\n",
      "Writing vib.23y+.pckl\n",
      "Writing vib.23z-.pckl\n",
      "Writing vib.23z+.pckl\n",
      "Writing vib.24x-.pckl\n",
      "Writing vib.24x+.pckl\n",
      "Writing vib.24y-.pckl\n",
      "Writing vib.24y+.pckl\n",
      "Writing vib.24z-.pckl\n",
      "Writing vib.24z+.pckl\n",
      "Writing vib.25x-.pckl\n",
      "Writing vib.25x+.pckl\n",
      "Writing vib.25y-.pckl\n",
      "Writing vib.25y+.pckl\n",
      "Writing vib.25z-.pckl\n",
      "Writing vib.25z+.pckl\n",
      "Writing vib.26x-.pckl\n",
      "Writing vib.26x+.pckl\n",
      "Writing vib.26y-.pckl\n",
      "Writing vib.26y+.pckl\n",
      "Writing vib.26z-.pckl\n",
      "Writing vib.26z+.pckl\n",
      "Writing vib.27x-.pckl\n",
      "Writing vib.27x+.pckl\n",
      "Writing vib.27y-.pckl\n",
      "Writing vib.27y+.pckl\n",
      "Writing vib.27z-.pckl\n",
      "Writing vib.27z+.pckl\n",
      "Writing vib.28x-.pckl\n",
      "Writing vib.28x+.pckl\n",
      "Writing vib.28y-.pckl\n",
      "Writing vib.28y+.pckl\n",
      "Writing vib.28z-.pckl\n",
      "Writing vib.28z+.pckl\n",
      "Writing vib.29x-.pckl\n",
      "Writing vib.29x+.pckl\n",
      "Writing vib.29y-.pckl\n",
      "Writing vib.29y+.pckl\n",
      "Writing vib.29z-.pckl\n",
      "Writing vib.29z+.pckl\n",
      "Writing vib.30x-.pckl\n",
      "Writing vib.30x+.pckl\n",
      "Writing vib.30y-.pckl\n",
      "Writing vib.30y+.pckl\n",
      "Writing vib.30z-.pckl\n",
      "Writing vib.30z+.pckl\n",
      "Writing vib.31x-.pckl\n",
      "Writing vib.31x+.pckl\n",
      "Writing vib.31y-.pckl\n",
      "Writing vib.31y+.pckl\n",
      "Writing vib.31z-.pckl\n",
      "Writing vib.31z+.pckl\n",
      "Writing vib.32x-.pckl\n",
      "Writing vib.32x+.pckl\n",
      "Writing vib.32y-.pckl\n",
      "Writing vib.32y+.pckl\n",
      "Writing vib.32z-.pckl\n",
      "Writing vib.32z+.pckl\n",
      "Writing vib.33x-.pckl\n",
      "Writing vib.33x+.pckl\n",
      "Writing vib.33y-.pckl\n",
      "Writing vib.33y+.pckl\n",
      "Writing vib.33z-.pckl\n",
      "Writing vib.33z+.pckl\n",
      "Writing vib.34x-.pckl\n",
      "Writing vib.34x+.pckl\n",
      "Writing vib.34y-.pckl\n",
      "Writing vib.34y+.pckl\n",
      "Writing vib.34z-.pckl\n",
      "Writing vib.34z+.pckl\n",
      "---------------------\n",
      "  #    meV     cm^-1\n",
      "---------------------\n",
      "  0  162.8i   1313.1i\n",
      "  1   10.7i     86.4i\n",
      "  2    5.3i     42.6i\n",
      "  3    1.8i     14.5i\n",
      "  4    0.3i      2.3i\n",
      "  5    0.2i      1.3i\n",
      "  6    0.7       5.5 \n",
      "  7    3.0      24.1 \n",
      "  8    4.2      34.3 \n",
      "  9    4.8      38.4 \n",
      " 10    6.6      53.3 \n",
      " 11   10.7      86.7 \n",
      " 12   12.4      99.6 \n",
      " 13   13.9     112.3 \n",
      " 14   16.3     131.7 \n",
      " 15   16.8     135.7 \n",
      " 16   17.6     142.0 \n",
      " 17   19.0     153.4 \n",
      " 18   20.3     164.0 \n",
      " 19   22.7     182.9 \n",
      " 20   24.7     199.3 \n",
      " 21   30.4     245.4 \n",
      " 22   32.7     263.4 \n",
      " 23   36.7     295.8 \n",
      " 24   38.6     311.2 \n",
      " 25   43.8     353.0 \n",
      " 26   46.3     373.6 \n",
      " 27   49.2     396.9 \n",
      " 28   52.5     423.5 \n",
      " 29   53.7     432.8 \n",
      " 30   55.2     445.1 \n",
      " 31   61.3     494.2 \n",
      " 32   63.5     512.0 \n",
      " 33   63.8     515.0 \n",
      " 34   67.1     541.6 \n",
      " 35   73.3     590.8 \n",
      " 36   78.6     633.9 \n",
      " 37   79.7     643.1 \n",
      " 38   84.6     682.2 \n",
      " 39   93.9     757.3 \n",
      " 40   97.7     788.4 \n",
      " 41  107.9     870.1 \n",
      " 42  112.2     905.1 \n",
      " 43  114.3     922.2 \n",
      " 44  115.2     929.3 \n",
      " 45  117.1     944.7 \n",
      " 46  119.3     962.0 \n",
      " 47  119.7     965.5 \n",
      " 48  121.0     976.3 \n",
      " 49  121.5     980.0 \n",
      " 50  129.0    1040.5 \n",
      " 51  132.8    1071.3 \n",
      " 52  134.9    1087.8 \n",
      " 53  141.0    1136.9 \n",
      " 54  142.3    1147.9 \n",
      " 55  142.4    1148.9 \n",
      " 56  144.1    1161.9 \n",
      " 57  145.3    1172.2 \n",
      " 58  147.3    1188.2 \n",
      " 59  147.8    1192.3 \n",
      " 60  148.5    1197.5 \n",
      " 61  149.6    1206.8 \n",
      " 62  151.7    1223.6 \n",
      " 63  152.4    1229.3 \n",
      " 64  152.8    1232.8 \n",
      " 65  154.4    1245.0 \n",
      " 66  154.6    1247.1 \n",
      " 67  155.6    1255.3 \n",
      " 68  155.8    1256.2 \n",
      " 69  155.9    1257.2 \n",
      " 70  156.4    1261.7 \n",
      " 71  157.6    1271.0 \n",
      " 72  159.4    1285.8 \n",
      " 73  160.9    1297.8 \n",
      " 74  162.1    1307.3 \n",
      " 75  163.2    1316.1 \n",
      " 76  164.1    1323.8 \n",
      " 77  164.8    1328.9 \n",
      " 78  165.8    1337.5 \n",
      " 79  166.6    1343.7 \n",
      " 80  169.1    1363.5 \n",
      " 81  180.3    1454.2 \n",
      " 82  187.1    1509.5 \n",
      " 83  189.8    1530.7 \n",
      " 84  194.8    1570.9 \n",
      " 85  212.6    1714.6 \n",
      " 86  218.1    1759.3 \n",
      " 87  295.7    2385.2 \n",
      " 88  327.4    2640.9 \n",
      " 89  329.3    2655.9 \n",
      " 90  329.8    2659.7 \n",
      " 91  330.7    2666.9 \n",
      " 92  331.7    2675.7 \n",
      " 93  331.9    2676.8 \n",
      " 94  333.2    2687.1 \n",
      " 95  333.3    2687.9 \n",
      " 96  333.9    2693.2 \n",
      " 97  334.4    2697.0 \n",
      " 98  335.1    2702.4 \n",
      " 99  340.2    2744.3 \n",
      "100  341.7    2755.7 \n",
      "101  342.4    2761.7 \n",
      "102  345.0    2782.6 \n",
      "103  345.6    2787.6 \n",
      "104  346.1    2791.5 \n",
      "---------------------\n",
      "Zero-point energy: 7.181 eV\n"
     ]
    }
   ],
   "source": [
    "from ase.vibrations import Vibrations\n",
    "vib = Vibrations(images[10])\n",
    "vib.run()\n",
    "vib.summary()"
   ]
  },
  {
   "cell_type": "markdown",
   "metadata": {},
   "source": [
    "From the normal mode analysis we can see that the we get complex frequencies for the potential transition state. So it is truly a transition state. The energy barrier from the neutral to the zwitter-ionic form is 16.3 kcal/mol. The reaction requires a proton transfer where water is required. This can be seen in image 10 which is the transition state. Bacause of that the effect of the water has to be taken into account."
   ]
  },
  {
   "cell_type": "code",
   "execution_count": 20,
   "metadata": {},
   "outputs": [
    {
     "data": {
      "application/vnd.jupyter.widget-view+json": {
       "model_id": "5bec0e4235f944caa7e8c1552c631f7a"
      }
     },
     "metadata": {},
     "output_type": "display_data"
    },
    {
     "data": {
      "application/vnd.jupyter.widget-view+json": {
       "model_id": "f6e683ca18e34c94977e9e57e092d203"
      }
     },
     "metadata": {},
     "output_type": "display_data"
    }
   ],
   "source": [
    "# Visualize transition state in the solvent!\n",
    "wdg_final = nglview.show_ase(images[10])\n",
    "wdg_final.add_representation('ball+stick')\n",
    "wdg_final.center_view(range(3))\n",
    "wdg_final.display(gui=True)"
   ]
  },
  {
   "cell_type": "code",
   "execution_count": null,
   "metadata": {
    "collapsed": true
   },
   "outputs": [],
   "source": []
  }
 ],
 "metadata": {
  "kernelspec": {
   "display_name": "Python 2",
   "language": "python",
   "name": "python2"
  },
  "language_info": {
   "codemirror_mode": {
    "name": "ipython",
    "version": 2
   },
   "file_extension": ".py",
   "mimetype": "text/x-python",
   "name": "python",
   "nbconvert_exporter": "python",
   "pygments_lexer": "ipython2",
   "version": "2.7.13"
  }
 },
 "nbformat": 4,
 "nbformat_minor": 2
}
