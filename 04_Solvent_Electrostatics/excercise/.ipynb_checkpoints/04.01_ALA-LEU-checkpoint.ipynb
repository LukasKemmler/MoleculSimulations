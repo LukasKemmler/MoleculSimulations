{
 "cells": [
  {
   "cell_type": "code",
   "execution_count": 1,
   "metadata": {
    "collapsed": true
   },
   "outputs": [],
   "source": [
    "from ase.io import read\n",
    "from ase import Atoms\n",
    "from ase.optimize import *\n",
    "from ase.visualize import view\n",
    "from ase.md import *\n",
    "from ase.calculators.mopac import  *\n",
    "import nglview\n",
    "from ase import md\n",
    "from ase.md import *\n",
    "from ase.neb import  *\n",
    "from math import sqrt"
   ]
  },
  {
   "cell_type": "markdown",
   "metadata": {},
   "source": [
    "This notebook is handed out Th. 6/1/17 and is due Th. 6/15/17"
   ]
  },
  {
   "cell_type": "markdown",
   "metadata": {
    "collapsed": true
   },
   "source": [
    "\n",
    "# First two-dimensional IR spectra of ALA-LEU, recorded by an experimental group indicate a possibility for ALA-Leu to be neutral, instead or in addition to its presumed zwitterionic form. Computed linear  IR  spectra  of  different  forms  of Ala-Leu,  in  its  zwitter-ionic  and  neutral  from,  indicate a  clear difference  in  vibrational  signature,  allowing  to  distinguish  different  species  also  in  experimental  1d-spectra.  \n",
    "\n",
    "\n",
    "# As a colleague you are responsible to calculate reaction energy pathway between zwitterionic and neutral forms.\n",
    "\n",
    "# To do list:\n",
    "\n",
    "# -After trying to minimize structure in the gas phase, please minimize it in the presence of implicit solvent!\n",
    "\n",
    "# -What is the difference between minimized structure in the gas phase and the solvent?\n",
    "\n",
    "# -Please find the energy barrier between neutral and zwitter-ionic form with the aid of neb method (feel free to use other methods).\n",
    "\n",
    "# Is it reasonable to calculate energy pathway in the gas phase ? If not,please explain that how your implemented solvent could help?\n"
   ]
  },
  {
   "cell_type": "markdown",
   "metadata": {},
   "source": [
    "Minimization in the gas phase:"
   ]
  },
  {
   "cell_type": "code",
   "execution_count": 2,
   "metadata": {
    "scrolled": true
   },
   "outputs": [
    {
     "name": "stdout",
     "output_type": "stream",
     "text": [
      "BFGSLineSearch:   0[  0]  10:31:29       -7.955411       0.6108\n",
      "BFGSLineSearch:   1[  2]  10:31:35       -7.984373       0.4097\n",
      "BFGSLineSearch:   2[  4]  10:31:41       -7.993232       0.4048\n",
      "BFGSLineSearch:   3[  6]  10:31:47       -8.003143       0.4209\n",
      "BFGSLineSearch:   4[  8]  10:31:53       -8.015019       0.3399\n",
      "BFGSLineSearch:   5[ 10]  10:31:59       -8.026808       0.3623\n",
      "BFGSLineSearch:   6[ 12]  10:32:05       -8.034830       0.5675\n",
      "BFGSLineSearch:   7[ 14]  10:32:10       -8.050407       0.3326\n",
      "BFGSLineSearch:   8[ 16]  10:32:16       -8.075486       0.4561\n",
      "BFGSLineSearch:   9[ 18]  10:32:22       -8.116550       0.9691\n",
      "BFGSLineSearch:  10[ 20]  10:32:28       -8.149495       0.5160\n",
      "BFGSLineSearch:  11[ 22]  10:32:34       -8.191770       0.4891\n",
      "BFGSLineSearch:  12[ 24]  10:32:40       -8.236014       0.5191\n",
      "BFGSLineSearch:  13[ 26]  10:32:46       -8.298584       0.5950\n",
      "BFGSLineSearch:  14[ 28]  10:32:52       -8.361395       0.8268\n",
      "BFGSLineSearch:  15[ 30]  10:32:58       -8.414502       1.3444\n",
      "BFGSLineSearch:  16[ 32]  10:33:03       -8.490671       1.0190\n",
      "BFGSLineSearch:  17[ 34]  10:33:09       -8.555053       1.1286\n",
      "BFGSLineSearch:  18[ 36]  10:33:15       -8.657321       1.0104\n",
      "BFGSLineSearch:  19[ 38]  10:33:21       -8.737306       1.5465\n",
      "BFGSLineSearch:  20[ 40]  10:33:27       -8.900148       1.8395\n",
      "BFGSLineSearch:  21[ 42]  10:33:33       -8.985564       0.8435\n",
      "BFGSLineSearch:  22[ 44]  10:33:39       -9.083646       1.0735\n",
      "BFGSLineSearch:  23[ 46]  10:33:45       -9.158602       0.5330\n",
      "BFGSLineSearch:  24[ 48]  10:33:51       -9.198335       0.5144\n",
      "BFGSLineSearch:  25[ 50]  10:33:57       -9.246173       0.7089\n",
      "BFGSLineSearch:  26[ 52]  10:34:03       -9.274302       0.5127\n",
      "BFGSLineSearch:  27[ 54]  10:34:09       -9.299138       0.5913\n",
      "BFGSLineSearch:  28[ 56]  10:34:15       -9.315259       0.4457\n",
      "BFGSLineSearch:  29[ 57]  10:34:19       -9.332914       0.5062\n",
      "BFGSLineSearch:  30[ 59]  10:34:25       -9.345757       0.2456\n",
      "BFGSLineSearch:  31[ 61]  10:34:31       -9.355146       0.3805\n",
      "BFGSLineSearch:  32[ 63]  10:34:37       -9.362196       0.2885\n",
      "BFGSLineSearch:  33[ 65]  10:34:43       -9.368117       0.1891\n",
      "BFGSLineSearch:  34[ 66]  10:34:47       -9.373390       0.2891\n",
      "BFGSLineSearch:  35[ 68]  10:34:53       -9.380282       0.2781\n",
      "BFGSLineSearch:  36[ 70]  10:34:59       -9.386157       0.1804\n",
      "BFGSLineSearch:  37[ 72]  10:35:05       -9.390900       0.1951\n",
      "BFGSLineSearch:  38[ 73]  10:35:09       -9.397775       0.2280\n",
      "BFGSLineSearch:  39[ 75]  10:35:15       -9.403456       0.1579\n",
      "BFGSLineSearch:  40[ 77]  10:35:21       -9.407973       0.1898\n",
      "BFGSLineSearch:  41[ 79]  10:35:27       -9.413473       0.3120\n",
      "BFGSLineSearch:  42[ 80]  10:35:31       -9.417963       0.3262\n",
      "BFGSLineSearch:  43[ 82]  10:35:37       -9.428335       0.2913\n",
      "BFGSLineSearch:  44[ 84]  10:35:43       -9.433796       0.2870\n",
      "BFGSLineSearch:  45[ 86]  10:35:49       -9.439585       0.2362\n",
      "BFGSLineSearch:  46[ 88]  10:35:56       -9.444094       0.2131\n",
      "BFGSLineSearch:  47[ 90]  10:36:03       -9.449432       0.2343\n",
      "BFGSLineSearch:  48[ 92]  10:36:10       -9.452707       0.2501\n",
      "BFGSLineSearch:  49[ 94]  10:36:17       -9.457511       0.1665\n",
      "BFGSLineSearch:  50[ 96]  10:36:23       -9.461303       0.1874\n",
      "BFGSLineSearch:  51[ 98]  10:36:30       -9.464818       0.1471\n",
      "BFGSLineSearch:  52[ 99]  10:36:34       -9.468135       0.2421\n",
      "BFGSLineSearch:  53[101]  10:36:40       -9.471938       0.1993\n",
      "BFGSLineSearch:  54[102]  10:36:44       -9.475259       0.1460\n",
      "BFGSLineSearch:  55[104]  10:36:50       -9.477876       0.2213\n",
      "BFGSLineSearch:  56[105]  10:36:54       -9.481920       0.1508\n",
      "BFGSLineSearch:  57[107]  10:37:00       -9.484833       0.2680\n",
      "BFGSLineSearch:  58[109]  10:37:06       -9.487041       0.2197\n",
      "BFGSLineSearch:  59[111]  10:37:12       -9.490104       0.0959\n",
      "BFGSLineSearch:  60[113]  10:37:18       -9.491915       0.1066\n",
      "BFGSLineSearch:  61[115]  10:37:23       -9.493573       0.1255\n",
      "BFGSLineSearch:  62[116]  10:37:28       -9.495702       0.1124\n",
      "BFGSLineSearch:  63[118]  10:37:34       -9.496543       0.1019\n",
      "BFGSLineSearch:  64[120]  10:37:39       -9.498241       0.1148\n",
      "BFGSLineSearch:  65[121]  10:37:44       -9.501769       0.1651\n",
      "BFGSLineSearch:  66[182]  10:39:29       -9.502186       0.1791\n",
      "BFGSLineSearch:  67[245]  10:41:17       -9.503047       0.1671\n",
      "BFGSLineSearch:  68[249]  10:41:27       -9.504824       0.1179\n",
      "BFGSLineSearch:  69[315]  10:43:21       -9.504828       0.1147\n",
      "BFGSLineSearch:  70[365]  10:44:48       -9.505130       0.0754\n",
      "BFGSLineSearch:  71[431]  10:46:41       -9.505140       0.0575\n",
      "BFGSLineSearch:  72[504]  10:48:47       -9.505222       0.0405\n",
      "BFGSLineSearch:   0[  0]  10:48:49       -8.077327       4.4081\n",
      "BFGSLineSearch:   1[  2]  10:48:55       -8.369796       2.9852\n",
      "BFGSLineSearch:   2[  4]  10:49:00       -8.590517       2.1579\n",
      "BFGSLineSearch:   3[  6]  10:49:06       -8.832111       1.0714\n",
      "BFGSLineSearch:   4[  8]  10:49:13       -8.918091       1.6816\n",
      "BFGSLineSearch:   5[ 10]  10:49:19       -8.987673       1.1907\n",
      "BFGSLineSearch:   6[ 12]  10:49:24       -9.035781       0.8338\n",
      "BFGSLineSearch:   7[ 14]  10:49:31       -9.077212       0.6588\n",
      "BFGSLineSearch:   8[ 16]  10:49:37       -9.116547       0.6753\n",
      "BFGSLineSearch:   9[ 18]  10:49:43       -9.150499       0.6221\n",
      "BFGSLineSearch:  10[ 20]  10:49:49       -9.174705       0.5455\n",
      "BFGSLineSearch:  11[ 22]  10:49:55       -9.195410       0.3437\n",
      "BFGSLineSearch:  12[ 24]  10:50:01       -9.214331       0.3116\n",
      "BFGSLineSearch:  13[ 26]  10:50:07       -9.224359       0.2739\n",
      "BFGSLineSearch:  14[ 27]  10:50:11       -9.238828       0.5350\n",
      "BFGSLineSearch:  15[ 29]  10:50:17       -9.256855       0.2999\n",
      "BFGSLineSearch:  16[ 31]  10:50:23       -9.266172       0.2059\n",
      "BFGSLineSearch:  17[ 33]  10:50:28       -9.270145       0.1029\n",
      "BFGSLineSearch:  18[ 35]  10:50:34       -9.272887       0.1219\n",
      "BFGSLineSearch:  19[ 37]  10:50:40       -9.274509       0.1148\n",
      "BFGSLineSearch:  20[ 38]  10:50:45       -9.276410       0.1366\n",
      "BFGSLineSearch:  21[ 40]  10:50:50       -9.278599       0.1109\n",
      "BFGSLineSearch:  22[ 41]  10:50:55       -9.282316       0.1508\n",
      "BFGSLineSearch:  23[ 43]  10:51:01       -9.285497       0.1549\n",
      "BFGSLineSearch:  24[ 44]  10:51:06       -9.289978       0.2627\n",
      "BFGSLineSearch:  25[ 46]  10:51:12       -9.294984       0.1539\n",
      "BFGSLineSearch:  26[ 48]  10:51:18       -9.299275       0.1694\n",
      "BFGSLineSearch:  27[ 50]  10:51:24       -9.303108       0.1920\n",
      "BFGSLineSearch:  28[ 52]  10:51:29       -9.308741       0.2153\n",
      "BFGSLineSearch:  29[ 54]  10:51:35       -9.313687       0.3138\n",
      "BFGSLineSearch:  30[ 56]  10:51:42       -9.322352       0.2439\n",
      "BFGSLineSearch:  31[ 58]  10:51:48       -9.331843       0.2327\n",
      "BFGSLineSearch:  32[ 60]  10:51:54       -9.337386       0.1961\n",
      "BFGSLineSearch:  33[ 62]  10:52:00       -9.345188       0.2224\n",
      "BFGSLineSearch:  34[ 64]  10:52:06       -9.351393       0.2679\n",
      "BFGSLineSearch:  35[ 66]  10:52:12       -9.361533       0.3702\n",
      "BFGSLineSearch:  36[ 68]  10:52:18       -9.368554       0.3601\n",
      "BFGSLineSearch:  37[ 70]  10:52:24       -9.377708       0.5180\n",
      "BFGSLineSearch:  38[ 72]  10:52:30       -9.386945       0.1937\n",
      "BFGSLineSearch:  39[ 73]  10:52:34       -9.394766       0.3422\n",
      "BFGSLineSearch:  40[ 75]  10:52:40       -9.401302       0.3627\n",
      "BFGSLineSearch:  41[ 77]  10:52:46       -9.406444       0.2407\n",
      "BFGSLineSearch:  42[ 79]  10:52:52       -9.410556       0.3281\n",
      "BFGSLineSearch:  43[ 81]  10:52:58       -9.416791       0.3721\n",
      "BFGSLineSearch:  44[ 82]  10:53:02       -9.423750       0.3750\n",
      "BFGSLineSearch:  45[ 84]  10:53:10       -9.428784       0.3001\n",
      "BFGSLineSearch:  46[ 86]  10:53:16       -9.433766       0.1634\n",
      "BFGSLineSearch:  47[ 88]  10:53:22       -9.436526       0.1260\n",
      "BFGSLineSearch:  48[ 89]  10:53:27       -9.440457       0.2790\n",
      "BFGSLineSearch:  49[ 91]  10:53:33       -9.444610       0.1838\n",
      "BFGSLineSearch:  50[ 93]  10:53:39       -9.448266       0.1190\n",
      "BFGSLineSearch:  51[ 95]  10:53:45       -9.451230       0.1382\n",
      "BFGSLineSearch:  52[ 96]  10:53:49       -9.454482       0.2709\n",
      "BFGSLineSearch:  53[ 98]  10:53:55       -9.458575       0.1617\n",
      "BFGSLineSearch:  54[100]  10:54:02       -9.461458       0.1469\n",
      "BFGSLineSearch:  55[102]  10:54:07       -9.463445       0.1334\n"
     ]
    },
    {
     "name": "stdout",
     "output_type": "stream",
     "text": [
      "BFGSLineSearch:  56[103]  10:54:12       -9.465542       0.1584\n",
      "BFGSLineSearch:  57[105]  10:54:19       -9.468256       0.1436\n",
      "BFGSLineSearch:  58[106]  10:54:24       -9.470754       0.0993\n",
      "BFGSLineSearch:  59[108]  10:54:30       -9.471938       0.1017\n",
      "BFGSLineSearch:  60[110]  10:54:36       -9.473269       0.0746\n",
      "BFGSLineSearch:  61[112]  10:54:42       -9.474256       0.1174\n",
      "BFGSLineSearch:  62[114]  10:54:48       -9.474931       0.0761\n",
      "BFGSLineSearch:  63[116]  10:54:54       -9.476057       0.0811\n",
      "BFGSLineSearch:  64[117]  10:54:58       -9.477696       0.1016\n",
      "BFGSLineSearch:  65[119]  10:55:04       -9.478497       0.0756\n",
      "BFGSLineSearch:  66[120]  10:55:08       -9.480161       0.0990\n",
      "BFGSLineSearch:  67[122]  10:55:14       -9.480849       0.0766\n",
      "BFGSLineSearch:  68[123]  10:55:18       -9.482393       0.2473\n",
      "BFGSLineSearch:  69[172]  10:56:43       -9.483008       0.0851\n",
      "BFGSLineSearch:  70[175]  10:56:51       -9.485625       0.1553\n",
      "BFGSLineSearch:  71[176]  10:56:55       -9.487026       0.1228\n",
      "BFGSLineSearch:  72[223]  10:58:17       -9.488630       0.0913\n",
      "BFGSLineSearch:  73[280]  10:59:56       -9.489420       0.1054\n",
      "BFGSLineSearch:  74[281]  11:00:00       -9.491604       0.1065\n",
      "BFGSLineSearch:  75[349]  11:01:57       -9.491661       0.0903\n",
      "BFGSLineSearch:  76[418]  11:03:56       -9.492305       0.0780\n",
      "BFGSLineSearch:  77[473]  11:05:31       -9.493612       0.0742\n",
      "BFGSLineSearch:  78[474]  11:05:35       -9.495994       0.0623\n",
      "BFGSLineSearch:  79[536]  11:07:22       -9.496285       0.0549\n",
      "BFGSLineSearch:  80[590]  11:08:55       -9.497738       0.0910\n",
      "BFGSLineSearch:  81[639]  11:10:20       -9.497740       0.0881\n",
      "BFGSLineSearch:  82[695]  11:11:57       -9.498790       0.1363\n",
      "BFGSLineSearch:  83[698]  11:12:04       -9.501457       0.1271\n",
      "BFGSLineSearch:  84[699]  11:12:09       -9.503777       0.1129\n",
      "BFGSLineSearch:  85[700]  11:12:13       -9.505509       0.1806\n",
      "BFGSLineSearch:  86[701]  11:12:17       -9.507370       0.1504\n",
      "BFGSLineSearch:  87[768]  11:14:12       -9.507437       0.1490\n",
      "BFGSLineSearch:  88[772]  11:14:22       -9.509510       0.1480\n",
      "BFGSLineSearch:  89[837]  11:16:13       -9.509956       0.1621\n",
      "BFGSLineSearch:  90[894]  11:17:52       -9.512396       0.1395\n",
      "BFGSLineSearch:  91[962]  11:19:49       -9.512640       0.1264\n",
      "BFGSLineSearch:  92[1017]  11:21:24       -9.513802       0.1805\n",
      "BFGSLineSearch:  93[1086]  11:23:22       -9.513804       0.1765\n",
      "BFGSLineSearch:  94[1157]  11:25:24       -9.513965       0.1483\n",
      "BFGSLineSearch:  95[1227]  11:27:25       -9.514020       0.1319\n",
      "BFGSLineSearch:  96[1298]  11:29:26       -9.514110       0.1059\n",
      "BFGSLineSearch:  97[1307]  11:29:44       -9.514109       0.1059\n",
      "BFGSLineSearch:  98[1373]  11:31:38       -9.514111       0.1005\n",
      "BFGSLineSearch:  99[1430]  11:33:16       -9.514124       0.0912\n",
      "BFGSLineSearch: 100[1439]  11:33:34       -9.514124       0.0914\n",
      "BFGSLineSearch: 101[1486]  11:34:55       -9.514124       0.0913\n",
      "BFGSLineSearch: 102[1495]  11:35:13       -9.514123       0.0914\n",
      "BFGSLineSearch: 103[1503]  11:35:29       -9.514123       0.0914\n",
      "BFGSLineSearch: 104[1511]  11:35:45       -9.514123       0.0913\n",
      "BFGSLineSearch: 105[1519]  11:36:01       -9.514123       0.0913\n",
      "BFGSLineSearch: 106[1527]  11:36:17       -9.514123       0.0913\n",
      "BFGSLineSearch: 107[1602]  11:38:25       -9.514123       0.0913\n",
      "BFGSLineSearch: 108[1611]  11:38:43       -9.514122       0.0913\n",
      "BFGSLineSearch: 109[1684]  11:40:48       -9.514123       0.0914\n",
      "BFGSLineSearch: 110[1693]  11:41:06       -9.514122       0.0914\n",
      "BFGSLineSearch: 111[1777]  11:43:30       -9.514122       0.0914\n",
      "BFGSLineSearch: 112[1855]  11:45:43       -9.514123       0.0914\n",
      "BFGSLineSearch: 113[1937]  11:48:04       -9.514123       0.0914\n",
      "BFGSLineSearch: 114[1945]  11:48:20       -9.514122       0.0914\n",
      "BFGSLineSearch: 115[1953]  11:48:36       -9.514122       0.0914\n",
      "BFGSLineSearch: 116[1961]  11:48:52       -9.514122       0.0914\n",
      "BFGSLineSearch: 117[2050]  11:51:24       -9.514122       0.0914\n",
      "BFGSLineSearch: 118[2059]  11:51:41       -9.514122       0.0914\n",
      "BFGSLineSearch: 119[2134]  11:53:50       -9.514122       0.0913\n",
      "BFGSLineSearch: 120[2201]  11:55:45       -9.514123       0.0914\n",
      "BFGSLineSearch: 121[2210]  11:56:03       -9.514122       0.0914\n",
      "BFGSLineSearch: 122[2297]  11:58:32       -9.514123       0.0913\n",
      "BFGSLineSearch: 123[2306]  11:58:49       -9.514122       0.0913\n",
      "BFGSLineSearch: 124[2361]  12:00:24       -9.514123       0.0910\n",
      "BFGSLineSearch: 125[2431]  12:02:25       -9.514126       0.0901\n",
      "BFGSLineSearch: 126[2509]  12:04:38       -9.514127       0.0902\n",
      "BFGSLineSearch: 127[2564]  12:06:13       -9.514694       0.0913\n",
      "BFGSLineSearch: 128[2631]  12:08:09       -9.514707       0.0911\n",
      "BFGSLineSearch: 129[2699]  12:10:05       -9.514714       0.0908\n",
      "BFGSLineSearch: 130[2767]  12:12:02       -9.514719       0.0911\n",
      "BFGSLineSearch: 131[2838]  12:14:04       -9.514720       0.0911\n",
      "BFGSLineSearch: 132[2909]  12:16:06       -9.514721       0.0910\n",
      "BFGSLineSearch: 133[2987]  12:18:20       -9.514725       0.0912\n",
      "BFGSLineSearch: 134[3061]  12:20:27       -9.514726       0.0914\n",
      "BFGSLineSearch: 135[3134]  12:22:32       -9.514733       0.0913\n",
      "BFGSLineSearch: 136[3189]  12:24:07       -9.514735       0.0920\n",
      "BFGSLineSearch: 137[3198]  12:24:25       -9.514734       0.0920\n",
      "BFGSLineSearch: 138[3273]  12:26:33       -9.514738       0.0921\n",
      "BFGSLineSearch: 139[3327]  12:28:07       -9.514745       0.0932\n",
      "BFGSLineSearch: 140[3336]  12:28:24       -9.514744       0.0932\n",
      "BFGSLineSearch: 141[3420]  12:30:48       -9.514744       0.0932\n",
      "BFGSLineSearch: 142[3429]  12:31:06       -9.514743       0.0932\n",
      "BFGSLineSearch: 143[3437]  12:31:22       -9.514742       0.0932\n",
      "BFGSLineSearch: 144[3445]  12:31:38       -9.514742       0.0932\n",
      "BFGSLineSearch: 145[3515]  12:33:38       -9.514742       0.0932\n",
      "BFGSLineSearch: 146[3588]  12:35:43       -9.514742       0.0932\n",
      "BFGSLineSearch: 147[3653]  12:37:35       -9.514752       0.0946\n",
      "BFGSLineSearch: 148[3662]  12:37:53       -9.514752       0.0946\n",
      "BFGSLineSearch: 149[3732]  12:39:53       -9.514971       0.1004\n",
      "BFGSLineSearch: 150[3791]  12:41:35       -9.514972       0.1005\n",
      "BFGSLineSearch: 151[3853]  12:43:22       -9.514975       0.1012\n",
      "BFGSLineSearch: 152[3924]  12:45:24       -9.514980       0.1017\n",
      "BFGSLineSearch: 153[3998]  12:47:30       -9.514988       0.1027\n",
      "BFGSLineSearch: 154[4066]  12:49:27       -9.514988       0.1029\n",
      "BFGSLineSearch: 155[4137]  12:51:29       -9.514992       0.1039\n",
      "BFGSLineSearch: 156[4194]  12:53:08       -9.514994       0.1047\n",
      "BFGSLineSearch: 157[4203]  12:53:25       -9.514993       0.1047\n",
      "BFGSLineSearch: 158[4271]  12:55:22       -9.514996       0.1050\n",
      "BFGSLineSearch: 159[4280]  12:55:40       -9.514994       0.1050\n",
      "BFGSLineSearch: 160[4352]  12:57:44       -9.514996       0.1061\n",
      "BFGSLineSearch: 161[4361]  12:58:01       -9.514995       0.1061\n",
      "BFGSLineSearch: 162[4429]  12:59:58       -9.515002       0.1078\n",
      "BFGSLineSearch: 163[4438]  13:00:16       -9.515001       0.1078\n",
      "BFGSLineSearch: 164[4518]  13:02:33       -9.515002       0.1077\n",
      "BFGSLineSearch: 165[4526]  13:02:49       -9.515000       0.1077\n",
      "BFGSLineSearch: 166[4599]  13:04:54       -9.515000       0.1078\n",
      "BFGSLineSearch: 167[4676]  13:07:06       -9.515001       0.1078\n",
      "BFGSLineSearch: 168[4685]  13:07:23       -9.515000       0.1078\n",
      "BFGSLineSearch: 169[4754]  13:09:22       -9.515001       0.1078\n",
      "BFGSLineSearch: 170[4763]  13:09:40       -9.515000       0.1078\n",
      "BFGSLineSearch: 171[4844]  13:11:58       -9.515000       0.1078\n",
      "BFGSLineSearch: 172[4853]  13:12:16       -9.515000       0.1078\n",
      "BFGSLineSearch: 173[4914]  13:14:01       -9.515034       0.1118\n",
      "BFGSLineSearch: 174[4923]  13:14:19       -9.515033       0.1118\n",
      "BFGSLineSearch: 175[5008]  13:16:44       -9.515033       0.1118\n",
      "BFGSLineSearch: 176[5017]  13:17:02       -9.515033       0.1119\n",
      "BFGSLineSearch: 177[5095]  13:19:15       -9.515034       0.1119\n",
      "BFGSLineSearch: 178[5104]  13:19:33       -9.515034       0.1119\n",
      "BFGSLineSearch: 179[5184]  13:21:51       -9.515035       0.1121\n",
      "BFGSLineSearch: 180[5193]  13:22:09       -9.515034       0.1121\n",
      "BFGSLineSearch: 181[5253]  13:23:57       -9.515048       0.1130\n",
      "BFGSLineSearch: 182[5262]  13:24:15       -9.515047       0.1130\n"
     ]
    },
    {
     "name": "stdout",
     "output_type": "stream",
     "text": [
      "BFGSLineSearch: 183[5325]  13:26:23       -9.515049       0.1145\n",
      "BFGSLineSearch: 184[5334]  13:26:42       -9.515048       0.1145\n",
      "BFGSLineSearch: 185[5411]  13:28:57       -9.515049       0.1148\n",
      "BFGSLineSearch: 186[5481]  13:30:57       -9.515057       0.1170\n",
      "BFGSLineSearch: 187[5556]  13:33:06       -9.515059       0.1171\n",
      "BFGSLineSearch: 188[5565]  13:33:23       -9.515059       0.1171\n",
      "BFGSLineSearch: 189[5656]  13:35:59       -9.515059       0.1171\n",
      "BFGSLineSearch: 190[5664]  13:36:15       -9.515058       0.1171\n",
      "BFGSLineSearch: 191[5672]  13:36:31       -9.515058       0.1171\n",
      "BFGSLineSearch: 192[5680]  13:36:47       -9.515056       0.1171\n",
      "BFGSLineSearch: 193[5749]  13:38:46       -9.515057       0.1171\n",
      "BFGSLineSearch: 194[5817]  13:40:43       -9.515057       0.1169\n",
      "BFGSLineSearch: 195[5893]  13:42:54       -9.515059       0.1184\n",
      "BFGSLineSearch: 196[5959]  13:44:47       -9.515062       0.1203\n",
      "BFGSLineSearch: 197[5968]  13:45:05       -9.515062       0.1203\n",
      "BFGSLineSearch: 198[5977]  13:45:22       -9.515062       0.1203\n",
      "BFGSLineSearch: 199[5982]  13:45:33       -9.515059       0.1205\n",
      "BFGSLineSearch: 200[6048]  13:47:27       -9.515062       0.1211\n",
      "BFGSLineSearch: 201[6057]  13:47:44       -9.515062       0.1211\n",
      "BFGSLineSearch: 202[6130]  13:49:50       -9.515062       0.1216\n",
      "BFGSLineSearch: 203[6191]  13:51:35       -9.515069       0.1241\n",
      "BFGSLineSearch: 204[6264]  13:53:40       -9.515071       0.1263\n",
      "BFGSLineSearch: 205[6338]  13:55:47       -9.515072       0.1267\n",
      "BFGSLineSearch: 206[6347]  13:56:05       -9.515071       0.1267\n",
      "BFGSLineSearch: 207[6433]  13:58:32       -9.515071       0.1267\n",
      "BFGSLineSearch: 208[6509]  14:00:42       -9.515072       0.1269\n",
      "BFGSLineSearch: 209[6518]  14:01:00       -9.515071       0.1269\n",
      "BFGSLineSearch: 210[6583]  14:02:51       -9.515071       0.1273\n",
      "BFGSLineSearch: 211[6670]  14:05:20       -9.515072       0.1272\n",
      "BFGSLineSearch: 212[6679]  14:05:38       -9.515071       0.1273\n",
      "BFGSLineSearch: 213[6760]  14:07:56       -9.515071       0.1275\n",
      "BFGSLineSearch: 214[6833]  14:10:02       -9.515072       0.1280\n",
      "BFGSLineSearch: 215[6915]  14:12:22       -9.515072       0.1280\n",
      "BFGSLineSearch: 216[6924]  14:12:40       -9.515072       0.1280\n",
      "BFGSLineSearch: 217[7000]  14:14:50       -9.515072       0.1280\n",
      "BFGSLineSearch: 218[7070]  14:16:50       -9.515072       0.1286\n",
      "BFGSLineSearch: 219[7144]  14:18:58       -9.515074       0.1292\n",
      "BFGSLineSearch: 220[7153]  14:19:15       -9.515073       0.1292\n",
      "BFGSLineSearch: 221[7233]  14:21:32       -9.515074       0.1293\n",
      "BFGSLineSearch: 222[7242]  14:21:50       -9.515072       0.1293\n",
      "BFGSLineSearch: 223[7322]  14:24:07       -9.515073       0.1293\n",
      "BFGSLineSearch: 224[7331]  14:24:25       -9.515072       0.1295\n",
      "BFGSLineSearch: 225[7388]  14:26:03       -9.515160       0.1399\n",
      "BFGSLineSearch: 226[7457]  14:28:02       -9.515207       0.1480\n",
      "BFGSLineSearch: 227[7524]  14:29:57       -9.515268       0.1573\n",
      "BFGSLineSearch: 228[7603]  14:32:12       -9.515298       0.1611\n",
      "BFGSLineSearch: 229[7675]  14:34:16       -9.515323       0.1632\n",
      "BFGSLineSearch: 230[7745]  14:36:16       -9.515336       0.1639\n",
      "BFGSLineSearch: 231[7801]  14:37:52       -9.515338       0.1635\n",
      "BFGSLineSearch: 232[7867]  14:39:46       -9.515342       0.1631\n",
      "BFGSLineSearch: 233[7936]  14:41:44       -9.515344       0.1620\n",
      "BFGSLineSearch: 234[8007]  14:43:46       -9.515346       0.1616\n",
      "BFGSLineSearch: 235[8073]  14:45:39       -9.515348       0.1613\n",
      "BFGSLineSearch: 236[8141]  14:47:36       -9.515351       0.1600\n",
      "BFGSLineSearch: 237[8209]  14:49:33       -9.515353       0.1597\n",
      "BFGSLineSearch: 238[8217]  14:49:49       -9.515353       0.1597\n",
      "BFGSLineSearch: 239[8287]  14:51:49       -9.515353       0.1596\n",
      "BFGSLineSearch: 240[8352]  14:53:41       -9.515359       0.1587\n",
      "BFGSLineSearch: 241[8425]  14:55:46       -9.515363       0.1577\n",
      "BFGSLineSearch: 242[8433]  14:56:02       -9.515362       0.1577\n",
      "BFGSLineSearch: 243[8521]  14:58:33       -9.515362       0.1578\n",
      "BFGSLineSearch: 244[8529]  14:58:49       -9.515362       0.1578\n",
      "BFGSLineSearch: 245[8617]  15:01:19       -9.515362       0.1578\n",
      "BFGSLineSearch: 246[8625]  15:01:35       -9.515361       0.1578\n",
      "BFGSLineSearch: 247[8684]  15:03:17       -9.515361       0.1578\n",
      "BFGSLineSearch: 248[8692]  15:03:33       -9.515360       0.1579\n",
      "BFGSLineSearch: 249[8693]  15:03:37       -9.515641       0.1578\n",
      "BFGSLineSearch: 250[8758]  15:05:29       -9.515649       0.1612\n",
      "BFGSLineSearch: 251[8766]  15:05:45       -9.515648       0.1612\n",
      "BFGSLineSearch: 252[8843]  15:07:57       -9.515649       0.1613\n",
      "BFGSLineSearch: 253[8910]  15:09:53       -9.515649       0.1615\n",
      "BFGSLineSearch: 254[8918]  15:10:09       -9.515649       0.1616\n",
      "BFGSLineSearch: 255[8977]  15:11:50       -9.515653       0.1606\n",
      "BFGSLineSearch: 256[9052]  15:13:59       -9.515657       0.1593\n",
      "BFGSLineSearch: 257[9060]  15:14:15       -9.515656       0.1593\n",
      "BFGSLineSearch: 258[9128]  15:16:12       -9.515656       0.1567\n",
      "BFGSLineSearch: 259[9200]  15:18:16       -9.515658       0.1568\n",
      "BFGSLineSearch: 260[9208]  15:18:32       -9.515657       0.1568\n",
      "BFGSLineSearch: 261[9209]  15:18:36       -9.515785       0.1462\n",
      "BFGSLineSearch: 262[9267]  15:20:16       -9.515830       0.1506\n",
      "BFGSLineSearch: 263[9334]  15:22:11       -9.515847       0.1557\n",
      "BFGSLineSearch: 264[9399]  15:24:03       -9.515884       0.1588\n",
      "BFGSLineSearch: 265[9466]  15:25:58       -9.515975       0.1615\n",
      "BFGSLineSearch: 266[9467]  15:26:02       -9.516105       0.1656\n",
      "BFGSLineSearch: 267[9470]  15:26:10       -9.516418       0.1733\n",
      "BFGSLineSearch: 268[9472]  15:26:16       -9.516722       0.1799\n",
      "BFGSLineSearch: 269[9473]  15:26:20       -9.516864       0.1754\n",
      "BFGSLineSearch: 270[9546]  15:28:25       -9.516869       0.1748\n",
      "BFGSLineSearch: 271[9616]  15:30:25       -9.516869       0.1746\n",
      "BFGSLineSearch: 272[9691]  15:32:34       -9.516872       0.1740\n",
      "BFGSLineSearch: 273[9699]  15:32:50       -9.516871       0.1740\n",
      "BFGSLineSearch: 274[9775]  15:35:00       -9.516871       0.1740\n",
      "BFGSLineSearch: 275[9783]  15:35:16       -9.516871       0.1740\n",
      "BFGSLineSearch: 276[9855]  15:37:20       -9.516871       0.1740\n",
      "BFGSLineSearch: 277[9927]  15:39:24       -9.516871       0.1742\n",
      "BFGSLineSearch: 278[10003]  15:41:34       -9.516874       0.1729\n",
      "BFGSLineSearch: 279[10011]  15:41:50       -9.516874       0.1729\n",
      "BFGSLineSearch: 280[10075]  15:43:40       -9.516879       0.1724\n",
      "BFGSLineSearch: 281[10137]  15:45:27       -9.516882       0.1715\n",
      "BFGSLineSearch: 282[10145]  15:45:43       -9.516882       0.1715\n",
      "BFGSLineSearch: 283[10217]  15:47:47       -9.516883       0.1711\n",
      "BFGSLineSearch: 284[10290]  15:49:52       -9.516902       0.1704\n",
      "BFGSLineSearch: 285[10298]  15:50:08       -9.516901       0.1704\n",
      "BFGSLineSearch: 286[10382]  15:52:32       -9.516902       0.1704\n",
      "BFGSLineSearch: 287[10390]  15:52:48       -9.516902       0.1704\n",
      "BFGSLineSearch: 288[10465]  15:54:56       -9.516902       0.1704\n",
      "BFGSLineSearch: 289[10473]  15:55:12       -9.516902       0.1704\n",
      "BFGSLineSearch: 290[10540]  15:57:08       -9.516902       0.1704\n",
      "BFGSLineSearch: 291[10548]  15:57:23       -9.516902       0.1704\n",
      "BFGSLineSearch: 292[10549]  15:57:28       -9.516966       0.1705\n",
      "BFGSLineSearch: 293[10552]  15:57:35       -9.517026       0.1735\n",
      "BFGSLineSearch: 294[10555]  15:57:43       -9.517130       0.1793\n",
      "BFGSLineSearch: 295[10622]  15:59:38       -9.517194       0.1852\n",
      "BFGSLineSearch: 296[10693]  16:01:40       -9.517196       0.1858\n",
      "BFGSLineSearch: 297[10757]  16:03:30       -9.517199       0.1872\n",
      "BFGSLineSearch: 298[10834]  16:05:42       -9.517199       0.1871\n",
      "BFGSLineSearch: 299[10842]  16:05:58       -9.517198       0.1871\n"
     ]
    }
   ],
   "source": [
    "# Mopac command\n",
    "calc = Mopac(restart=0, spin=0, OPT=False, functional='PM6', job_type='NOANCI 1SCF GRADIENTS AUX(0,PRECISION=9)', RELSCF=0.0001)\n",
    "\n",
    "# Read initial structure A (zwitterionic):\n",
    "A = read('input/A.xyz')\n",
    "# Alternatively, you can use pdb format if you have any kinds of probelm in visualisation\n",
    "\n",
    "# minimisation process: \n",
    "# Hint: Since it can be very long 30 steps would be enough! (You are weclome to fully minimised it if you want!)\n",
    "moleculeA = Atoms(A)\n",
    "moleculeA.set_calculator(calc)\n",
    "dynA = QuasiNewton(moleculeA, restart='output/Asol.pckl')\n",
    "dynA.run(fmax=0.05, steps = 300)\n",
    "\n",
    "\n",
    "# write optimised structure A (zwitterionic) :\n",
    "\n",
    "outfile=\"output/A.opt.xyz\"\n",
    "moleculeA.write(outfile)\n",
    "\n",
    "# Read initial structure B (neutral):\n",
    "B = read('input/B.xyz')\n",
    "# Alternatively, you can use pdb format if you have any kinds of probelm in visualisation\n",
    "\n",
    "# minimisation process: \n",
    "moleculeB = Atoms(B)\n",
    "moleculeB.set_calculator(calc)\n",
    "dynB = QuasiNewton(moleculeB, restart='output/B.pckl')\n",
    "dynB.run(fmax=0.05, steps = 300)\n",
    "\n",
    "# write optimised structure (neutral):\n",
    "outfile=\"output/B.opt.xyz\"\n",
    "moleculeB.write(outfile)"
   ]
  },
  {
   "cell_type": "code",
   "execution_count": 5,
   "metadata": {},
   "outputs": [
    {
     "data": {
      "application/vnd.jupyter.widget-view+json": {
       "model_id": "3a17d70ab6b74085a5b615ecb4ae2e03"
      }
     },
     "metadata": {},
     "output_type": "display_data"
    },
    {
     "data": {
      "application/vnd.jupyter.widget-view+json": {
       "model_id": "1711f1c569764fd7b038e09bcbf098a9"
      }
     },
     "metadata": {},
     "output_type": "display_data"
    }
   ],
   "source": [
    "# Visualize zwitterionic form before minimisation!\n",
    "wdg_init = nglview.show_structure_file(\"input/A.pdb\")\n",
    "wdg_init.add_representation('ball+stick')\n",
    "wdg_init.center_view()\n",
    "wdg_init.display(gui=True)"
   ]
  },
  {
   "cell_type": "code",
   "execution_count": 6,
   "metadata": {},
   "outputs": [
    {
     "data": {
      "application/vnd.jupyter.widget-view+json": {
       "model_id": "5bea7f36516642c7b86c3f7a877daa3f"
      }
     },
     "metadata": {},
     "output_type": "display_data"
    },
    {
     "data": {
      "application/vnd.jupyter.widget-view+json": {
       "model_id": "9e37f79ec05a49868b8c72c64b8a15d9"
      }
     },
     "metadata": {},
     "output_type": "display_data"
    }
   ],
   "source": [
    "# Visualize zwitterionic form after minimisation in the gas phase!\n",
    "wdg_final = nglview.show_ase(moleculeA)\n",
    "wdg_final.add_representation('ball+stick')\n",
    "wdg_final.center_view(range(3))\n",
    "wdg_final.display(gui=True)"
   ]
  },
  {
   "cell_type": "code",
   "execution_count": 7,
   "metadata": {},
   "outputs": [
    {
     "data": {
      "application/vnd.jupyter.widget-view+json": {
       "model_id": "3c3b00315859491487d7acb6473934f1"
      }
     },
     "metadata": {},
     "output_type": "display_data"
    },
    {
     "data": {
      "application/vnd.jupyter.widget-view+json": {
       "model_id": "c91c7d5970af486c800ffa036678fa5c"
      }
     },
     "metadata": {},
     "output_type": "display_data"
    }
   ],
   "source": [
    "# Visualize neutral form before minimisation!\n",
    "wdg_init = nglview.show_structure_file(\"input/B.pdb\")\n",
    "wdg_init.add_representation('ball+stick')\n",
    "wdg_init.center_view()\n",
    "wdg_init.display(gui=True)"
   ]
  },
  {
   "cell_type": "code",
   "execution_count": 8,
   "metadata": {},
   "outputs": [
    {
     "data": {
      "application/vnd.jupyter.widget-view+json": {
       "model_id": "780e44fbd3e341b090f419097fc72dfc"
      }
     },
     "metadata": {},
     "output_type": "display_data"
    },
    {
     "data": {
      "application/vnd.jupyter.widget-view+json": {
       "model_id": "7eb24dc4d62f4ae7bc09a6193fb7fa05"
      }
     },
     "metadata": {},
     "output_type": "display_data"
    }
   ],
   "source": [
    "# Visualize neutral form after minimisation in the gas phase!\n",
    "wdg_final = nglview.show_ase(moleculeB)\n",
    "wdg_final.add_representation('ball+stick')\n",
    "wdg_final.center_view(range(3))\n",
    "wdg_final.display(gui=True)"
   ]
  },
  {
   "cell_type": "markdown",
   "metadata": {},
   "source": [
    "Minimisation in the solvent:"
   ]
  },
  {
   "cell_type": "code",
   "execution_count": 4,
   "metadata": {
    "scrolled": true
   },
   "outputs": [
    {
     "name": "stdout",
     "output_type": "stream",
     "text": [
      "BFGSLineSearch:   0[  0]  16:17:40      -10.626679       1.6044\n",
      "BFGSLineSearch:   1[  7]  16:17:58      -10.626674       1.6047\n",
      "BFGSLineSearch:   2[ 14]  16:18:16      -10.626674       1.6047\n",
      "BFGSLineSearch:   3[ 21]  16:18:34      -10.626672       1.6047\n",
      "BFGSLineSearch:   4[ 28]  16:18:51      -10.626666       1.6047\n",
      "BFGSLineSearch:   5[ 97]  16:21:15      -10.627476       1.6133\n",
      "BFGSLineSearch:   6[ 99]  16:21:22      -10.726309       1.1799\n",
      "BFGSLineSearch:   7[101]  16:21:30      -10.749492       0.6861\n",
      "BFGSLineSearch:   8[103]  16:21:37      -10.758465       0.3840\n",
      "BFGSLineSearch:   9[107]  16:21:49      -10.764542       0.3380\n",
      "BFGSLineSearch:  10[184]  16:24:32      -10.764542       0.3380\n",
      "BFGSLineSearch:  11[191]  16:24:49      -10.764540       0.3380\n",
      "BFGSLineSearch:  12[268]  16:27:31      -10.764540       0.3380\n",
      "BFGSLineSearch:  13[275]  16:27:48      -10.764530       0.3380\n",
      "BFGSLineSearch:  14[356]  16:30:40      -10.764540       0.3377\n",
      "BFGSLineSearch:  15[364]  16:31:00      -10.764537       0.3377\n",
      "BFGSLineSearch:  16[436]  16:33:33      -10.764537       0.3377\n",
      "BFGSLineSearch:  17[444]  16:33:53      -10.764531       0.3377\n",
      "BFGSLineSearch:  18[532]  16:37:00      -10.764531       0.3377\n",
      "BFGSLineSearch:  19[540]  16:37:20      -10.764528       0.3377\n",
      "BFGSLineSearch:  20[543]  16:37:29      -10.762381       0.3340\n",
      "BFGSLineSearch:  21[600]  16:39:30      -10.764493       0.3207\n",
      "BFGSLineSearch:  22[669]  16:41:58      -10.767428       0.2948\n",
      "BFGSLineSearch:  23[737]  16:44:21      -10.770176       0.3192\n",
      "BFGSLineSearch:  24[746]  16:44:43      -10.770175       0.3192\n",
      "BFGSLineSearch:  25[754]  16:45:03      -10.770170       0.3192\n",
      "BFGSLineSearch:  26[762]  16:45:23      -10.770170       0.3192\n",
      "BFGSLineSearch:  27[770]  16:45:43      -10.770166       0.3192\n",
      "BFGSLineSearch:  28[839]  16:48:10      -10.775773       0.3620\n",
      "BFGSLineSearch:  29[916]  16:50:54      -10.776074       0.3679\n",
      "BFGSLineSearch:  30[980]  16:53:08      -10.777210       0.4321\n",
      "BFGSLineSearch:  31[1043]  16:55:23      -10.777824       0.4370\n",
      "BFGSLineSearch:  32[1112]  16:57:51      -10.777963       0.4414\n",
      "BFGSLineSearch:  33[1181]  17:00:19      -10.778838       0.5343\n",
      "BFGSLineSearch:  34[1245]  17:02:35      -10.779190       0.5556\n",
      "BFGSLineSearch:  35[1253]  17:02:56      -10.779190       0.5556\n",
      "BFGSLineSearch:  36[1333]  17:05:46      -10.779190       0.5556\n",
      "BFGSLineSearch:  37[1340]  17:06:04      -10.779188       0.5556\n",
      "BFGSLineSearch:  38[1398]  17:08:09      -10.781020       0.5998\n",
      "BFGSLineSearch:  39[1455]  17:10:11      -10.782324       0.6305\n",
      "BFGSLineSearch:  40[1464]  17:10:33      -10.782319       0.6305\n",
      "BFGSLineSearch:  41[1522]  17:12:37      -10.784739       0.8549\n",
      "BFGSLineSearch:  42[1524]  17:12:44      -10.788126       1.0116\n",
      "BFGSLineSearch:  43[1594]  17:15:12      -10.792145       1.1141\n",
      "BFGSLineSearch:  44[1664]  17:17:39      -10.795249       1.2085\n",
      "BFGSLineSearch:  45[1672]  17:17:59      -10.795247       1.2086\n",
      "BFGSLineSearch:  46[1754]  17:20:51      -10.795248       1.2086\n",
      "BFGSLineSearch:  47[1816]  17:23:02      -10.795277       1.2122\n",
      "BFGSLineSearch:  48[1906]  17:26:15      -10.795280       1.2122\n",
      "BFGSLineSearch:  49[1913]  17:26:33      -10.795274       1.2122\n",
      "BFGSLineSearch:  50[1996]  17:29:32      -10.795275       1.2124\n",
      "BFGSLineSearch:  51[2004]  17:29:52      -10.795273       1.2124\n",
      "BFGSLineSearch:  52[2092]  17:33:01      -10.795273       1.2124\n",
      "BFGSLineSearch:  53[2100]  17:33:21      -10.795272       1.2124\n",
      "BFGSLineSearch:  54[2153]  17:35:16      -10.795787       1.3300\n",
      "BFGSLineSearch:  55[2161]  17:35:36      -10.795783       1.3300\n",
      "BFGSLineSearch:  56[2232]  17:38:09      -10.796548       1.3380\n",
      "BFGSLineSearch:  57[2308]  17:42:30      -10.796550       1.3379\n",
      "BFGSLineSearch:  58[2371]  17:46:07      -10.796567       1.3381\n",
      "BFGSLineSearch:  59[2374]  17:46:24      -10.800955       1.4232\n",
      "BFGSLineSearch:  60[2453]  17:50:13      -10.800956       1.4232\n",
      "BFGSLineSearch:  61[2512]  17:52:21      -10.801393       1.4742\n",
      "BFGSLineSearch:  62[2573]  17:54:37      -10.801439       1.4769\n",
      "BFGSLineSearch:  63[2636]  17:57:06      -10.802089       1.4853\n",
      "BFGSLineSearch:  64[2700]  17:59:25      -10.803498       1.5043\n",
      "BFGSLineSearch:  65[2759]  18:01:32      -10.803527       1.5047\n",
      "BFGSLineSearch:  66[2766]  18:01:50      -10.803525       1.5048\n",
      "BFGSLineSearch:  67[2836]  18:04:23      -10.803593       1.5040\n",
      "BFGSLineSearch:  68[2843]  18:04:41      -10.803589       1.5040\n",
      "BFGSLineSearch:  69[2925]  18:07:37      -10.803592       1.5040\n",
      "BFGSLineSearch:  70[2932]  18:07:55      -10.803588       1.5040\n",
      "BFGSLineSearch:  71[3004]  18:10:30      -10.803668       1.5037\n",
      "BFGSLineSearch:  72[3011]  18:10:49      -10.803667       1.5037\n",
      "BFGSLineSearch:  73[3089]  18:13:36      -10.803667       1.5037\n",
      "BFGSLineSearch:  74[3096]  18:13:54      -10.803664       1.5037\n",
      "BFGSLineSearch:  75[3102]  18:14:10      -10.803664       1.5037\n",
      "BFGSLineSearch:  76[3183]  18:17:04      -10.803670       1.5037\n",
      "BFGSLineSearch:  77[3190]  18:17:21      -10.803666       1.5037\n",
      "BFGSLineSearch:  78[3197]  18:17:39      -10.803666       1.5037\n",
      "BFGSLineSearch:  79[3204]  18:17:57      -10.803661       1.5042\n",
      "BFGSLineSearch:  80[3268]  18:20:16      -10.803661       1.5042\n",
      "BFGSLineSearch:  81[3275]  18:20:34      -10.803657       1.5042\n",
      "BFGSLineSearch:  82[3351]  18:23:17      -10.803661       1.5042\n",
      "BFGSLineSearch:  83[3357]  18:23:33      -10.803660       1.5042\n",
      "BFGSLineSearch:  84[3363]  18:23:49      -10.803660       1.5042\n",
      "BFGSLineSearch:  85[3369]  18:24:04      -10.803660       1.5042\n",
      "BFGSLineSearch:  86[3375]  18:24:20      -10.803660       1.5042\n",
      "BFGSLineSearch:  87[3381]  18:24:36      -10.803660       1.5042\n",
      "BFGSLineSearch:  88[3387]  18:24:52      -10.803657       1.5043\n",
      "BFGSLineSearch:  89[3393]  18:25:08      -10.803657       1.5043\n",
      "BFGSLineSearch:  90[3399]  18:25:23      -10.803657       1.5043\n",
      "BFGSLineSearch:  91[3405]  18:25:40      -10.803657       1.5043\n",
      "BFGSLineSearch:  92[3411]  18:25:58      -10.803657       1.5043\n",
      "BFGSLineSearch:  93[3417]  18:26:13      -10.803657       1.5043\n",
      "BFGSLineSearch:  94[3423]  18:26:29      -10.803657       1.5043\n",
      "BFGSLineSearch:  95[3429]  18:26:45      -10.803657       1.5043\n",
      "BFGSLineSearch:  96[3435]  18:27:01      -10.803657       1.5043\n",
      "BFGSLineSearch:  97[3441]  18:27:17      -10.803657       1.5043\n",
      "BFGSLineSearch:  98[3447]  18:27:32      -10.803657       1.5043\n",
      "BFGSLineSearch:  99[3453]  18:27:48      -10.803657       1.5043\n",
      "BFGSLineSearch:   0[  0]  18:28:04       -9.131902       3.6203\n",
      "BFGSLineSearch:   1[  2]  18:28:11       -9.330136       2.8972\n",
      "BFGSLineSearch:   2[ 66]  18:30:28       -9.338695       2.6831\n",
      "BFGSLineSearch:   3[ 68]  18:30:35       -9.421812       1.9875\n",
      "BFGSLineSearch:   4[ 70]  18:30:42       -9.460033       1.9960\n",
      "BFGSLineSearch:   5[ 72]  18:30:49       -9.537892       1.6371\n",
      "BFGSLineSearch:   6[ 74]  18:30:56       -9.592595       1.4991\n",
      "BFGSLineSearch:   7[ 75]  18:31:01       -9.692206       1.7362\n",
      "BFGSLineSearch:   8[ 76]  18:31:06       -9.772511       1.4137\n",
      "BFGSLineSearch:   9[ 77]  18:31:11       -9.825788       1.3483\n",
      "BFGSLineSearch:  10[ 78]  18:31:16       -9.843129       1.1757\n",
      "BFGSLineSearch:  11[ 79]  18:31:21       -9.867473       1.3220\n",
      "BFGSLineSearch:  12[ 80]  18:31:25       -9.875476       1.4592\n",
      "BFGSLineSearch:  13[ 81]  18:31:30       -9.890034       1.5107\n",
      "BFGSLineSearch:  14[ 82]  18:31:35       -9.907392       1.4517\n",
      "BFGSLineSearch:  15[ 83]  18:31:41       -9.913803       1.3114\n",
      "BFGSLineSearch:  16[ 84]  18:31:46       -9.918090       1.2741\n",
      "BFGSLineSearch:  17[ 85]  18:31:51       -9.923372       1.3462\n",
      "BFGSLineSearch:  18[ 87]  18:31:58       -9.931990       1.4998\n",
      "BFGSLineSearch:  19[ 90]  18:32:06       -9.936175       1.5734\n",
      "BFGSLineSearch:  20[ 91]  18:32:10       -9.938913       1.6063\n",
      "BFGSLineSearch:  21[ 93]  18:32:17       -9.942457       1.6894\n",
      "BFGSLineSearch:  22[ 96]  18:32:26       -9.947666       1.6531\n",
      "BFGSLineSearch:  23[151]  18:34:11       -9.949197       1.6721\n",
      "BFGSLineSearch:  24[152]  18:34:17       -9.951607       1.7169\n",
      "BFGSLineSearch:  25[153]  18:34:22       -9.955226       1.7063\n",
      "BFGSLineSearch:  26[206]  18:36:03       -9.956430       1.6329\n"
     ]
    },
    {
     "name": "stdout",
     "output_type": "stream",
     "text": [
      "BFGSLineSearch:  27[264]  18:37:57       -9.957863       1.5524\n",
      "BFGSLineSearch:  28[266]  18:38:04       -9.963119       1.5443\n",
      "BFGSLineSearch:  29[327]  18:40:01       -9.963837       1.4974\n",
      "BFGSLineSearch:  30[328]  18:40:06       -9.966779       1.4016\n",
      "BFGSLineSearch:  31[379]  18:41:45       -9.967381       1.3919\n",
      "BFGSLineSearch:  32[434]  18:43:30       -9.968112       1.3495\n",
      "BFGSLineSearch:  33[514]  18:46:06       -9.968120       1.3495\n",
      "BFGSLineSearch:  34[521]  18:46:23       -9.968118       1.3496\n",
      "BFGSLineSearch:  35[578]  18:48:18       -9.968119       1.3496\n",
      "BFGSLineSearch:  36[585]  18:48:35       -9.968113       1.3501\n",
      "BFGSLineSearch:  37[592]  18:48:50       -9.968113       1.3501\n",
      "BFGSLineSearch:  38[599]  18:49:07       -9.968113       1.3501\n",
      "BFGSLineSearch:  39[606]  18:49:23       -9.968113       1.3501\n",
      "BFGSLineSearch:  40[613]  18:49:39       -9.968111       1.3501\n",
      "BFGSLineSearch:  41[619]  18:49:54       -9.968109       1.3501\n",
      "BFGSLineSearch:  42[625]  18:50:08       -9.968109       1.3501\n",
      "BFGSLineSearch:  43[712]  18:53:01       -9.968109       1.3501\n",
      "BFGSLineSearch:  44[719]  18:53:19       -9.968107       1.3501\n",
      "BFGSLineSearch:  45[725]  18:53:35       -9.968107       1.3501\n",
      "BFGSLineSearch:  46[731]  18:53:51       -9.968107       1.3501\n",
      "BFGSLineSearch:  47[737]  18:54:07       -9.968107       1.3501\n",
      "BFGSLineSearch:  48[743]  18:54:23       -9.968107       1.3501\n",
      "BFGSLineSearch:  49[749]  18:54:39       -9.968107       1.3501\n",
      "BFGSLineSearch:  50[755]  18:54:55       -9.968107       1.3501\n",
      "BFGSLineSearch:  51[839]  18:57:55       -9.968107       1.3501\n",
      "BFGSLineSearch:  52[845]  18:58:11       -9.968105       1.3501\n",
      "BFGSLineSearch:  53[851]  18:58:27       -9.968105       1.3501\n",
      "BFGSLineSearch:  54[857]  18:58:44       -9.968105       1.3501\n",
      "BFGSLineSearch:  55[863]  18:59:08       -9.968105       1.3501\n",
      "BFGSLineSearch:  56[869]  18:59:30       -9.968102       1.3501\n",
      "BFGSLineSearch:  57[875]  18:59:51       -9.968102       1.3501\n",
      "BFGSLineSearch:  58[881]  19:00:05       -9.968102       1.3501\n",
      "BFGSLineSearch:  59[887]  19:00:18       -9.968102       1.3501\n",
      "BFGSLineSearch:  60[893]  19:00:32       -9.968100       1.3501\n",
      "BFGSLineSearch:  61[899]  19:00:46       -9.968100       1.3501\n",
      "BFGSLineSearch:  62[905]  19:01:01       -9.968100       1.3501\n",
      "BFGSLineSearch:  63[911]  19:01:15       -9.968099       1.3501\n",
      "BFGSLineSearch:  64[992]  19:03:49       -9.968105       1.3501\n",
      "BFGSLineSearch:  65[1058]  19:05:59       -9.968393       1.3181\n",
      "BFGSLineSearch:  66[1064]  19:06:14       -9.968387       1.3182\n",
      "BFGSLineSearch:  67[1066]  19:06:20       -9.971418       1.2529\n",
      "BFGSLineSearch:  68[1069]  19:06:29       -9.976736       1.1799\n",
      "BFGSLineSearch:  69[1070]  19:06:34       -9.979657       1.1009\n",
      "BFGSLineSearch:  70[1071]  19:06:39       -9.981547       1.0038\n",
      "BFGSLineSearch:  71[1136]  19:08:38       -9.982000       1.0074\n",
      "BFGSLineSearch:  72[1144]  19:08:56       -9.981998       1.0074\n",
      "BFGSLineSearch:  73[1186]  19:10:16       -9.982034       0.9631\n",
      "BFGSLineSearch:  74[1241]  19:11:59       -9.982346       0.9476\n",
      "BFGSLineSearch:  75[1327]  19:14:38       -9.982349       0.9476\n",
      "BFGSLineSearch:  76[1396]  19:16:48       -9.982363       0.9473\n",
      "BFGSLineSearch:  77[1475]  19:19:14       -9.982381       0.9468\n",
      "BFGSLineSearch:  78[1548]  19:21:33       -9.982414       0.9466\n",
      "BFGSLineSearch:  79[1606]  19:23:21       -9.983750       0.7579\n",
      "BFGSLineSearch:  80[1607]  19:23:26       -9.984716       0.7435\n",
      "BFGSLineSearch:  81[1609]  19:23:33       -9.989197       0.7380\n",
      "BFGSLineSearch:  82[1672]  19:25:34       -9.992430       0.7240\n",
      "BFGSLineSearch:  83[1732]  19:27:29       -9.992989       0.7197\n",
      "BFGSLineSearch:  84[1792]  19:29:20       -9.997185       0.7230\n",
      "BFGSLineSearch:  85[1793]  19:29:25      -10.002126       0.6913\n",
      "BFGSLineSearch:  86[1850]  19:31:09      -10.002421       0.6911\n",
      "BFGSLineSearch:  87[1931]  19:33:32      -10.002422       0.6911\n",
      "BFGSLineSearch:  88[1937]  19:33:45      -10.002420       0.6912\n",
      "BFGSLineSearch:  89[2008]  19:35:55      -10.002420       0.6912\n",
      "BFGSLineSearch:  90[2015]  19:36:11      -10.002418       0.6912\n",
      "BFGSLineSearch:  91[2092]  19:38:29      -10.002420       0.6910\n",
      "BFGSLineSearch:  92[2099]  19:38:44      -10.002420       0.6910\n",
      "BFGSLineSearch:  93[2183]  19:41:13      -10.002420       0.6910\n",
      "BFGSLineSearch:  94[2190]  19:41:29      -10.002417       0.6910\n",
      "BFGSLineSearch:  95[2266]  19:43:45      -10.002419       0.6910\n",
      "BFGSLineSearch:  96[2332]  19:45:44      -10.002568       0.6905\n",
      "BFGSLineSearch:  97[2400]  19:47:46      -10.002603       0.6905\n",
      "BFGSLineSearch:  98[2407]  19:48:02      -10.002599       0.6905\n",
      "BFGSLineSearch:  99[2488]  19:50:26      -10.002601       0.6905\n"
     ]
    }
   ],
   "source": [
    "# Mopac command (please set the dielectric constant for water as solvent)\n",
    "calc = Mopac(restart=0, spin=0, OPT=False, functional='PM6', job_type='NOANCI 1SCF GRADIENTS EPS=80.1 AUX(0,PRECISION=9)', RELSCF=0.0001)\n",
    "\n",
    "# Read initial structure A (zwitterionic):\n",
    "A = read('input/A.xyz')\n",
    "# Alternatively, you can use pdb format if you have any kinds of probelm in visualisation\n",
    "\n",
    "# minimisation process: \n",
    "# Hint: Since it can be very long 20 steps would be enough! (You are weclome to fully minimised it if you want!)\n",
    "moleculeAsol = Atoms(A)\n",
    "moleculeAsol.set_calculator(calc)\n",
    "dynAsol = QuasiNewton(moleculeAsol, restart='output/Bsol.pckl')\n",
    "dynAsol.run(fmax=0.05, steps = 100)\n",
    "\n",
    "# write optimised structure A (zwitterionic) :\n",
    "\n",
    "outfile=\"output/A.opt.sol.xyz\"\n",
    "moleculeAsol.write(outfile)\n",
    "\n",
    "# Read initial structure B (neutral):\n",
    "B = read('input/B.xyz')\n",
    "# Alternatively, you can use pdb format if you have any kinds of probelm in visualisation\n",
    "\n",
    "# minimisation process: \n",
    "moleculeBsol = Atoms(B)\n",
    "moleculeBsol.set_calculator(calc)\n",
    "dynBsol = QuasiNewton(moleculeBsol, restart='output/Bsol.pckl')\n",
    "dynBsol.run(fmax=0.05, steps = 100)\n",
    "\n",
    "# write optimised structure (neutral):\n",
    "outfile=\"output/B.opt.sol.xyz\"\n",
    "moleculeBsol.write(outfile)"
   ]
  },
  {
   "cell_type": "code",
   "execution_count": 7,
   "metadata": {},
   "outputs": [
    {
     "data": {
      "application/vnd.jupyter.widget-view+json": {
       "model_id": "e5e8f283e7834ffb8a6b634c1fd4ca92"
      }
     },
     "metadata": {},
     "output_type": "display_data"
    },
    {
     "data": {
      "application/vnd.jupyter.widget-view+json": {
       "model_id": "e823fa99d45a4b9c8604188881378f55"
      }
     },
     "metadata": {},
     "output_type": "display_data"
    }
   ],
   "source": [
    "# Visualize zwitterionic form before minimisation!\n",
    "wdg_init = nglview.show_structure_file(\"input/A.pdb\")\n",
    "wdg_init.add_representation('ball+stick')\n",
    "wdg_init.center_view()\n",
    "wdg_init.display(gui=True)"
   ]
  },
  {
   "cell_type": "code",
   "execution_count": 6,
   "metadata": {},
   "outputs": [
    {
     "data": {
      "application/vnd.jupyter.widget-view+json": {
       "model_id": "a616e0ff4d5b44a9b4cef9098c7ad5d5"
      }
     },
     "metadata": {},
     "output_type": "display_data"
    },
    {
     "data": {
      "application/vnd.jupyter.widget-view+json": {
       "model_id": "78ff5a77c95b4951acca4976e0669b64"
      }
     },
     "metadata": {},
     "output_type": "display_data"
    }
   ],
   "source": [
    "# Visualize zwitterionic form after minimisation in the solvent!\n",
    "wdg_final = nglview.show_ase(moleculeAsol)\n",
    "wdg_final.add_representation('ball+stick')\n",
    "wdg_final.center_view(range(3))\n",
    "wdg_final.display(gui=True)"
   ]
  },
  {
   "cell_type": "code",
   "execution_count": 8,
   "metadata": {},
   "outputs": [
    {
     "data": {
      "application/vnd.jupyter.widget-view+json": {
       "model_id": "a198ee85ea6a441f9693ebcf9a600da5"
      }
     },
     "metadata": {},
     "output_type": "display_data"
    },
    {
     "data": {
      "application/vnd.jupyter.widget-view+json": {
       "model_id": "fee7c9c0ae2740b08f1991befb35432a"
      }
     },
     "metadata": {},
     "output_type": "display_data"
    }
   ],
   "source": [
    "# Visualize neutral form before minimisation!\n",
    "wdg_init = nglview.show_structure_file(\"input/B.pdb\")\n",
    "wdg_init.add_representation('ball+stick')\n",
    "wdg_init.center_view()\n",
    "wdg_init.display(gui=True)"
   ]
  },
  {
   "cell_type": "code",
   "execution_count": 9,
   "metadata": {},
   "outputs": [
    {
     "data": {
      "application/vnd.jupyter.widget-view+json": {
       "model_id": "8e48bfce87e547b6a691e12cce918ddc"
      }
     },
     "metadata": {},
     "output_type": "display_data"
    },
    {
     "data": {
      "application/vnd.jupyter.widget-view+json": {
       "model_id": "fb1ba20ea07c48dd831e95b2f20323c8"
      }
     },
     "metadata": {},
     "output_type": "display_data"
    }
   ],
   "source": [
    "# Visualize neutral form after minimisation in the solvent!\n",
    "wdg_final = nglview.show_ase(moleculeBsol)\n",
    "wdg_final.add_representation('ball+stick')\n",
    "wdg_final.center_view(range(3))\n",
    "wdg_final.display(gui=True)"
   ]
  },
  {
   "cell_type": "markdown",
   "metadata": {},
   "source": [
    "Finding reaction energy barrier :"
   ]
  },
  {
   "cell_type": "code",
   "execution_count": null,
   "metadata": {
    "collapsed": true
   },
   "outputs": [],
   "source": [
    "# Mopac command\n",
    "calc = Mopac(restart=0, spin=0, OPT=False, functional='PM6', job_type='NOANCI 1SCF GRADIENTS EPS=80.1 AUX(0,PRECISION=9)', RELSCF=0.0001)\n",
    "\n",
    "# Read initial and final states: (please be sure that you load minimised structures)\n",
    "\n",
    "initial = read('output/A.opt.sol.xyz')\n",
    "final = read('output/B.opt.sol.xyz')\n",
    "\n",
    "# Neb or other methods to find the energy barrier\n",
    "# Make a band consisting of n images:\n",
    "n=20\n",
    "images = [initial]\n",
    "images += [initial.copy() for i in range(n-2)]\n",
    "images += [final]\n",
    "neb = NEB(images)\n",
    "\n",
    "# Interpolate linearly the potisions of the three middle images:\n",
    "neb.interpolate()\n",
    "\n",
    "# Set calculators:\n",
    "for image in images:\n",
    "    image.set_calculator(calc)\n",
    "\n",
    "# Optimize:\n",
    "optimizer = BFGS(neb, trajectory='output/A2B.traj')\n",
    "optimizer.run(fmax=0.04, steps=10)\n",
    "\n",
    "# plot energy profile\n",
    "ei = [eV_in_kcal_per_mol*image.get_potential_energy() for image in images]\n",
    "p=[image.get_distance(atomC, atomA) for image in images]\n",
    "import matplotlib.pyplot as pyplot\n",
    "pyplot.title('NEB')\n",
    "pyplot.ylabel('energy/kcal/mol',fontsize=18)        \n",
    "pyplot.xlabel('RMSD/Angstrom',fontsize=18)\n",
    "pyplot.plot(p,ei,'o',label=\"scan\")\n",
    "pyplot.show()"
   ]
  },
  {
   "cell_type": "code",
   "execution_count": null,
   "metadata": {
    "collapsed": true
   },
   "outputs": [],
   "source": []
  }
 ],
 "metadata": {
  "kernelspec": {
   "display_name": "Python 2",
   "language": "python",
   "name": "python2"
  },
  "language_info": {
   "codemirror_mode": {
    "name": "ipython",
    "version": 2
   },
   "file_extension": ".py",
   "mimetype": "text/x-python",
   "name": "python",
   "nbconvert_exporter": "python",
   "pygments_lexer": "ipython2",
   "version": "2.7.13"
  }
 },
 "nbformat": 4,
 "nbformat_minor": 2
}
